{
 "cells": [
  {
   "cell_type": "code",
   "execution_count": 1,
   "metadata": {},
   "outputs": [
    {
     "name": "stderr",
     "output_type": "stream",
     "text": [
      "C:\\Users\\Abhinay.Verma\\AppData\\Local\\Continuum\\anaconda3\\lib\\site-packages\\statsmodels\\tools\\_testing.py:19: FutureWarning: pandas.util.testing is deprecated. Use the functions in the public API at pandas.testing instead.\n",
      "  import pandas.util.testing as tm\n"
     ]
    }
   ],
   "source": [
    "import pandas as pd\n",
    "import numpy as np\n",
    "import matplotlib.pyplot as plt\n",
    "import seaborn as sns"
   ]
  },
  {
   "cell_type": "code",
   "execution_count": 58,
   "metadata": {},
   "outputs": [
    {
     "data": {
      "text/html": [
       "<div>\n",
       "<style scoped>\n",
       "    .dataframe tbody tr th:only-of-type {\n",
       "        vertical-align: middle;\n",
       "    }\n",
       "\n",
       "    .dataframe tbody tr th {\n",
       "        vertical-align: top;\n",
       "    }\n",
       "\n",
       "    .dataframe thead th {\n",
       "        text-align: right;\n",
       "    }\n",
       "</style>\n",
       "<table border=\"1\" class=\"dataframe\">\n",
       "  <thead>\n",
       "    <tr style=\"text-align: right;\">\n",
       "      <th></th>\n",
       "      <th>Unnamed: 0</th>\n",
       "      <th>id</th>\n",
       "      <th>date</th>\n",
       "      <th>price</th>\n",
       "      <th>bedrooms</th>\n",
       "      <th>bathrooms</th>\n",
       "      <th>sqft_living</th>\n",
       "      <th>sqft_lot</th>\n",
       "      <th>floors</th>\n",
       "      <th>waterfront</th>\n",
       "      <th>...</th>\n",
       "      <th>grade</th>\n",
       "      <th>sqft_above</th>\n",
       "      <th>sqft_basement</th>\n",
       "      <th>yr_built</th>\n",
       "      <th>yr_renovated</th>\n",
       "      <th>zipcode</th>\n",
       "      <th>lat</th>\n",
       "      <th>long</th>\n",
       "      <th>sqft_living15</th>\n",
       "      <th>sqft_lot15</th>\n",
       "    </tr>\n",
       "  </thead>\n",
       "  <tbody>\n",
       "    <tr>\n",
       "      <th>0</th>\n",
       "      <td>0</td>\n",
       "      <td>7129300520</td>\n",
       "      <td>20141013T000000</td>\n",
       "      <td>221900.0</td>\n",
       "      <td>3</td>\n",
       "      <td>1.00</td>\n",
       "      <td>1180</td>\n",
       "      <td>5650</td>\n",
       "      <td>1.0</td>\n",
       "      <td>0</td>\n",
       "      <td>...</td>\n",
       "      <td>7</td>\n",
       "      <td>1180</td>\n",
       "      <td>0</td>\n",
       "      <td>1955</td>\n",
       "      <td>0</td>\n",
       "      <td>98178</td>\n",
       "      <td>47.5112</td>\n",
       "      <td>-122.257</td>\n",
       "      <td>1340</td>\n",
       "      <td>5650</td>\n",
       "    </tr>\n",
       "    <tr>\n",
       "      <th>1</th>\n",
       "      <td>1</td>\n",
       "      <td>6414100192</td>\n",
       "      <td>20141209T000000</td>\n",
       "      <td>538000.0</td>\n",
       "      <td>3</td>\n",
       "      <td>2.25</td>\n",
       "      <td>2570</td>\n",
       "      <td>7242</td>\n",
       "      <td>2.0</td>\n",
       "      <td>0</td>\n",
       "      <td>...</td>\n",
       "      <td>7</td>\n",
       "      <td>2170</td>\n",
       "      <td>400</td>\n",
       "      <td>1951</td>\n",
       "      <td>1991</td>\n",
       "      <td>98125</td>\n",
       "      <td>47.7210</td>\n",
       "      <td>-122.319</td>\n",
       "      <td>1690</td>\n",
       "      <td>7639</td>\n",
       "    </tr>\n",
       "    <tr>\n",
       "      <th>2</th>\n",
       "      <td>2</td>\n",
       "      <td>5631500400</td>\n",
       "      <td>20150225T000000</td>\n",
       "      <td>180000.0</td>\n",
       "      <td>2</td>\n",
       "      <td>1.00</td>\n",
       "      <td>770</td>\n",
       "      <td>10000</td>\n",
       "      <td>1.0</td>\n",
       "      <td>0</td>\n",
       "      <td>...</td>\n",
       "      <td>6</td>\n",
       "      <td>770</td>\n",
       "      <td>0</td>\n",
       "      <td>1933</td>\n",
       "      <td>0</td>\n",
       "      <td>98028</td>\n",
       "      <td>47.7379</td>\n",
       "      <td>-122.233</td>\n",
       "      <td>2720</td>\n",
       "      <td>8062</td>\n",
       "    </tr>\n",
       "    <tr>\n",
       "      <th>3</th>\n",
       "      <td>3</td>\n",
       "      <td>2487200875</td>\n",
       "      <td>20141209T000000</td>\n",
       "      <td>604000.0</td>\n",
       "      <td>4</td>\n",
       "      <td>3.00</td>\n",
       "      <td>1960</td>\n",
       "      <td>5000</td>\n",
       "      <td>1.0</td>\n",
       "      <td>0</td>\n",
       "      <td>...</td>\n",
       "      <td>7</td>\n",
       "      <td>1050</td>\n",
       "      <td>910</td>\n",
       "      <td>1965</td>\n",
       "      <td>0</td>\n",
       "      <td>98136</td>\n",
       "      <td>47.5208</td>\n",
       "      <td>-122.393</td>\n",
       "      <td>1360</td>\n",
       "      <td>5000</td>\n",
       "    </tr>\n",
       "    <tr>\n",
       "      <th>4</th>\n",
       "      <td>4</td>\n",
       "      <td>1954400510</td>\n",
       "      <td>20150218T000000</td>\n",
       "      <td>510000.0</td>\n",
       "      <td>3</td>\n",
       "      <td>2.00</td>\n",
       "      <td>1680</td>\n",
       "      <td>8080</td>\n",
       "      <td>1.0</td>\n",
       "      <td>0</td>\n",
       "      <td>...</td>\n",
       "      <td>8</td>\n",
       "      <td>1680</td>\n",
       "      <td>0</td>\n",
       "      <td>1987</td>\n",
       "      <td>0</td>\n",
       "      <td>98074</td>\n",
       "      <td>47.6168</td>\n",
       "      <td>-122.045</td>\n",
       "      <td>1800</td>\n",
       "      <td>7503</td>\n",
       "    </tr>\n",
       "  </tbody>\n",
       "</table>\n",
       "<p>5 rows × 22 columns</p>\n",
       "</div>"
      ],
      "text/plain": [
       "   Unnamed: 0          id             date     price  bedrooms  bathrooms  \\\n",
       "0           0  7129300520  20141013T000000  221900.0         3       1.00   \n",
       "1           1  6414100192  20141209T000000  538000.0         3       2.25   \n",
       "2           2  5631500400  20150225T000000  180000.0         2       1.00   \n",
       "3           3  2487200875  20141209T000000  604000.0         4       3.00   \n",
       "4           4  1954400510  20150218T000000  510000.0         3       2.00   \n",
       "\n",
       "   sqft_living  sqft_lot  floors  waterfront  ...  grade  sqft_above  \\\n",
       "0         1180      5650     1.0           0  ...      7        1180   \n",
       "1         2570      7242     2.0           0  ...      7        2170   \n",
       "2          770     10000     1.0           0  ...      6         770   \n",
       "3         1960      5000     1.0           0  ...      7        1050   \n",
       "4         1680      8080     1.0           0  ...      8        1680   \n",
       "\n",
       "   sqft_basement  yr_built  yr_renovated  zipcode      lat     long  \\\n",
       "0              0      1955             0    98178  47.5112 -122.257   \n",
       "1            400      1951          1991    98125  47.7210 -122.319   \n",
       "2              0      1933             0    98028  47.7379 -122.233   \n",
       "3            910      1965             0    98136  47.5208 -122.393   \n",
       "4              0      1987             0    98074  47.6168 -122.045   \n",
       "\n",
       "   sqft_living15  sqft_lot15  \n",
       "0           1340        5650  \n",
       "1           1690        7639  \n",
       "2           2720        8062  \n",
       "3           1360        5000  \n",
       "4           1800        7503  \n",
       "\n",
       "[5 rows x 22 columns]"
      ]
     },
     "execution_count": 58,
     "metadata": {},
     "output_type": "execute_result"
    }
   ],
   "source": [
    "df = pd.read_csv('House_Data.csv')\n",
    "df.head()"
   ]
  },
  {
   "cell_type": "code",
   "execution_count": 59,
   "metadata": {},
   "outputs": [],
   "source": [
    "df.drop(['Unnamed: 0'], axis=1,inplace=True)"
   ]
  },
  {
   "cell_type": "code",
   "execution_count": 60,
   "metadata": {},
   "outputs": [
    {
     "data": {
      "text/plain": [
       "array([1. , 2. , 1.5, 3. , 2.5, 3.5])"
      ]
     },
     "execution_count": 60,
     "metadata": {},
     "output_type": "execute_result"
    }
   ],
   "source": [
    "df.floors.unique()"
   ]
  },
  {
   "cell_type": "code",
   "execution_count": 61,
   "metadata": {},
   "outputs": [
    {
     "data": {
      "text/plain": [
       "id                 int64\n",
       "date              object\n",
       "price            float64\n",
       "bedrooms           int64\n",
       "bathrooms        float64\n",
       "sqft_living        int64\n",
       "sqft_lot           int64\n",
       "floors           float64\n",
       "waterfront         int64\n",
       "view               int64\n",
       "condition          int64\n",
       "grade              int64\n",
       "sqft_above         int64\n",
       "sqft_basement      int64\n",
       "yr_built           int64\n",
       "yr_renovated       int64\n",
       "zipcode            int64\n",
       "lat              float64\n",
       "long             float64\n",
       "sqft_living15      int64\n",
       "sqft_lot15         int64\n",
       "dtype: object"
      ]
     },
     "execution_count": 61,
     "metadata": {},
     "output_type": "execute_result"
    }
   ],
   "source": [
    "df.dtypes"
   ]
  },
  {
   "cell_type": "code",
   "execution_count": 62,
   "metadata": {},
   "outputs": [
    {
     "data": {
      "text/plain": [
       "id               0\n",
       "date             0\n",
       "price            0\n",
       "bedrooms         0\n",
       "bathrooms        0\n",
       "sqft_living      0\n",
       "sqft_lot         0\n",
       "floors           0\n",
       "waterfront       0\n",
       "view             0\n",
       "condition        0\n",
       "grade            0\n",
       "sqft_above       0\n",
       "sqft_basement    0\n",
       "yr_built         0\n",
       "yr_renovated     0\n",
       "zipcode          0\n",
       "lat              0\n",
       "long             0\n",
       "sqft_living15    0\n",
       "sqft_lot15       0\n",
       "dtype: int64"
      ]
     },
     "execution_count": 62,
     "metadata": {},
     "output_type": "execute_result"
    }
   ],
   "source": [
    "df.isnull().sum()"
   ]
  },
  {
   "cell_type": "code",
   "execution_count": 63,
   "metadata": {},
   "outputs": [
    {
     "data": {
      "text/plain": [
       "(21613, 21)"
      ]
     },
     "execution_count": 63,
     "metadata": {},
     "output_type": "execute_result"
    }
   ],
   "source": [
    "df.shape"
   ]
  },
  {
   "cell_type": "code",
   "execution_count": 64,
   "metadata": {},
   "outputs": [],
   "source": [
    "house_df = df.copy()"
   ]
  },
  {
   "cell_type": "code",
   "execution_count": 65,
   "metadata": {},
   "outputs": [],
   "source": [
    "house_df.drop(['id','date'],axis=1,inplace=True)"
   ]
  },
  {
   "cell_type": "code",
   "execution_count": 66,
   "metadata": {},
   "outputs": [
    {
     "data": {
      "text/html": [
       "<div>\n",
       "<style scoped>\n",
       "    .dataframe tbody tr th:only-of-type {\n",
       "        vertical-align: middle;\n",
       "    }\n",
       "\n",
       "    .dataframe tbody tr th {\n",
       "        vertical-align: top;\n",
       "    }\n",
       "\n",
       "    .dataframe thead th {\n",
       "        text-align: right;\n",
       "    }\n",
       "</style>\n",
       "<table border=\"1\" class=\"dataframe\">\n",
       "  <thead>\n",
       "    <tr style=\"text-align: right;\">\n",
       "      <th></th>\n",
       "      <th>price</th>\n",
       "      <th>bedrooms</th>\n",
       "      <th>bathrooms</th>\n",
       "      <th>sqft_living</th>\n",
       "      <th>sqft_lot</th>\n",
       "      <th>floors</th>\n",
       "      <th>waterfront</th>\n",
       "      <th>view</th>\n",
       "      <th>condition</th>\n",
       "      <th>grade</th>\n",
       "      <th>sqft_above</th>\n",
       "      <th>sqft_basement</th>\n",
       "      <th>yr_built</th>\n",
       "      <th>yr_renovated</th>\n",
       "      <th>zipcode</th>\n",
       "      <th>lat</th>\n",
       "      <th>long</th>\n",
       "      <th>sqft_living15</th>\n",
       "      <th>sqft_lot15</th>\n",
       "    </tr>\n",
       "  </thead>\n",
       "  <tbody>\n",
       "    <tr>\n",
       "      <th>0</th>\n",
       "      <td>221900.0</td>\n",
       "      <td>3</td>\n",
       "      <td>1.00</td>\n",
       "      <td>1180</td>\n",
       "      <td>5650</td>\n",
       "      <td>1.0</td>\n",
       "      <td>0</td>\n",
       "      <td>0</td>\n",
       "      <td>3</td>\n",
       "      <td>7</td>\n",
       "      <td>1180</td>\n",
       "      <td>0</td>\n",
       "      <td>1955</td>\n",
       "      <td>0</td>\n",
       "      <td>98178</td>\n",
       "      <td>47.5112</td>\n",
       "      <td>-122.257</td>\n",
       "      <td>1340</td>\n",
       "      <td>5650</td>\n",
       "    </tr>\n",
       "    <tr>\n",
       "      <th>1</th>\n",
       "      <td>538000.0</td>\n",
       "      <td>3</td>\n",
       "      <td>2.25</td>\n",
       "      <td>2570</td>\n",
       "      <td>7242</td>\n",
       "      <td>2.0</td>\n",
       "      <td>0</td>\n",
       "      <td>0</td>\n",
       "      <td>3</td>\n",
       "      <td>7</td>\n",
       "      <td>2170</td>\n",
       "      <td>400</td>\n",
       "      <td>1951</td>\n",
       "      <td>1991</td>\n",
       "      <td>98125</td>\n",
       "      <td>47.7210</td>\n",
       "      <td>-122.319</td>\n",
       "      <td>1690</td>\n",
       "      <td>7639</td>\n",
       "    </tr>\n",
       "    <tr>\n",
       "      <th>2</th>\n",
       "      <td>180000.0</td>\n",
       "      <td>2</td>\n",
       "      <td>1.00</td>\n",
       "      <td>770</td>\n",
       "      <td>10000</td>\n",
       "      <td>1.0</td>\n",
       "      <td>0</td>\n",
       "      <td>0</td>\n",
       "      <td>3</td>\n",
       "      <td>6</td>\n",
       "      <td>770</td>\n",
       "      <td>0</td>\n",
       "      <td>1933</td>\n",
       "      <td>0</td>\n",
       "      <td>98028</td>\n",
       "      <td>47.7379</td>\n",
       "      <td>-122.233</td>\n",
       "      <td>2720</td>\n",
       "      <td>8062</td>\n",
       "    </tr>\n",
       "    <tr>\n",
       "      <th>3</th>\n",
       "      <td>604000.0</td>\n",
       "      <td>4</td>\n",
       "      <td>3.00</td>\n",
       "      <td>1960</td>\n",
       "      <td>5000</td>\n",
       "      <td>1.0</td>\n",
       "      <td>0</td>\n",
       "      <td>0</td>\n",
       "      <td>5</td>\n",
       "      <td>7</td>\n",
       "      <td>1050</td>\n",
       "      <td>910</td>\n",
       "      <td>1965</td>\n",
       "      <td>0</td>\n",
       "      <td>98136</td>\n",
       "      <td>47.5208</td>\n",
       "      <td>-122.393</td>\n",
       "      <td>1360</td>\n",
       "      <td>5000</td>\n",
       "    </tr>\n",
       "    <tr>\n",
       "      <th>4</th>\n",
       "      <td>510000.0</td>\n",
       "      <td>3</td>\n",
       "      <td>2.00</td>\n",
       "      <td>1680</td>\n",
       "      <td>8080</td>\n",
       "      <td>1.0</td>\n",
       "      <td>0</td>\n",
       "      <td>0</td>\n",
       "      <td>3</td>\n",
       "      <td>8</td>\n",
       "      <td>1680</td>\n",
       "      <td>0</td>\n",
       "      <td>1987</td>\n",
       "      <td>0</td>\n",
       "      <td>98074</td>\n",
       "      <td>47.6168</td>\n",
       "      <td>-122.045</td>\n",
       "      <td>1800</td>\n",
       "      <td>7503</td>\n",
       "    </tr>\n",
       "  </tbody>\n",
       "</table>\n",
       "</div>"
      ],
      "text/plain": [
       "      price  bedrooms  bathrooms  sqft_living  sqft_lot  floors  waterfront  \\\n",
       "0  221900.0         3       1.00         1180      5650     1.0           0   \n",
       "1  538000.0         3       2.25         2570      7242     2.0           0   \n",
       "2  180000.0         2       1.00          770     10000     1.0           0   \n",
       "3  604000.0         4       3.00         1960      5000     1.0           0   \n",
       "4  510000.0         3       2.00         1680      8080     1.0           0   \n",
       "\n",
       "   view  condition  grade  sqft_above  sqft_basement  yr_built  yr_renovated  \\\n",
       "0     0          3      7        1180              0      1955             0   \n",
       "1     0          3      7        2170            400      1951          1991   \n",
       "2     0          3      6         770              0      1933             0   \n",
       "3     0          5      7        1050            910      1965             0   \n",
       "4     0          3      8        1680              0      1987             0   \n",
       "\n",
       "   zipcode      lat     long  sqft_living15  sqft_lot15  \n",
       "0    98178  47.5112 -122.257           1340        5650  \n",
       "1    98125  47.7210 -122.319           1690        7639  \n",
       "2    98028  47.7379 -122.233           2720        8062  \n",
       "3    98136  47.5208 -122.393           1360        5000  \n",
       "4    98074  47.6168 -122.045           1800        7503  "
      ]
     },
     "execution_count": 66,
     "metadata": {},
     "output_type": "execute_result"
    }
   ],
   "source": [
    "house_df.head()"
   ]
  },
  {
   "cell_type": "code",
   "execution_count": 67,
   "metadata": {},
   "outputs": [
    {
     "data": {
      "text/plain": [
       "array([1955, 1951, 1933, 1965, 1987, 2001, 1995, 1963, 1960, 2003, 1942,\n",
       "       1927, 1977, 1900, 1979, 1994, 1916, 1921, 1969, 1947, 1968, 1985,\n",
       "       1941, 1915, 1909, 1948, 2005, 1929, 1981, 1930, 1904, 1996, 2000,\n",
       "       1984, 2014, 1922, 1959, 1966, 1953, 1950, 2008, 1991, 1954, 1973,\n",
       "       1925, 1989, 1972, 1986, 1956, 2002, 1992, 1964, 1952, 1961, 2006,\n",
       "       1988, 1962, 1939, 1946, 1967, 1975, 1980, 1910, 1983, 1978, 1905,\n",
       "       1971, 2010, 1945, 1924, 1990, 1914, 1926, 2004, 1923, 2007, 1976,\n",
       "       1949, 1999, 1901, 1993, 1920, 1997, 1943, 1957, 1940, 1918, 1928,\n",
       "       1974, 1911, 1936, 1937, 1982, 1908, 1931, 1998, 1913, 2013, 1907,\n",
       "       1958, 2012, 1912, 2011, 1917, 1932, 1944, 1902, 2009, 1903, 1970,\n",
       "       2015, 1934, 1938, 1919, 1906, 1935], dtype=int64)"
      ]
     },
     "execution_count": 67,
     "metadata": {},
     "output_type": "execute_result"
    }
   ],
   "source": [
    "house_df.yr_built.unique()"
   ]
  },
  {
   "cell_type": "code",
   "execution_count": 68,
   "metadata": {},
   "outputs": [
    {
     "data": {
      "text/plain": [
       "array([   0, 1991, 2002, 2010, 1999, 1992, 2013, 1994, 1978, 2005, 2008,\n",
       "       2003, 1984, 1954, 2014, 2011, 1974, 1983, 1945, 1990, 1988, 1957,\n",
       "       1977, 1981, 1995, 2000, 1998, 1970, 1989, 2004, 1986, 2009, 2007,\n",
       "       1987, 1973, 2006, 1985, 2001, 1980, 1971, 1979, 1997, 1950, 1969,\n",
       "       1948, 2015, 1968, 2012, 1963, 1951, 1993, 1962, 1996, 1972, 1953,\n",
       "       1955, 1982, 1956, 1940, 1976, 1946, 1975, 1958, 1964, 1959, 1960,\n",
       "       1967, 1965, 1934, 1944], dtype=int64)"
      ]
     },
     "execution_count": 68,
     "metadata": {},
     "output_type": "execute_result"
    }
   ],
   "source": [
    "house_df.yr_renovated.unique()"
   ]
  },
  {
   "cell_type": "code",
   "execution_count": 69,
   "metadata": {},
   "outputs": [
    {
     "data": {
      "text/plain": [
       "<matplotlib.axes._subplots.AxesSubplot at 0x2883a385348>"
      ]
     },
     "execution_count": 69,
     "metadata": {},
     "output_type": "execute_result"
    },
    {
     "data": {
      "image/png": "[encoded data removed]",
      "text/plain": [
       "<Figure size 432x288 with 1 Axes>"
      ]
     },
     "metadata": {
      "needs_background": "light"
     },
     "output_type": "display_data"
    }
   ],
   "source": [
    "sns.scatterplot(x = house_df['yr_renovated'],y=house_df['price'])"
   ]
  },
  {
   "cell_type": "code",
   "execution_count": 70,
   "metadata": {},
   "outputs": [
    {
     "data": {
      "text/plain": [
       "<matplotlib.axes._subplots.AxesSubplot at 0x28842a9dc88>"
      ]
     },
     "execution_count": 70,
     "metadata": {},
     "output_type": "execute_result"
    },
    {
     "data": {
      "image/png": "[encoded data removed]",
      "text/plain": [
       "<Figure size 432x288 with 1 Axes>"
      ]
     },
     "metadata": {
      "needs_background": "light"
     },
     "output_type": "display_data"
    }
   ],
   "source": [
    "sns.scatterplot(x=house_df['yr_built'],y=house_df['price'])"
   ]
  },
  {
   "cell_type": "code",
   "execution_count": 71,
   "metadata": {},
   "outputs": [
    {
     "data": {
      "text/plain": [
       "<matplotlib.axes._subplots.AxesSubplot at 0x2880b6049c8>"
      ]
     },
     "execution_count": 71,
     "metadata": {},
     "output_type": "execute_result"
    },
    {
     "data": {
      "image/png": "[encoded data removed]",
      "text/plain": [
       "<Figure size 432x288 with 1 Axes>"
      ]
     },
     "metadata": {
      "needs_background": "light"
     },
     "output_type": "display_data"
    }
   ],
   "source": [
    "sns.scatterplot(x=house_df['sqft_living'],y=house_df['price'])"
   ]
  },
  {
   "cell_type": "code",
   "execution_count": 72,
   "metadata": {},
   "outputs": [
    {
     "data": {
      "text/plain": [
       "<matplotlib.axes._subplots.AxesSubplot at 0x2880b60bf08>"
      ]
     },
     "execution_count": 72,
     "metadata": {},
     "output_type": "execute_result"
    },
    {
     "data": {
      "image/png": "[encoded data removed]",
      "text/plain": [
       "<Figure size 1440x1080 with 2 Axes>"
      ]
     },
     "metadata": {
      "needs_background": "light"
     },
     "output_type": "display_data"
    }
   ],
   "source": [
    "plt.figure(figsize=(20,15))\n",
    "corr = house_df.corr()\n",
    "sns.heatmap(corr, annot=True)"
   ]
  },
  {
   "cell_type": "code",
   "execution_count": 73,
   "metadata": {},
   "outputs": [
    {
     "data": {
      "text/html": [
       "<div>\n",
       "<style scoped>\n",
       "    .dataframe tbody tr th:only-of-type {\n",
       "        vertical-align: middle;\n",
       "    }\n",
       "\n",
       "    .dataframe tbody tr th {\n",
       "        vertical-align: top;\n",
       "    }\n",
       "\n",
       "    .dataframe thead th {\n",
       "        text-align: right;\n",
       "    }\n",
       "</style>\n",
       "<table border=\"1\" class=\"dataframe\">\n",
       "  <thead>\n",
       "    <tr style=\"text-align: right;\">\n",
       "      <th></th>\n",
       "      <th>price</th>\n",
       "      <th>bedrooms</th>\n",
       "      <th>bathrooms</th>\n",
       "      <th>sqft_living</th>\n",
       "      <th>sqft_lot</th>\n",
       "      <th>floors</th>\n",
       "      <th>waterfront</th>\n",
       "      <th>view</th>\n",
       "      <th>condition</th>\n",
       "      <th>grade</th>\n",
       "      <th>sqft_above</th>\n",
       "      <th>sqft_basement</th>\n",
       "      <th>yr_built</th>\n",
       "      <th>yr_renovated</th>\n",
       "      <th>zipcode</th>\n",
       "      <th>lat</th>\n",
       "      <th>long</th>\n",
       "      <th>sqft_living15</th>\n",
       "      <th>sqft_lot15</th>\n",
       "    </tr>\n",
       "  </thead>\n",
       "  <tbody>\n",
       "    <tr>\n",
       "      <th>0</th>\n",
       "      <td>221900.0</td>\n",
       "      <td>3</td>\n",
       "      <td>1.00</td>\n",
       "      <td>1180</td>\n",
       "      <td>5650</td>\n",
       "      <td>1.0</td>\n",
       "      <td>0</td>\n",
       "      <td>0</td>\n",
       "      <td>3</td>\n",
       "      <td>7</td>\n",
       "      <td>1180</td>\n",
       "      <td>0</td>\n",
       "      <td>1955</td>\n",
       "      <td>0</td>\n",
       "      <td>98178</td>\n",
       "      <td>47.5112</td>\n",
       "      <td>-122.257</td>\n",
       "      <td>1340</td>\n",
       "      <td>5650</td>\n",
       "    </tr>\n",
       "    <tr>\n",
       "      <th>1</th>\n",
       "      <td>538000.0</td>\n",
       "      <td>3</td>\n",
       "      <td>2.25</td>\n",
       "      <td>2570</td>\n",
       "      <td>7242</td>\n",
       "      <td>2.0</td>\n",
       "      <td>0</td>\n",
       "      <td>0</td>\n",
       "      <td>3</td>\n",
       "      <td>7</td>\n",
       "      <td>2170</td>\n",
       "      <td>400</td>\n",
       "      <td>1951</td>\n",
       "      <td>1991</td>\n",
       "      <td>98125</td>\n",
       "      <td>47.7210</td>\n",
       "      <td>-122.319</td>\n",
       "      <td>1690</td>\n",
       "      <td>7639</td>\n",
       "    </tr>\n",
       "    <tr>\n",
       "      <th>2</th>\n",
       "      <td>180000.0</td>\n",
       "      <td>2</td>\n",
       "      <td>1.00</td>\n",
       "      <td>770</td>\n",
       "      <td>10000</td>\n",
       "      <td>1.0</td>\n",
       "      <td>0</td>\n",
       "      <td>0</td>\n",
       "      <td>3</td>\n",
       "      <td>6</td>\n",
       "      <td>770</td>\n",
       "      <td>0</td>\n",
       "      <td>1933</td>\n",
       "      <td>0</td>\n",
       "      <td>98028</td>\n",
       "      <td>47.7379</td>\n",
       "      <td>-122.233</td>\n",
       "      <td>2720</td>\n",
       "      <td>8062</td>\n",
       "    </tr>\n",
       "    <tr>\n",
       "      <th>3</th>\n",
       "      <td>604000.0</td>\n",
       "      <td>4</td>\n",
       "      <td>3.00</td>\n",
       "      <td>1960</td>\n",
       "      <td>5000</td>\n",
       "      <td>1.0</td>\n",
       "      <td>0</td>\n",
       "      <td>0</td>\n",
       "      <td>5</td>\n",
       "      <td>7</td>\n",
       "      <td>1050</td>\n",
       "      <td>910</td>\n",
       "      <td>1965</td>\n",
       "      <td>0</td>\n",
       "      <td>98136</td>\n",
       "      <td>47.5208</td>\n",
       "      <td>-122.393</td>\n",
       "      <td>1360</td>\n",
       "      <td>5000</td>\n",
       "    </tr>\n",
       "    <tr>\n",
       "      <th>4</th>\n",
       "      <td>510000.0</td>\n",
       "      <td>3</td>\n",
       "      <td>2.00</td>\n",
       "      <td>1680</td>\n",
       "      <td>8080</td>\n",
       "      <td>1.0</td>\n",
       "      <td>0</td>\n",
       "      <td>0</td>\n",
       "      <td>3</td>\n",
       "      <td>8</td>\n",
       "      <td>1680</td>\n",
       "      <td>0</td>\n",
       "      <td>1987</td>\n",
       "      <td>0</td>\n",
       "      <td>98074</td>\n",
       "      <td>47.6168</td>\n",
       "      <td>-122.045</td>\n",
       "      <td>1800</td>\n",
       "      <td>7503</td>\n",
       "    </tr>\n",
       "  </tbody>\n",
       "</table>\n",
       "</div>"
      ],
      "text/plain": [
       "      price  bedrooms  bathrooms  sqft_living  sqft_lot  floors  waterfront  \\\n",
       "0  221900.0         3       1.00         1180      5650     1.0           0   \n",
       "1  538000.0         3       2.25         2570      7242     2.0           0   \n",
       "2  180000.0         2       1.00          770     10000     1.0           0   \n",
       "3  604000.0         4       3.00         1960      5000     1.0           0   \n",
       "4  510000.0         3       2.00         1680      8080     1.0           0   \n",
       "\n",
       "   view  condition  grade  sqft_above  sqft_basement  yr_built  yr_renovated  \\\n",
       "0     0          3      7        1180              0      1955             0   \n",
       "1     0          3      7        2170            400      1951          1991   \n",
       "2     0          3      6         770              0      1933             0   \n",
       "3     0          5      7        1050            910      1965             0   \n",
       "4     0          3      8        1680              0      1987             0   \n",
       "\n",
       "   zipcode      lat     long  sqft_living15  sqft_lot15  \n",
       "0    98178  47.5112 -122.257           1340        5650  \n",
       "1    98125  47.7210 -122.319           1690        7639  \n",
       "2    98028  47.7379 -122.233           2720        8062  \n",
       "3    98136  47.5208 -122.393           1360        5000  \n",
       "4    98074  47.6168 -122.045           1800        7503  "
      ]
     },
     "execution_count": 73,
     "metadata": {},
     "output_type": "execute_result"
    }
   ],
   "source": [
    "house_df.head()"
   ]
  },
  {
   "cell_type": "code",
   "execution_count": 74,
   "metadata": {},
   "outputs": [
    {
     "data": {
      "text/plain": [
       "array([3, 5, 4, 1, 2], dtype=int64)"
      ]
     },
     "execution_count": 74,
     "metadata": {},
     "output_type": "execute_result"
    }
   ],
   "source": [
    "house_df.condition.unique()"
   ]
  },
  {
   "cell_type": "code",
   "execution_count": 75,
   "metadata": {},
   "outputs": [],
   "source": [
    "X = house_df.iloc[:,1:]\n",
    "y = house_df.iloc[:,0]"
   ]
  },
  {
   "cell_type": "code",
   "execution_count": 76,
   "metadata": {},
   "outputs": [
    {
     "data": {
      "text/html": [
       "<div>\n",
       "<style scoped>\n",
       "    .dataframe tbody tr th:only-of-type {\n",
       "        vertical-align: middle;\n",
       "    }\n",
       "\n",
       "    .dataframe tbody tr th {\n",
       "        vertical-align: top;\n",
       "    }\n",
       "\n",
       "    .dataframe thead th {\n",
       "        text-align: right;\n",
       "    }\n",
       "</style>\n",
       "<table border=\"1\" class=\"dataframe\">\n",
       "  <thead>\n",
       "    <tr style=\"text-align: right;\">\n",
       "      <th></th>\n",
       "      <th>bedrooms</th>\n",
       "      <th>bathrooms</th>\n",
       "      <th>sqft_living</th>\n",
       "      <th>sqft_lot</th>\n",
       "      <th>floors</th>\n",
       "      <th>waterfront</th>\n",
       "      <th>view</th>\n",
       "      <th>condition</th>\n",
       "      <th>grade</th>\n",
       "      <th>sqft_above</th>\n",
       "      <th>sqft_basement</th>\n",
       "      <th>yr_built</th>\n",
       "      <th>yr_renovated</th>\n",
       "      <th>zipcode</th>\n",
       "      <th>lat</th>\n",
       "      <th>long</th>\n",
       "      <th>sqft_living15</th>\n",
       "      <th>sqft_lot15</th>\n",
       "    </tr>\n",
       "  </thead>\n",
       "  <tbody>\n",
       "    <tr>\n",
       "      <th>0</th>\n",
       "      <td>3</td>\n",
       "      <td>1.00</td>\n",
       "      <td>1180</td>\n",
       "      <td>5650</td>\n",
       "      <td>1.0</td>\n",
       "      <td>0</td>\n",
       "      <td>0</td>\n",
       "      <td>3</td>\n",
       "      <td>7</td>\n",
       "      <td>1180</td>\n",
       "      <td>0</td>\n",
       "      <td>1955</td>\n",
       "      <td>0</td>\n",
       "      <td>98178</td>\n",
       "      <td>47.5112</td>\n",
       "      <td>-122.257</td>\n",
       "      <td>1340</td>\n",
       "      <td>5650</td>\n",
       "    </tr>\n",
       "    <tr>\n",
       "      <th>1</th>\n",
       "      <td>3</td>\n",
       "      <td>2.25</td>\n",
       "      <td>2570</td>\n",
       "      <td>7242</td>\n",
       "      <td>2.0</td>\n",
       "      <td>0</td>\n",
       "      <td>0</td>\n",
       "      <td>3</td>\n",
       "      <td>7</td>\n",
       "      <td>2170</td>\n",
       "      <td>400</td>\n",
       "      <td>1951</td>\n",
       "      <td>1991</td>\n",
       "      <td>98125</td>\n",
       "      <td>47.7210</td>\n",
       "      <td>-122.319</td>\n",
       "      <td>1690</td>\n",
       "      <td>7639</td>\n",
       "    </tr>\n",
       "    <tr>\n",
       "      <th>2</th>\n",
       "      <td>2</td>\n",
       "      <td>1.00</td>\n",
       "      <td>770</td>\n",
       "      <td>10000</td>\n",
       "      <td>1.0</td>\n",
       "      <td>0</td>\n",
       "      <td>0</td>\n",
       "      <td>3</td>\n",
       "      <td>6</td>\n",
       "      <td>770</td>\n",
       "      <td>0</td>\n",
       "      <td>1933</td>\n",
       "      <td>0</td>\n",
       "      <td>98028</td>\n",
       "      <td>47.7379</td>\n",
       "      <td>-122.233</td>\n",
       "      <td>2720</td>\n",
       "      <td>8062</td>\n",
       "    </tr>\n",
       "    <tr>\n",
       "      <th>3</th>\n",
       "      <td>4</td>\n",
       "      <td>3.00</td>\n",
       "      <td>1960</td>\n",
       "      <td>5000</td>\n",
       "      <td>1.0</td>\n",
       "      <td>0</td>\n",
       "      <td>0</td>\n",
       "      <td>5</td>\n",
       "      <td>7</td>\n",
       "      <td>1050</td>\n",
       "      <td>910</td>\n",
       "      <td>1965</td>\n",
       "      <td>0</td>\n",
       "      <td>98136</td>\n",
       "      <td>47.5208</td>\n",
       "      <td>-122.393</td>\n",
       "      <td>1360</td>\n",
       "      <td>5000</td>\n",
       "    </tr>\n",
       "    <tr>\n",
       "      <th>4</th>\n",
       "      <td>3</td>\n",
       "      <td>2.00</td>\n",
       "      <td>1680</td>\n",
       "      <td>8080</td>\n",
       "      <td>1.0</td>\n",
       "      <td>0</td>\n",
       "      <td>0</td>\n",
       "      <td>3</td>\n",
       "      <td>8</td>\n",
       "      <td>1680</td>\n",
       "      <td>0</td>\n",
       "      <td>1987</td>\n",
       "      <td>0</td>\n",
       "      <td>98074</td>\n",
       "      <td>47.6168</td>\n",
       "      <td>-122.045</td>\n",
       "      <td>1800</td>\n",
       "      <td>7503</td>\n",
       "    </tr>\n",
       "  </tbody>\n",
       "</table>\n",
       "</div>"
      ],
      "text/plain": [
       "   bedrooms  bathrooms  sqft_living  sqft_lot  floors  waterfront  view  \\\n",
       "0         3       1.00         1180      5650     1.0           0     0   \n",
       "1         3       2.25         2570      7242     2.0           0     0   \n",
       "2         2       1.00          770     10000     1.0           0     0   \n",
       "3         4       3.00         1960      5000     1.0           0     0   \n",
       "4         3       2.00         1680      8080     1.0           0     0   \n",
       "\n",
       "   condition  grade  sqft_above  sqft_basement  yr_built  yr_renovated  \\\n",
       "0          3      7        1180              0      1955             0   \n",
       "1          3      7        2170            400      1951          1991   \n",
       "2          3      6         770              0      1933             0   \n",
       "3          5      7        1050            910      1965             0   \n",
       "4          3      8        1680              0      1987             0   \n",
       "\n",
       "   zipcode      lat     long  sqft_living15  sqft_lot15  \n",
       "0    98178  47.5112 -122.257           1340        5650  \n",
       "1    98125  47.7210 -122.319           1690        7639  \n",
       "2    98028  47.7379 -122.233           2720        8062  \n",
       "3    98136  47.5208 -122.393           1360        5000  \n",
       "4    98074  47.6168 -122.045           1800        7503  "
      ]
     },
     "execution_count": 76,
     "metadata": {},
     "output_type": "execute_result"
    }
   ],
   "source": [
    "X.head()"
   ]
  },
  {
   "cell_type": "code",
   "execution_count": 77,
   "metadata": {},
   "outputs": [
    {
     "data": {
      "text/plain": [
       "((21613, 18), (21613,))"
      ]
     },
     "execution_count": 77,
     "metadata": {},
     "output_type": "execute_result"
    }
   ],
   "source": [
    "X.shape,y.shape"
   ]
  },
  {
   "cell_type": "code",
   "execution_count": 26,
   "metadata": {},
   "outputs": [
    {
     "data": {
      "text/plain": [
       "ExtraTreesRegressor()"
      ]
     },
     "execution_count": 26,
     "metadata": {},
     "output_type": "execute_result"
    }
   ],
   "source": [
    "from sklearn.ensemble import ExtraTreesRegressor\n",
    "model = ExtraTreesRegressor()\n",
    "model.fit(X,y)"
   ]
  },
  {
   "cell_type": "code",
   "execution_count": 27,
   "metadata": {},
   "outputs": [
    {
     "data": {
      "text/plain": [
       "array([0.00823629, 0.03964441, 0.20446319, 0.01184033, 0.00803707,\n",
       "       0.03958172, 0.04331327, 0.01005701, 0.22191854, 0.06457932,\n",
       "       0.01282969, 0.03286598, 0.0063828 , 0.02045326, 0.13976141,\n",
       "       0.04855311, 0.07515807, 0.01232455])"
      ]
     },
     "execution_count": 27,
     "metadata": {},
     "output_type": "execute_result"
    }
   ],
   "source": [
    "model.feature_importances_"
   ]
  },
  {
   "cell_type": "code",
   "execution_count": 28,
   "metadata": {},
   "outputs": [
    {
     "data": {
      "image/png": "[encoded data removed]",
      "text/plain": [
       "<Figure size 864x576 with 1 Axes>"
      ]
     },
     "metadata": {
      "needs_background": "light"
     },
     "output_type": "display_data"
    }
   ],
   "source": [
    "plt.figure(figsize = (12,8))\n",
    "feat_importances = pd.Series(model.feature_importances_, index=X.columns)\n",
    "feat_importances.nlargest(20).plot(kind='barh')\n",
    "plt.show()"
   ]
  },
  {
   "cell_type": "code",
   "execution_count": 78,
   "metadata": {},
   "outputs": [],
   "source": [
    "X.drop(['yr_renovated','sqft_basement'],axis=True,inplace=True)"
   ]
  },
  {
   "cell_type": "code",
   "execution_count": 79,
   "metadata": {},
   "outputs": [
    {
     "name": "stdout",
     "output_type": "stream",
     "text": [
      "<class 'pandas.core.frame.DataFrame'>\n",
      "RangeIndex: 21613 entries, 0 to 21612\n",
      "Data columns (total 16 columns):\n",
      " #   Column         Non-Null Count  Dtype  \n",
      "---  ------         --------------  -----  \n",
      " 0   bedrooms       21613 non-null  int64  \n",
      " 1   bathrooms      21613 non-null  float64\n",
      " 2   sqft_living    21613 non-null  int64  \n",
      " 3   sqft_lot       21613 non-null  int64  \n",
      " 4   floors         21613 non-null  float64\n",
      " 5   waterfront     21613 non-null  int64  \n",
      " 6   view           21613 non-null  int64  \n",
      " 7   condition      21613 non-null  int64  \n",
      " 8   grade          21613 non-null  int64  \n",
      " 9   sqft_above     21613 non-null  int64  \n",
      " 10  yr_built       21613 non-null  int64  \n",
      " 11  zipcode        21613 non-null  int64  \n",
      " 12  lat            21613 non-null  float64\n",
      " 13  long           21613 non-null  float64\n",
      " 14  sqft_living15  21613 non-null  int64  \n",
      " 15  sqft_lot15     21613 non-null  int64  \n",
      "dtypes: float64(4), int64(12)\n",
      "memory usage: 2.6 MB\n"
     ]
    }
   ],
   "source": [
    "X.info()"
   ]
  },
  {
   "cell_type": "code",
   "execution_count": 80,
   "metadata": {},
   "outputs": [],
   "source": [
    "from sklearn.model_selection import train_test_split\n",
    "X_train,X_test,y_train,y_test = train_test_split(X,y, test_size=0.3, random_state=0)"
   ]
  },
  {
   "cell_type": "code",
   "execution_count": 81,
   "metadata": {},
   "outputs": [
    {
     "data": {
      "text/plain": [
       "((15129, 16), (15129,))"
      ]
     },
     "execution_count": 81,
     "metadata": {},
     "output_type": "execute_result"
    }
   ],
   "source": [
    "X_train.shape,y_train.shape"
   ]
  },
  {
   "cell_type": "code",
   "execution_count": 82,
   "metadata": {},
   "outputs": [
    {
     "data": {
      "text/plain": [
       "((6484, 16), (6484,))"
      ]
     },
     "execution_count": 82,
     "metadata": {},
     "output_type": "execute_result"
    }
   ],
   "source": [
    "X_test.shape,y_test.shape"
   ]
  },
  {
   "cell_type": "code",
   "execution_count": 83,
   "metadata": {},
   "outputs": [
    {
     "name": "stdout",
     "output_type": "stream",
     "text": [
      "Learning rate set to 0.0633\n",
      "0:\tlearn: 350381.7852463\ttotal: 17.6ms\tremaining: 17.6s\n",
      "1:\tlearn: 337468.1873634\ttotal: 25.5ms\tremaining: 12.7s\n",
      "2:\tlearn: 324670.5760494\ttotal: 35.8ms\tremaining: 11.9s\n",
      "3:\tlearn: 312996.8661839\ttotal: 44ms\tremaining: 11s\n",
      "4:\tlearn: 301652.1677486\ttotal: 51.6ms\tremaining: 10.3s\n",
      "5:\tlearn: 290719.5103884\ttotal: 58.7ms\tremaining: 9.72s\n",
      "6:\tlearn: 281090.6033438\ttotal: 67.4ms\tremaining: 9.56s\n",
      "7:\tlearn: 272297.7962345\ttotal: 74ms\tremaining: 9.17s\n",
      "8:\tlearn: 264093.9808695\ttotal: 79.9ms\tremaining: 8.8s\n",
      "9:\tlearn: 256083.0700080\ttotal: 86ms\tremaining: 8.51s\n",
      "10:\tlearn: 247982.5722284\ttotal: 91.8ms\tremaining: 8.25s\n",
      "11:\tlearn: 241484.2260456\ttotal: 98ms\tremaining: 8.07s\n",
      "12:\tlearn: 235158.1081455\ttotal: 104ms\tremaining: 7.89s\n",
      "13:\tlearn: 228354.7752799\ttotal: 110ms\tremaining: 7.74s\n",
      "14:\tlearn: 222510.6563925\ttotal: 116ms\tremaining: 7.62s\n",
      "15:\tlearn: 217624.7682982\ttotal: 122ms\tremaining: 7.49s\n",
      "16:\tlearn: 212585.4789910\ttotal: 129ms\tremaining: 7.48s\n",
      "17:\tlearn: 207838.0862551\ttotal: 135ms\tremaining: 7.37s\n",
      "18:\tlearn: 203306.4651554\ttotal: 141ms\tremaining: 7.29s\n",
      "19:\tlearn: 199038.8813081\ttotal: 147ms\tremaining: 7.2s\n",
      "20:\tlearn: 194573.8460811\ttotal: 153ms\tremaining: 7.13s\n",
      "21:\tlearn: 190745.7122577\ttotal: 162ms\tremaining: 7.21s\n",
      "22:\tlearn: 187509.7895360\ttotal: 169ms\tremaining: 7.19s\n",
      "23:\tlearn: 184553.6086830\ttotal: 176ms\tremaining: 7.16s\n",
      "24:\tlearn: 181696.6645105\ttotal: 182ms\tremaining: 7.11s\n",
      "25:\tlearn: 178722.3150229\ttotal: 189ms\tremaining: 7.08s\n",
      "26:\tlearn: 175760.0389735\ttotal: 200ms\tremaining: 7.19s\n",
      "27:\tlearn: 172340.0202417\ttotal: 207ms\tremaining: 7.18s\n",
      "28:\tlearn: 170050.8377232\ttotal: 221ms\tremaining: 7.41s\n",
      "29:\tlearn: 167227.4174946\ttotal: 239ms\tremaining: 7.72s\n",
      "30:\tlearn: 165185.4150952\ttotal: 250ms\tremaining: 7.81s\n",
      "31:\tlearn: 162880.0264591\ttotal: 264ms\tremaining: 7.99s\n",
      "32:\tlearn: 161179.4336778\ttotal: 276ms\tremaining: 8.09s\n",
      "33:\tlearn: 159419.4900352\ttotal: 284ms\tremaining: 8.08s\n",
      "34:\tlearn: 157669.6516534\ttotal: 290ms\tremaining: 8s\n",
      "35:\tlearn: 155737.0571624\ttotal: 296ms\tremaining: 7.93s\n",
      "36:\tlearn: 154330.8214928\ttotal: 302ms\tremaining: 7.87s\n",
      "37:\tlearn: 152626.8224006\ttotal: 313ms\tremaining: 7.93s\n",
      "38:\tlearn: 151290.2510754\ttotal: 319ms\tremaining: 7.86s\n",
      "39:\tlearn: 149492.5574794\ttotal: 325ms\tremaining: 7.81s\n",
      "40:\tlearn: 148247.5047142\ttotal: 331ms\tremaining: 7.75s\n",
      "41:\tlearn: 146308.4837033\ttotal: 338ms\tremaining: 7.72s\n",
      "42:\tlearn: 145313.9674708\ttotal: 349ms\tremaining: 7.77s\n",
      "43:\tlearn: 144440.2885937\ttotal: 364ms\tremaining: 7.9s\n",
      "44:\tlearn: 143531.7987904\ttotal: 380ms\tremaining: 8.05s\n",
      "45:\tlearn: 142235.7404571\ttotal: 387ms\tremaining: 8.02s\n",
      "46:\tlearn: 141336.2375311\ttotal: 392ms\tremaining: 7.96s\n",
      "47:\tlearn: 140694.4942388\ttotal: 398ms\tremaining: 7.9s\n",
      "48:\tlearn: 139732.0174647\ttotal: 404ms\tremaining: 7.85s\n",
      "49:\tlearn: 138979.1961289\ttotal: 417ms\tremaining: 7.93s\n",
      "50:\tlearn: 138259.3448755\ttotal: 423ms\tremaining: 7.87s\n",
      "51:\tlearn: 136736.2665009\ttotal: 429ms\tremaining: 7.82s\n",
      "52:\tlearn: 136023.3123889\ttotal: 435ms\tremaining: 7.77s\n",
      "53:\tlearn: 135375.6418362\ttotal: 441ms\tremaining: 7.72s\n",
      "54:\tlearn: 134837.0018257\ttotal: 448ms\tremaining: 7.69s\n",
      "55:\tlearn: 134724.8801300\ttotal: 453ms\tremaining: 7.64s\n",
      "56:\tlearn: 134613.6218273\ttotal: 459ms\tremaining: 7.58s\n",
      "57:\tlearn: 134264.9535436\ttotal: 464ms\tremaining: 7.54s\n",
      "58:\tlearn: 133355.2490327\ttotal: 470ms\tremaining: 7.5s\n",
      "59:\tlearn: 132693.4225440\ttotal: 476ms\tremaining: 7.46s\n",
      "60:\tlearn: 132237.0742343\ttotal: 483ms\tremaining: 7.43s\n",
      "61:\tlearn: 131600.2205341\ttotal: 489ms\tremaining: 7.39s\n",
      "62:\tlearn: 131378.2976125\ttotal: 494ms\tremaining: 7.35s\n",
      "63:\tlearn: 131133.1663707\ttotal: 500ms\tremaining: 7.31s\n",
      "64:\tlearn: 130215.3992814\ttotal: 508ms\tremaining: 7.31s\n",
      "65:\tlearn: 129711.3174376\ttotal: 517ms\tremaining: 7.32s\n",
      "66:\tlearn: 129545.5690643\ttotal: 528ms\tremaining: 7.35s\n",
      "67:\tlearn: 128703.4182051\ttotal: 536ms\tremaining: 7.35s\n",
      "68:\tlearn: 128606.5221524\ttotal: 542ms\tremaining: 7.31s\n",
      "69:\tlearn: 128145.8459497\ttotal: 548ms\tremaining: 7.28s\n",
      "70:\tlearn: 127336.6157793\ttotal: 553ms\tremaining: 7.24s\n",
      "71:\tlearn: 127107.5338612\ttotal: 559ms\tremaining: 7.21s\n",
      "72:\tlearn: 127051.2259867\ttotal: 565ms\tremaining: 7.17s\n",
      "73:\tlearn: 126662.2205291\ttotal: 571ms\tremaining: 7.14s\n",
      "74:\tlearn: 126286.3250734\ttotal: 577ms\tremaining: 7.11s\n",
      "75:\tlearn: 125940.3738608\ttotal: 583ms\tremaining: 7.09s\n",
      "76:\tlearn: 125396.8619781\ttotal: 589ms\tremaining: 7.06s\n",
      "77:\tlearn: 125060.4526440\ttotal: 595ms\tremaining: 7.04s\n",
      "78:\tlearn: 124854.7420053\ttotal: 605ms\tremaining: 7.06s\n",
      "79:\tlearn: 124648.3897447\ttotal: 611ms\tremaining: 7.03s\n",
      "80:\tlearn: 124293.8540668\ttotal: 617ms\tremaining: 7s\n",
      "81:\tlearn: 123769.5808532\ttotal: 623ms\tremaining: 6.97s\n",
      "82:\tlearn: 123598.1657892\ttotal: 628ms\tremaining: 6.94s\n",
      "83:\tlearn: 123250.7247654\ttotal: 634ms\tremaining: 6.92s\n",
      "84:\tlearn: 122767.3209694\ttotal: 641ms\tremaining: 6.9s\n",
      "85:\tlearn: 122590.1407530\ttotal: 647ms\tremaining: 6.87s\n",
      "86:\tlearn: 122310.6370777\ttotal: 652ms\tremaining: 6.85s\n",
      "87:\tlearn: 121841.9752001\ttotal: 659ms\tremaining: 6.83s\n",
      "88:\tlearn: 121545.5594882\ttotal: 666ms\tremaining: 6.82s\n",
      "89:\tlearn: 121292.9828185\ttotal: 680ms\tremaining: 6.88s\n",
      "90:\tlearn: 121113.0904167\ttotal: 687ms\tremaining: 6.86s\n",
      "91:\tlearn: 120915.9674341\ttotal: 696ms\tremaining: 6.86s\n",
      "92:\tlearn: 120650.5021267\ttotal: 703ms\tremaining: 6.85s\n",
      "93:\tlearn: 120415.9398955\ttotal: 709ms\tremaining: 6.83s\n",
      "94:\tlearn: 120211.3271218\ttotal: 715ms\tremaining: 6.81s\n",
      "95:\tlearn: 120141.3259059\ttotal: 721ms\tremaining: 6.79s\n",
      "96:\tlearn: 119977.0332500\ttotal: 728ms\tremaining: 6.77s\n",
      "97:\tlearn: 119704.9599004\ttotal: 734ms\tremaining: 6.75s\n",
      "98:\tlearn: 119549.9036841\ttotal: 739ms\tremaining: 6.73s\n",
      "99:\tlearn: 119247.5158140\ttotal: 745ms\tremaining: 6.71s\n",
      "100:\tlearn: 119012.6690093\ttotal: 751ms\tremaining: 6.68s\n",
      "101:\tlearn: 118924.6372267\ttotal: 757ms\tremaining: 6.66s\n",
      "102:\tlearn: 118744.6737011\ttotal: 763ms\tremaining: 6.64s\n",
      "103:\tlearn: 118396.4999315\ttotal: 769ms\tremaining: 6.62s\n",
      "104:\tlearn: 118223.7140078\ttotal: 775ms\tremaining: 6.6s\n",
      "105:\tlearn: 117942.0336758\ttotal: 780ms\tremaining: 6.58s\n",
      "106:\tlearn: 117748.4974581\ttotal: 787ms\tremaining: 6.56s\n",
      "107:\tlearn: 117437.1741846\ttotal: 792ms\tremaining: 6.54s\n",
      "108:\tlearn: 117339.7934623\ttotal: 799ms\tremaining: 6.53s\n",
      "109:\tlearn: 117252.9243766\ttotal: 804ms\tremaining: 6.51s\n",
      "110:\tlearn: 117021.0536454\ttotal: 810ms\tremaining: 6.49s\n",
      "111:\tlearn: 116876.6515480\ttotal: 818ms\tremaining: 6.49s\n",
      "112:\tlearn: 116698.3185413\ttotal: 824ms\tremaining: 6.47s\n",
      "113:\tlearn: 116534.3308392\ttotal: 831ms\tremaining: 6.46s\n",
      "114:\tlearn: 116410.4319400\ttotal: 842ms\tremaining: 6.48s\n",
      "115:\tlearn: 116244.3503419\ttotal: 858ms\tremaining: 6.54s\n",
      "116:\tlearn: 116024.1237183\ttotal: 867ms\tremaining: 6.54s\n",
      "117:\tlearn: 115829.6765616\ttotal: 873ms\tremaining: 6.52s\n",
      "118:\tlearn: 115686.1222224\ttotal: 880ms\tremaining: 6.51s\n",
      "119:\tlearn: 115507.8947281\ttotal: 888ms\tremaining: 6.51s\n",
      "120:\tlearn: 115332.2021067\ttotal: 896ms\tremaining: 6.51s\n",
      "121:\tlearn: 115225.1729665\ttotal: 903ms\tremaining: 6.5s\n",
      "122:\tlearn: 115070.1582010\ttotal: 911ms\tremaining: 6.49s\n",
      "123:\tlearn: 114913.4911543\ttotal: 924ms\tremaining: 6.53s\n",
      "124:\tlearn: 114843.0628732\ttotal: 931ms\tremaining: 6.51s\n",
      "125:\tlearn: 114713.8552440\ttotal: 937ms\tremaining: 6.5s\n",
      "126:\tlearn: 114555.9516678\ttotal: 943ms\tremaining: 6.48s\n",
      "127:\tlearn: 114404.4983427\ttotal: 951ms\tremaining: 6.48s\n",
      "128:\tlearn: 114192.3182631\ttotal: 964ms\tremaining: 6.5s\n",
      "129:\tlearn: 113855.7896194\ttotal: 984ms\tremaining: 6.58s\n",
      "130:\tlearn: 113779.8190534\ttotal: 991ms\tremaining: 6.58s\n",
      "131:\tlearn: 113579.2004698\ttotal: 1s\tremaining: 6.58s\n",
      "132:\tlearn: 113465.5052395\ttotal: 1.01s\tremaining: 6.58s\n",
      "133:\tlearn: 113391.8844312\ttotal: 1.01s\tremaining: 6.57s\n",
      "134:\tlearn: 113141.6831319\ttotal: 1.02s\tremaining: 6.55s\n",
      "135:\tlearn: 113016.9938879\ttotal: 1.03s\tremaining: 6.53s\n",
      "136:\tlearn: 112937.4748564\ttotal: 1.03s\tremaining: 6.51s\n",
      "137:\tlearn: 112707.5152677\ttotal: 1.04s\tremaining: 6.5s\n",
      "138:\tlearn: 112604.0337370\ttotal: 1.05s\tremaining: 6.48s\n",
      "139:\tlearn: 112490.3024028\ttotal: 1.05s\tremaining: 6.46s\n",
      "140:\tlearn: 112304.1027699\ttotal: 1.06s\tremaining: 6.45s\n",
      "141:\tlearn: 112197.1076234\ttotal: 1.06s\tremaining: 6.43s\n",
      "142:\tlearn: 112080.9788167\ttotal: 1.07s\tremaining: 6.41s\n",
      "143:\tlearn: 111922.3604037\ttotal: 1.08s\tremaining: 6.4s\n",
      "144:\tlearn: 111672.0064448\ttotal: 1.08s\tremaining: 6.39s\n",
      "145:\tlearn: 111337.2548469\ttotal: 1.09s\tremaining: 6.38s\n",
      "146:\tlearn: 111228.3381500\ttotal: 1.1s\tremaining: 6.36s\n",
      "147:\tlearn: 111081.8106885\ttotal: 1.1s\tremaining: 6.36s\n",
      "148:\tlearn: 111064.8235969\ttotal: 1.11s\tremaining: 6.33s\n",
      "149:\tlearn: 110883.6608841\ttotal: 1.11s\tremaining: 6.32s\n",
      "150:\tlearn: 110793.9674803\ttotal: 1.12s\tremaining: 6.3s\n",
      "151:\tlearn: 110667.9911819\ttotal: 1.13s\tremaining: 6.3s\n",
      "152:\tlearn: 110523.5240671\ttotal: 1.16s\tremaining: 6.41s\n",
      "153:\tlearn: 110339.2196659\ttotal: 1.16s\tremaining: 6.4s\n",
      "154:\tlearn: 110123.9513552\ttotal: 1.17s\tremaining: 6.39s\n"
     ]
    },
    {
     "name": "stdout",
     "output_type": "stream",
     "text": [
      "155:\tlearn: 109969.0931947\ttotal: 1.18s\tremaining: 6.38s\n",
      "156:\tlearn: 109832.5846838\ttotal: 1.19s\tremaining: 6.39s\n",
      "157:\tlearn: 109654.2506495\ttotal: 1.2s\tremaining: 6.39s\n",
      "158:\tlearn: 109493.2186190\ttotal: 1.21s\tremaining: 6.38s\n",
      "159:\tlearn: 109348.6931569\ttotal: 1.21s\tremaining: 6.37s\n",
      "160:\tlearn: 109168.3960823\ttotal: 1.22s\tremaining: 6.36s\n",
      "161:\tlearn: 109040.7931091\ttotal: 1.23s\tremaining: 6.34s\n",
      "162:\tlearn: 108843.2633715\ttotal: 1.23s\tremaining: 6.33s\n",
      "163:\tlearn: 108683.7275780\ttotal: 1.24s\tremaining: 6.31s\n",
      "164:\tlearn: 108581.3705053\ttotal: 1.24s\tremaining: 6.29s\n",
      "165:\tlearn: 108434.0568634\ttotal: 1.25s\tremaining: 6.28s\n",
      "166:\tlearn: 108331.7262564\ttotal: 1.26s\tremaining: 6.26s\n",
      "167:\tlearn: 108207.3450121\ttotal: 1.26s\tremaining: 6.25s\n",
      "168:\tlearn: 108075.6209648\ttotal: 1.27s\tremaining: 6.23s\n",
      "169:\tlearn: 107869.9557071\ttotal: 1.27s\tremaining: 6.22s\n",
      "170:\tlearn: 107666.8932074\ttotal: 1.28s\tremaining: 6.21s\n",
      "171:\tlearn: 107508.3975965\ttotal: 1.29s\tremaining: 6.19s\n",
      "172:\tlearn: 107313.6797268\ttotal: 1.29s\tremaining: 6.18s\n",
      "173:\tlearn: 107205.0419185\ttotal: 1.3s\tremaining: 6.17s\n",
      "174:\tlearn: 107039.8035352\ttotal: 1.31s\tremaining: 6.18s\n",
      "175:\tlearn: 106968.5645067\ttotal: 1.32s\tremaining: 6.19s\n",
      "176:\tlearn: 106850.2230773\ttotal: 1.33s\tremaining: 6.19s\n",
      "177:\tlearn: 106750.5569488\ttotal: 1.34s\tremaining: 6.18s\n",
      "178:\tlearn: 106610.2286507\ttotal: 1.35s\tremaining: 6.19s\n",
      "179:\tlearn: 106507.0898006\ttotal: 1.36s\tremaining: 6.18s\n",
      "180:\tlearn: 106358.0779544\ttotal: 1.36s\tremaining: 6.17s\n",
      "181:\tlearn: 106238.9545132\ttotal: 1.37s\tremaining: 6.17s\n",
      "182:\tlearn: 106038.8614895\ttotal: 1.38s\tremaining: 6.16s\n",
      "183:\tlearn: 105932.9071653\ttotal: 1.39s\tremaining: 6.15s\n",
      "184:\tlearn: 105774.9684990\ttotal: 1.39s\tremaining: 6.13s\n",
      "185:\tlearn: 105625.4282256\ttotal: 1.4s\tremaining: 6.12s\n",
      "186:\tlearn: 105498.9679684\ttotal: 1.4s\tremaining: 6.11s\n",
      "187:\tlearn: 105352.8186411\ttotal: 1.41s\tremaining: 6.09s\n",
      "188:\tlearn: 105209.6034801\ttotal: 1.42s\tremaining: 6.08s\n",
      "189:\tlearn: 105106.7964719\ttotal: 1.43s\tremaining: 6.08s\n",
      "190:\tlearn: 105027.7405872\ttotal: 1.43s\tremaining: 6.06s\n",
      "191:\tlearn: 104787.3958135\ttotal: 1.44s\tremaining: 6.05s\n",
      "192:\tlearn: 104621.3477099\ttotal: 1.44s\tremaining: 6.03s\n",
      "193:\tlearn: 104482.4952912\ttotal: 1.45s\tremaining: 6.02s\n",
      "194:\tlearn: 104345.4653739\ttotal: 1.45s\tremaining: 6s\n",
      "195:\tlearn: 104212.1060793\ttotal: 1.46s\tremaining: 5.99s\n",
      "196:\tlearn: 104081.9609446\ttotal: 1.47s\tremaining: 5.97s\n",
      "197:\tlearn: 103989.4768563\ttotal: 1.47s\tremaining: 5.96s\n",
      "198:\tlearn: 103902.3052684\ttotal: 1.48s\tremaining: 5.95s\n",
      "199:\tlearn: 103786.0408501\ttotal: 1.48s\tremaining: 5.93s\n",
      "200:\tlearn: 103718.9707920\ttotal: 1.49s\tremaining: 5.92s\n",
      "201:\tlearn: 103610.9217443\ttotal: 1.49s\tremaining: 5.9s\n",
      "202:\tlearn: 103552.5428141\ttotal: 1.5s\tremaining: 5.89s\n",
      "203:\tlearn: 103442.2303806\ttotal: 1.5s\tremaining: 5.87s\n",
      "204:\tlearn: 103299.2038657\ttotal: 1.51s\tremaining: 5.86s\n",
      "205:\tlearn: 103163.9551571\ttotal: 1.52s\tremaining: 5.86s\n",
      "206:\tlearn: 103078.6774136\ttotal: 1.53s\tremaining: 5.85s\n",
      "207:\tlearn: 102969.9511316\ttotal: 1.54s\tremaining: 5.86s\n",
      "208:\tlearn: 102832.8838487\ttotal: 1.55s\tremaining: 5.87s\n",
      "209:\tlearn: 102773.0303725\ttotal: 1.56s\tremaining: 5.86s\n",
      "210:\tlearn: 102688.0273766\ttotal: 1.56s\tremaining: 5.84s\n",
      "211:\tlearn: 102524.2692669\ttotal: 1.57s\tremaining: 5.83s\n",
      "212:\tlearn: 102408.6272374\ttotal: 1.57s\tremaining: 5.82s\n",
      "213:\tlearn: 102353.9897122\ttotal: 1.58s\tremaining: 5.81s\n",
      "214:\tlearn: 102272.3658031\ttotal: 1.59s\tremaining: 5.79s\n",
      "215:\tlearn: 102153.3757985\ttotal: 1.59s\tremaining: 5.78s\n",
      "216:\tlearn: 102085.9630006\ttotal: 1.6s\tremaining: 5.76s\n",
      "217:\tlearn: 101994.4046925\ttotal: 1.6s\tremaining: 5.75s\n",
      "218:\tlearn: 101932.5300687\ttotal: 1.61s\tremaining: 5.74s\n",
      "219:\tlearn: 101809.3789193\ttotal: 1.61s\tremaining: 5.72s\n",
      "220:\tlearn: 101655.4793770\ttotal: 1.62s\tremaining: 5.71s\n",
      "221:\tlearn: 101552.6761091\ttotal: 1.63s\tremaining: 5.7s\n",
      "222:\tlearn: 101433.5629214\ttotal: 1.63s\tremaining: 5.68s\n",
      "223:\tlearn: 101325.3098360\ttotal: 1.64s\tremaining: 5.67s\n",
      "224:\tlearn: 101214.7166855\ttotal: 1.64s\tremaining: 5.66s\n",
      "225:\tlearn: 101116.7323214\ttotal: 1.65s\tremaining: 5.64s\n",
      "226:\tlearn: 101029.9024943\ttotal: 1.65s\tremaining: 5.63s\n",
      "227:\tlearn: 100941.4648922\ttotal: 1.66s\tremaining: 5.62s\n",
      "228:\tlearn: 100853.0725758\ttotal: 1.67s\tremaining: 5.61s\n",
      "229:\tlearn: 100749.7528057\ttotal: 1.67s\tremaining: 5.59s\n",
      "230:\tlearn: 100678.7132826\ttotal: 1.68s\tremaining: 5.58s\n",
      "231:\tlearn: 100585.5432071\ttotal: 1.68s\tremaining: 5.57s\n",
      "232:\tlearn: 100470.7870261\ttotal: 1.69s\tremaining: 5.56s\n",
      "233:\tlearn: 100400.6533821\ttotal: 1.7s\tremaining: 5.55s\n",
      "234:\tlearn: 100311.0169794\ttotal: 1.72s\tremaining: 5.59s\n",
      "235:\tlearn: 100231.8876073\ttotal: 1.73s\tremaining: 5.58s\n",
      "236:\tlearn: 100134.3972424\ttotal: 1.73s\tremaining: 5.58s\n",
      "237:\tlearn: 100052.8296053\ttotal: 1.74s\tremaining: 5.57s\n",
      "238:\tlearn: 99929.5048854\ttotal: 1.75s\tremaining: 5.57s\n",
      "239:\tlearn: 99811.4824634\ttotal: 1.76s\tremaining: 5.56s\n",
      "240:\tlearn: 99698.1105190\ttotal: 1.76s\tremaining: 5.55s\n",
      "241:\tlearn: 99568.0270445\ttotal: 1.77s\tremaining: 5.54s\n",
      "242:\tlearn: 99459.2855669\ttotal: 1.78s\tremaining: 5.53s\n",
      "243:\tlearn: 99380.0196732\ttotal: 1.79s\tremaining: 5.56s\n",
      "244:\tlearn: 99335.6379355\ttotal: 1.8s\tremaining: 5.55s\n",
      "245:\tlearn: 99221.2397483\ttotal: 1.81s\tremaining: 5.54s\n",
      "246:\tlearn: 99144.2724900\ttotal: 1.81s\tremaining: 5.53s\n",
      "247:\tlearn: 99000.7882810\ttotal: 1.82s\tremaining: 5.53s\n",
      "248:\tlearn: 98912.9718240\ttotal: 1.83s\tremaining: 5.52s\n",
      "249:\tlearn: 98804.9641949\ttotal: 1.84s\tremaining: 5.52s\n",
      "250:\tlearn: 98708.0678864\ttotal: 1.85s\tremaining: 5.51s\n",
      "251:\tlearn: 98589.2341718\ttotal: 1.85s\tremaining: 5.5s\n",
      "252:\tlearn: 98515.1311939\ttotal: 1.86s\tremaining: 5.49s\n",
      "253:\tlearn: 98438.8418372\ttotal: 1.87s\tremaining: 5.49s\n",
      "254:\tlearn: 98291.8430276\ttotal: 1.88s\tremaining: 5.49s\n",
      "255:\tlearn: 98170.7891881\ttotal: 1.9s\tremaining: 5.52s\n",
      "256:\tlearn: 98133.4806747\ttotal: 1.92s\tremaining: 5.54s\n",
      "257:\tlearn: 98066.0529764\ttotal: 1.93s\tremaining: 5.54s\n",
      "258:\tlearn: 97911.9976454\ttotal: 1.94s\tremaining: 5.54s\n",
      "259:\tlearn: 97806.6360929\ttotal: 1.95s\tremaining: 5.56s\n",
      "260:\tlearn: 97703.0880144\ttotal: 1.96s\tremaining: 5.55s\n",
      "261:\tlearn: 97614.8664867\ttotal: 1.97s\tremaining: 5.54s\n",
      "262:\tlearn: 97548.3214387\ttotal: 1.98s\tremaining: 5.54s\n",
      "263:\tlearn: 97465.6576360\ttotal: 1.98s\tremaining: 5.53s\n",
      "264:\tlearn: 97412.3028368\ttotal: 2s\tremaining: 5.56s\n",
      "265:\tlearn: 97317.6848752\ttotal: 2.01s\tremaining: 5.55s\n",
      "266:\tlearn: 97240.4883276\ttotal: 2.02s\tremaining: 5.54s\n",
      "267:\tlearn: 97149.8342159\ttotal: 2.03s\tremaining: 5.53s\n",
      "268:\tlearn: 97111.4510731\ttotal: 2.04s\tremaining: 5.54s\n",
      "269:\tlearn: 97032.9456906\ttotal: 2.05s\tremaining: 5.54s\n",
      "270:\tlearn: 96950.6916400\ttotal: 2.06s\tremaining: 5.54s\n",
      "271:\tlearn: 96850.3090277\ttotal: 2.07s\tremaining: 5.54s\n",
      "272:\tlearn: 96787.7598878\ttotal: 2.1s\tremaining: 5.59s\n",
      "273:\tlearn: 96735.6862375\ttotal: 2.11s\tremaining: 5.6s\n",
      "274:\tlearn: 96664.0588322\ttotal: 2.13s\tremaining: 5.62s\n",
      "275:\tlearn: 96613.1975680\ttotal: 2.14s\tremaining: 5.61s\n",
      "276:\tlearn: 96561.9855625\ttotal: 2.15s\tremaining: 5.6s\n",
      "277:\tlearn: 96502.6957412\ttotal: 2.15s\tremaining: 5.59s\n",
      "278:\tlearn: 96400.2129977\ttotal: 2.17s\tremaining: 5.6s\n",
      "279:\tlearn: 96331.1619733\ttotal: 2.17s\tremaining: 5.59s\n",
      "280:\tlearn: 96238.1886544\ttotal: 2.18s\tremaining: 5.58s\n",
      "281:\tlearn: 96138.6388923\ttotal: 2.19s\tremaining: 5.57s\n",
      "282:\tlearn: 96082.5553314\ttotal: 2.2s\tremaining: 5.57s\n",
      "283:\tlearn: 95998.6036379\ttotal: 2.2s\tremaining: 5.56s\n",
      "284:\tlearn: 95931.4622178\ttotal: 2.21s\tremaining: 5.55s\n",
      "285:\tlearn: 95840.5922652\ttotal: 2.23s\tremaining: 5.57s\n",
      "286:\tlearn: 95807.4398944\ttotal: 2.26s\tremaining: 5.61s\n",
      "287:\tlearn: 95739.3039194\ttotal: 2.28s\tremaining: 5.64s\n",
      "288:\tlearn: 95644.9220810\ttotal: 2.29s\tremaining: 5.63s\n",
      "289:\tlearn: 95554.5695049\ttotal: 2.3s\tremaining: 5.62s\n",
      "290:\tlearn: 95454.0230117\ttotal: 2.31s\tremaining: 5.63s\n",
      "291:\tlearn: 95355.9393860\ttotal: 2.32s\tremaining: 5.62s\n",
      "292:\tlearn: 95260.1267889\ttotal: 2.33s\tremaining: 5.61s\n",
      "293:\tlearn: 95220.3015170\ttotal: 2.33s\tremaining: 5.6s\n",
      "294:\tlearn: 95133.3586597\ttotal: 2.35s\tremaining: 5.61s\n",
      "295:\tlearn: 95059.1688524\ttotal: 2.36s\tremaining: 5.61s\n",
      "296:\tlearn: 94984.5778140\ttotal: 2.38s\tremaining: 5.62s\n",
      "297:\tlearn: 94917.4344124\ttotal: 2.38s\tremaining: 5.62s\n",
      "298:\tlearn: 94839.1847692\ttotal: 2.39s\tremaining: 5.61s\n",
      "299:\tlearn: 94753.3015795\ttotal: 2.4s\tremaining: 5.6s\n",
      "300:\tlearn: 94674.1347141\ttotal: 2.42s\tremaining: 5.63s\n",
      "301:\tlearn: 94585.0478677\ttotal: 2.44s\tremaining: 5.65s\n",
      "302:\tlearn: 94527.1218473\ttotal: 2.45s\tremaining: 5.64s\n",
      "303:\tlearn: 94462.6433627\ttotal: 2.46s\tremaining: 5.63s\n",
      "304:\tlearn: 94424.0085078\ttotal: 2.47s\tremaining: 5.62s\n",
      "305:\tlearn: 94345.0362191\ttotal: 2.47s\tremaining: 5.61s\n",
      "306:\tlearn: 94291.8317513\ttotal: 2.48s\tremaining: 5.6s\n",
      "307:\tlearn: 94200.8793341\ttotal: 2.49s\tremaining: 5.6s\n",
      "308:\tlearn: 94151.3420491\ttotal: 2.5s\tremaining: 5.59s\n",
      "309:\tlearn: 94091.0179968\ttotal: 2.52s\tremaining: 5.6s\n",
      "310:\tlearn: 94011.8391935\ttotal: 2.52s\tremaining: 5.59s\n",
      "311:\tlearn: 93944.0929839\ttotal: 2.53s\tremaining: 5.58s\n",
      "312:\tlearn: 93859.3785665\ttotal: 2.54s\tremaining: 5.57s\n",
      "313:\tlearn: 93772.0920922\ttotal: 2.55s\tremaining: 5.56s\n",
      "314:\tlearn: 93671.1546932\ttotal: 2.56s\tremaining: 5.56s\n"
     ]
    },
    {
     "name": "stdout",
     "output_type": "stream",
     "text": [
      "315:\tlearn: 93623.0328812\ttotal: 2.56s\tremaining: 5.55s\n",
      "316:\tlearn: 93528.0912913\ttotal: 2.57s\tremaining: 5.55s\n",
      "317:\tlearn: 93458.4545357\ttotal: 2.59s\tremaining: 5.56s\n",
      "318:\tlearn: 93396.9227945\ttotal: 2.62s\tremaining: 5.59s\n",
      "319:\tlearn: 93344.6931210\ttotal: 2.63s\tremaining: 5.58s\n",
      "320:\tlearn: 93278.3509023\ttotal: 2.64s\tremaining: 5.58s\n",
      "321:\tlearn: 93190.6023710\ttotal: 2.65s\tremaining: 5.57s\n",
      "322:\tlearn: 93080.6606834\ttotal: 2.65s\tremaining: 5.57s\n",
      "323:\tlearn: 93042.7917128\ttotal: 2.69s\tremaining: 5.62s\n",
      "324:\tlearn: 92966.1305410\ttotal: 2.7s\tremaining: 5.61s\n",
      "325:\tlearn: 92924.2379462\ttotal: 2.71s\tremaining: 5.59s\n",
      "326:\tlearn: 92868.0010894\ttotal: 2.71s\tremaining: 5.58s\n",
      "327:\tlearn: 92812.9355863\ttotal: 2.73s\tremaining: 5.59s\n",
      "328:\tlearn: 92746.9319584\ttotal: 2.74s\tremaining: 5.59s\n",
      "329:\tlearn: 92618.7641151\ttotal: 2.76s\tremaining: 5.61s\n",
      "330:\tlearn: 92552.4045643\ttotal: 2.77s\tremaining: 5.6s\n",
      "331:\tlearn: 92450.3383244\ttotal: 2.78s\tremaining: 5.59s\n",
      "332:\tlearn: 92383.6115918\ttotal: 2.79s\tremaining: 5.59s\n",
      "333:\tlearn: 92330.7300742\ttotal: 2.8s\tremaining: 5.59s\n",
      "334:\tlearn: 92291.8600238\ttotal: 2.81s\tremaining: 5.58s\n",
      "335:\tlearn: 92223.9672419\ttotal: 2.81s\tremaining: 5.56s\n",
      "336:\tlearn: 92164.4369914\ttotal: 2.82s\tremaining: 5.55s\n",
      "337:\tlearn: 92110.7046714\ttotal: 2.83s\tremaining: 5.54s\n",
      "338:\tlearn: 91985.3035835\ttotal: 2.83s\tremaining: 5.53s\n",
      "339:\tlearn: 91945.0551657\ttotal: 2.84s\tremaining: 5.52s\n",
      "340:\tlearn: 91862.1240181\ttotal: 2.85s\tremaining: 5.51s\n",
      "341:\tlearn: 91823.8293343\ttotal: 2.86s\tremaining: 5.5s\n",
      "342:\tlearn: 91774.2675638\ttotal: 2.88s\tremaining: 5.51s\n",
      "343:\tlearn: 91716.6483410\ttotal: 2.88s\tremaining: 5.5s\n",
      "344:\tlearn: 91680.1246413\ttotal: 2.89s\tremaining: 5.49s\n",
      "345:\tlearn: 91592.1792432\ttotal: 2.9s\tremaining: 5.48s\n",
      "346:\tlearn: 91515.8518599\ttotal: 2.94s\tremaining: 5.53s\n",
      "347:\tlearn: 91437.7391999\ttotal: 2.95s\tremaining: 5.53s\n",
      "348:\tlearn: 91365.7902883\ttotal: 2.96s\tremaining: 5.52s\n",
      "349:\tlearn: 91304.6353472\ttotal: 2.97s\tremaining: 5.51s\n",
      "350:\tlearn: 91216.3518110\ttotal: 2.98s\tremaining: 5.5s\n",
      "351:\tlearn: 91157.8440783\ttotal: 2.98s\tremaining: 5.49s\n",
      "352:\tlearn: 91093.9331896\ttotal: 2.99s\tremaining: 5.48s\n",
      "353:\tlearn: 91041.1352841\ttotal: 3s\tremaining: 5.47s\n",
      "354:\tlearn: 90976.1215384\ttotal: 3.02s\tremaining: 5.48s\n",
      "355:\tlearn: 90893.7703848\ttotal: 3.02s\tremaining: 5.47s\n",
      "356:\tlearn: 90824.4219869\ttotal: 3.03s\tremaining: 5.46s\n",
      "357:\tlearn: 90736.5542324\ttotal: 3.04s\tremaining: 5.46s\n",
      "358:\tlearn: 90706.6271335\ttotal: 3.05s\tremaining: 5.44s\n",
      "359:\tlearn: 90634.0797851\ttotal: 3.06s\tremaining: 5.43s\n",
      "360:\tlearn: 90581.9805916\ttotal: 3.06s\tremaining: 5.42s\n",
      "361:\tlearn: 90535.0036852\ttotal: 3.08s\tremaining: 5.43s\n",
      "362:\tlearn: 90443.9092653\ttotal: 3.1s\tremaining: 5.45s\n",
      "363:\tlearn: 90387.1404264\ttotal: 3.11s\tremaining: 5.44s\n",
      "364:\tlearn: 90326.5063816\ttotal: 3.12s\tremaining: 5.44s\n",
      "365:\tlearn: 90269.2693254\ttotal: 3.14s\tremaining: 5.44s\n",
      "366:\tlearn: 90221.1547393\ttotal: 3.15s\tremaining: 5.43s\n",
      "367:\tlearn: 90190.4235768\ttotal: 3.16s\tremaining: 5.42s\n",
      "368:\tlearn: 90103.1689916\ttotal: 3.18s\tremaining: 5.43s\n",
      "369:\tlearn: 90051.2790240\ttotal: 3.19s\tremaining: 5.42s\n",
      "370:\tlearn: 89979.5181589\ttotal: 3.19s\tremaining: 5.42s\n",
      "371:\tlearn: 89920.0109440\ttotal: 3.2s\tremaining: 5.41s\n",
      "372:\tlearn: 89853.9529206\ttotal: 3.22s\tremaining: 5.41s\n",
      "373:\tlearn: 89753.2310347\ttotal: 3.23s\tremaining: 5.41s\n",
      "374:\tlearn: 89705.9789083\ttotal: 3.24s\tremaining: 5.4s\n",
      "375:\tlearn: 89678.7408847\ttotal: 3.25s\tremaining: 5.39s\n",
      "376:\tlearn: 89653.2116936\ttotal: 3.26s\tremaining: 5.38s\n",
      "377:\tlearn: 89580.7237466\ttotal: 3.26s\tremaining: 5.37s\n",
      "378:\tlearn: 89511.6920263\ttotal: 3.27s\tremaining: 5.36s\n",
      "379:\tlearn: 89462.4085470\ttotal: 3.28s\tremaining: 5.36s\n",
      "380:\tlearn: 89406.4017736\ttotal: 3.29s\tremaining: 5.34s\n",
      "381:\tlearn: 89372.0981988\ttotal: 3.29s\tremaining: 5.33s\n",
      "382:\tlearn: 89323.1676354\ttotal: 3.3s\tremaining: 5.32s\n",
      "383:\tlearn: 89269.1001319\ttotal: 3.31s\tremaining: 5.31s\n",
      "384:\tlearn: 89205.5907726\ttotal: 3.31s\tremaining: 5.29s\n",
      "385:\tlearn: 89140.2506980\ttotal: 3.32s\tremaining: 5.28s\n",
      "386:\tlearn: 89079.1443114\ttotal: 3.33s\tremaining: 5.27s\n",
      "387:\tlearn: 89032.9598293\ttotal: 3.33s\tremaining: 5.26s\n",
      "388:\tlearn: 88962.0645519\ttotal: 3.34s\tremaining: 5.24s\n",
      "389:\tlearn: 88939.3131064\ttotal: 3.34s\tremaining: 5.23s\n",
      "390:\tlearn: 88874.8878092\ttotal: 3.35s\tremaining: 5.22s\n",
      "391:\tlearn: 88825.5839869\ttotal: 3.35s\tremaining: 5.21s\n",
      "392:\tlearn: 88767.5640627\ttotal: 3.36s\tremaining: 5.19s\n",
      "393:\tlearn: 88709.4981074\ttotal: 3.37s\tremaining: 5.18s\n",
      "394:\tlearn: 88645.7271428\ttotal: 3.37s\tremaining: 5.17s\n",
      "395:\tlearn: 88599.8664897\ttotal: 3.38s\tremaining: 5.15s\n",
      "396:\tlearn: 88549.4986794\ttotal: 3.38s\tremaining: 5.14s\n",
      "397:\tlearn: 88480.2744463\ttotal: 3.39s\tremaining: 5.13s\n",
      "398:\tlearn: 88410.6411528\ttotal: 3.4s\tremaining: 5.11s\n",
      "399:\tlearn: 88334.8328462\ttotal: 3.4s\tremaining: 5.11s\n",
      "400:\tlearn: 88292.2972024\ttotal: 3.41s\tremaining: 5.1s\n",
      "401:\tlearn: 88234.8052385\ttotal: 3.42s\tremaining: 5.09s\n",
      "402:\tlearn: 88175.8974203\ttotal: 3.43s\tremaining: 5.08s\n",
      "403:\tlearn: 88114.6681565\ttotal: 3.44s\tremaining: 5.07s\n",
      "404:\tlearn: 88057.3980280\ttotal: 3.44s\tremaining: 5.06s\n",
      "405:\tlearn: 88018.8148426\ttotal: 3.45s\tremaining: 5.05s\n",
      "406:\tlearn: 87978.0932106\ttotal: 3.46s\tremaining: 5.03s\n",
      "407:\tlearn: 87921.7561073\ttotal: 3.46s\tremaining: 5.02s\n",
      "408:\tlearn: 87866.6197827\ttotal: 3.47s\tremaining: 5.01s\n",
      "409:\tlearn: 87797.7739607\ttotal: 3.47s\tremaining: 5s\n",
      "410:\tlearn: 87753.0786172\ttotal: 3.48s\tremaining: 4.99s\n",
      "411:\tlearn: 87702.6314948\ttotal: 3.48s\tremaining: 4.97s\n",
      "412:\tlearn: 87659.6366809\ttotal: 3.49s\tremaining: 4.96s\n",
      "413:\tlearn: 87624.0488593\ttotal: 3.5s\tremaining: 4.95s\n",
      "414:\tlearn: 87573.4136477\ttotal: 3.5s\tremaining: 4.94s\n",
      "415:\tlearn: 87506.3826474\ttotal: 3.51s\tremaining: 4.93s\n",
      "416:\tlearn: 87471.0952844\ttotal: 3.52s\tremaining: 4.92s\n",
      "417:\tlearn: 87435.8892983\ttotal: 3.52s\tremaining: 4.91s\n",
      "418:\tlearn: 87386.4827931\ttotal: 3.53s\tremaining: 4.89s\n",
      "419:\tlearn: 87327.3796754\ttotal: 3.54s\tremaining: 4.88s\n",
      "420:\tlearn: 87279.6397498\ttotal: 3.54s\tremaining: 4.87s\n",
      "421:\tlearn: 87221.1461928\ttotal: 3.55s\tremaining: 4.86s\n",
      "422:\tlearn: 87173.2633007\ttotal: 3.56s\tremaining: 4.85s\n",
      "423:\tlearn: 87137.2654583\ttotal: 3.56s\tremaining: 4.84s\n",
      "424:\tlearn: 87102.3774084\ttotal: 3.57s\tremaining: 4.83s\n",
      "425:\tlearn: 87048.7134359\ttotal: 3.58s\tremaining: 4.83s\n",
      "426:\tlearn: 87002.7057455\ttotal: 3.59s\tremaining: 4.82s\n",
      "427:\tlearn: 86910.0766397\ttotal: 3.6s\tremaining: 4.82s\n",
      "428:\tlearn: 86851.7551243\ttotal: 3.61s\tremaining: 4.81s\n",
      "429:\tlearn: 86802.3091825\ttotal: 3.62s\tremaining: 4.8s\n",
      "430:\tlearn: 86726.1730274\ttotal: 3.63s\tremaining: 4.79s\n",
      "431:\tlearn: 86703.7028714\ttotal: 3.64s\tremaining: 4.78s\n",
      "432:\tlearn: 86678.6081961\ttotal: 3.64s\tremaining: 4.77s\n",
      "433:\tlearn: 86623.4776246\ttotal: 3.65s\tremaining: 4.76s\n",
      "434:\tlearn: 86567.6194952\ttotal: 3.66s\tremaining: 4.75s\n",
      "435:\tlearn: 86523.0596390\ttotal: 3.66s\tremaining: 4.74s\n",
      "436:\tlearn: 86478.5987489\ttotal: 3.67s\tremaining: 4.72s\n",
      "437:\tlearn: 86437.1143023\ttotal: 3.67s\tremaining: 4.71s\n",
      "438:\tlearn: 86373.3766331\ttotal: 3.68s\tremaining: 4.7s\n",
      "439:\tlearn: 86311.8537524\ttotal: 3.69s\tremaining: 4.69s\n",
      "440:\tlearn: 86264.6171168\ttotal: 3.69s\tremaining: 4.68s\n",
      "441:\tlearn: 86218.3314701\ttotal: 3.7s\tremaining: 4.67s\n",
      "442:\tlearn: 86193.9529976\ttotal: 3.7s\tremaining: 4.66s\n",
      "443:\tlearn: 86171.1743428\ttotal: 3.71s\tremaining: 4.64s\n",
      "444:\tlearn: 86137.8502214\ttotal: 3.71s\tremaining: 4.63s\n",
      "445:\tlearn: 86084.4452115\ttotal: 3.72s\tremaining: 4.62s\n",
      "446:\tlearn: 86040.6236863\ttotal: 3.73s\tremaining: 4.61s\n",
      "447:\tlearn: 85965.8091306\ttotal: 3.73s\tremaining: 4.6s\n",
      "448:\tlearn: 85930.2725371\ttotal: 3.74s\tremaining: 4.59s\n",
      "449:\tlearn: 85889.8414370\ttotal: 3.74s\tremaining: 4.58s\n",
      "450:\tlearn: 85829.9558094\ttotal: 3.76s\tremaining: 4.57s\n",
      "451:\tlearn: 85778.5648158\ttotal: 3.76s\tremaining: 4.56s\n",
      "452:\tlearn: 85725.6897940\ttotal: 3.77s\tremaining: 4.55s\n",
      "453:\tlearn: 85686.7294063\ttotal: 3.78s\tremaining: 4.55s\n",
      "454:\tlearn: 85639.4421671\ttotal: 3.79s\tremaining: 4.54s\n",
      "455:\tlearn: 85588.0122703\ttotal: 3.8s\tremaining: 4.53s\n",
      "456:\tlearn: 85526.2962203\ttotal: 3.8s\tremaining: 4.52s\n",
      "457:\tlearn: 85478.0374238\ttotal: 3.81s\tremaining: 4.51s\n",
      "458:\tlearn: 85424.8190124\ttotal: 3.82s\tremaining: 4.5s\n",
      "459:\tlearn: 85353.9522214\ttotal: 3.82s\tremaining: 4.49s\n",
      "460:\tlearn: 85306.3783120\ttotal: 3.83s\tremaining: 4.47s\n",
      "461:\tlearn: 85248.8226114\ttotal: 3.83s\tremaining: 4.46s\n",
      "462:\tlearn: 85192.7783833\ttotal: 3.84s\tremaining: 4.45s\n",
      "463:\tlearn: 85155.0103619\ttotal: 3.84s\tremaining: 4.44s\n",
      "464:\tlearn: 85127.3162923\ttotal: 3.85s\tremaining: 4.43s\n",
      "465:\tlearn: 85087.1949714\ttotal: 3.86s\tremaining: 4.42s\n",
      "466:\tlearn: 85015.6264139\ttotal: 3.86s\tremaining: 4.41s\n",
      "467:\tlearn: 84970.5262757\ttotal: 3.87s\tremaining: 4.4s\n",
      "468:\tlearn: 84887.3906229\ttotal: 3.87s\tremaining: 4.38s\n",
      "469:\tlearn: 84844.5639171\ttotal: 3.88s\tremaining: 4.37s\n",
      "470:\tlearn: 84799.8773888\ttotal: 3.88s\tremaining: 4.36s\n",
      "471:\tlearn: 84762.4721888\ttotal: 3.89s\tremaining: 4.35s\n",
      "472:\tlearn: 84728.7222715\ttotal: 3.9s\tremaining: 4.34s\n",
      "473:\tlearn: 84669.4837916\ttotal: 3.9s\tremaining: 4.33s\n",
      "474:\tlearn: 84651.2676765\ttotal: 3.91s\tremaining: 4.32s\n"
     ]
    },
    {
     "name": "stdout",
     "output_type": "stream",
     "text": [
      "475:\tlearn: 84601.3945223\ttotal: 3.91s\tremaining: 4.31s\n",
      "476:\tlearn: 84521.0721435\ttotal: 3.92s\tremaining: 4.3s\n",
      "477:\tlearn: 84469.4449675\ttotal: 3.93s\tremaining: 4.29s\n",
      "478:\tlearn: 84435.6016601\ttotal: 3.94s\tremaining: 4.29s\n",
      "479:\tlearn: 84394.7375314\ttotal: 3.95s\tremaining: 4.28s\n",
      "480:\tlearn: 84313.1469076\ttotal: 3.96s\tremaining: 4.27s\n",
      "481:\tlearn: 84287.7856796\ttotal: 3.96s\tremaining: 4.26s\n",
      "482:\tlearn: 84211.8191638\ttotal: 3.97s\tremaining: 4.25s\n",
      "483:\tlearn: 84172.9733380\ttotal: 3.97s\tremaining: 4.24s\n",
      "484:\tlearn: 84142.7223264\ttotal: 3.98s\tremaining: 4.22s\n",
      "485:\tlearn: 84135.8275410\ttotal: 3.98s\tremaining: 4.21s\n",
      "486:\tlearn: 84118.7554786\ttotal: 3.99s\tremaining: 4.2s\n",
      "487:\tlearn: 84095.1871924\ttotal: 4s\tremaining: 4.19s\n",
      "488:\tlearn: 84047.5206199\ttotal: 4s\tremaining: 4.18s\n",
      "489:\tlearn: 83999.2257170\ttotal: 4.01s\tremaining: 4.17s\n",
      "490:\tlearn: 83971.0204604\ttotal: 4.01s\tremaining: 4.16s\n",
      "491:\tlearn: 83926.7513648\ttotal: 4.02s\tremaining: 4.15s\n",
      "492:\tlearn: 83901.5864684\ttotal: 4.03s\tremaining: 4.14s\n",
      "493:\tlearn: 83873.6676600\ttotal: 4.03s\tremaining: 4.13s\n",
      "494:\tlearn: 83832.3518547\ttotal: 4.04s\tremaining: 4.12s\n",
      "495:\tlearn: 83776.5457194\ttotal: 4.04s\tremaining: 4.11s\n",
      "496:\tlearn: 83702.6404394\ttotal: 4.05s\tremaining: 4.1s\n",
      "497:\tlearn: 83666.7125001\ttotal: 4.05s\tremaining: 4.09s\n",
      "498:\tlearn: 83613.6627800\ttotal: 4.06s\tremaining: 4.08s\n",
      "499:\tlearn: 83565.2358689\ttotal: 4.07s\tremaining: 4.07s\n",
      "500:\tlearn: 83528.5989364\ttotal: 4.07s\tremaining: 4.06s\n",
      "501:\tlearn: 83456.7667839\ttotal: 4.08s\tremaining: 4.05s\n",
      "502:\tlearn: 83423.3139330\ttotal: 4.09s\tremaining: 4.04s\n",
      "503:\tlearn: 83387.2993287\ttotal: 4.1s\tremaining: 4.03s\n",
      "504:\tlearn: 83339.1614501\ttotal: 4.1s\tremaining: 4.02s\n",
      "505:\tlearn: 83300.4426055\ttotal: 4.11s\tremaining: 4.01s\n",
      "506:\tlearn: 83263.3613133\ttotal: 4.12s\tremaining: 4s\n",
      "507:\tlearn: 83230.5936064\ttotal: 4.13s\tremaining: 4s\n",
      "508:\tlearn: 83179.9615854\ttotal: 4.13s\tremaining: 3.99s\n",
      "509:\tlearn: 83149.0342034\ttotal: 4.14s\tremaining: 3.98s\n",
      "510:\tlearn: 83122.3052873\ttotal: 4.14s\tremaining: 3.96s\n",
      "511:\tlearn: 83073.1621015\ttotal: 4.15s\tremaining: 3.96s\n",
      "512:\tlearn: 83040.9150653\ttotal: 4.16s\tremaining: 3.94s\n",
      "513:\tlearn: 83020.2571331\ttotal: 4.16s\tremaining: 3.94s\n",
      "514:\tlearn: 82990.2309328\ttotal: 4.17s\tremaining: 3.92s\n",
      "515:\tlearn: 82931.2555825\ttotal: 4.17s\tremaining: 3.91s\n",
      "516:\tlearn: 82901.2160830\ttotal: 4.18s\tremaining: 3.9s\n",
      "517:\tlearn: 82821.1703672\ttotal: 4.18s\tremaining: 3.89s\n",
      "518:\tlearn: 82784.7081091\ttotal: 4.19s\tremaining: 3.88s\n",
      "519:\tlearn: 82741.8168333\ttotal: 4.2s\tremaining: 3.87s\n",
      "520:\tlearn: 82702.2393295\ttotal: 4.2s\tremaining: 3.86s\n",
      "521:\tlearn: 82673.6454786\ttotal: 4.21s\tremaining: 3.85s\n",
      "522:\tlearn: 82643.0116000\ttotal: 4.21s\tremaining: 3.84s\n",
      "523:\tlearn: 82607.1865045\ttotal: 4.22s\tremaining: 3.83s\n",
      "524:\tlearn: 82514.2970163\ttotal: 4.24s\tremaining: 3.84s\n",
      "525:\tlearn: 82494.7577579\ttotal: 4.25s\tremaining: 3.83s\n",
      "526:\tlearn: 82476.3681242\ttotal: 4.25s\tremaining: 3.82s\n",
      "527:\tlearn: 82449.3585688\ttotal: 4.26s\tremaining: 3.81s\n",
      "528:\tlearn: 82430.2433447\ttotal: 4.27s\tremaining: 3.8s\n",
      "529:\tlearn: 82391.0500222\ttotal: 4.28s\tremaining: 3.79s\n",
      "530:\tlearn: 82324.1461936\ttotal: 4.29s\tremaining: 3.79s\n",
      "531:\tlearn: 82285.3074085\ttotal: 4.29s\tremaining: 3.77s\n",
      "532:\tlearn: 82222.7915343\ttotal: 4.3s\tremaining: 3.77s\n",
      "533:\tlearn: 82190.2692293\ttotal: 4.3s\tremaining: 3.75s\n",
      "534:\tlearn: 82158.3389061\ttotal: 4.31s\tremaining: 3.75s\n",
      "535:\tlearn: 82130.3237001\ttotal: 4.32s\tremaining: 3.73s\n",
      "536:\tlearn: 82108.8516577\ttotal: 4.32s\tremaining: 3.73s\n",
      "537:\tlearn: 82095.2507500\ttotal: 4.33s\tremaining: 3.71s\n",
      "538:\tlearn: 82053.8215024\ttotal: 4.33s\tremaining: 3.71s\n",
      "539:\tlearn: 82028.1216203\ttotal: 4.34s\tremaining: 3.69s\n",
      "540:\tlearn: 81983.6860048\ttotal: 4.34s\tremaining: 3.69s\n",
      "541:\tlearn: 81941.9566918\ttotal: 4.35s\tremaining: 3.67s\n",
      "542:\tlearn: 81890.6266267\ttotal: 4.36s\tremaining: 3.67s\n",
      "543:\tlearn: 81858.8031354\ttotal: 4.36s\tremaining: 3.65s\n",
      "544:\tlearn: 81834.7201443\ttotal: 4.37s\tremaining: 3.65s\n",
      "545:\tlearn: 81779.2631530\ttotal: 4.37s\tremaining: 3.63s\n",
      "546:\tlearn: 81738.6792584\ttotal: 4.38s\tremaining: 3.63s\n",
      "547:\tlearn: 81690.5491657\ttotal: 4.38s\tremaining: 3.62s\n",
      "548:\tlearn: 81640.8242853\ttotal: 4.39s\tremaining: 3.6s\n",
      "549:\tlearn: 81616.3273430\ttotal: 4.41s\tremaining: 3.6s\n",
      "550:\tlearn: 81576.6601125\ttotal: 4.41s\tremaining: 3.6s\n",
      "551:\tlearn: 81548.3580508\ttotal: 4.42s\tremaining: 3.59s\n",
      "552:\tlearn: 81519.1924971\ttotal: 4.43s\tremaining: 3.58s\n",
      "553:\tlearn: 81483.2616032\ttotal: 4.44s\tremaining: 3.58s\n",
      "554:\tlearn: 81447.8833726\ttotal: 4.45s\tremaining: 3.57s\n",
      "555:\tlearn: 81387.3448672\ttotal: 4.46s\tremaining: 3.56s\n",
      "556:\tlearn: 81334.2102657\ttotal: 4.47s\tremaining: 3.55s\n",
      "557:\tlearn: 81307.8599784\ttotal: 4.47s\tremaining: 3.54s\n",
      "558:\tlearn: 81291.3068158\ttotal: 4.48s\tremaining: 3.53s\n",
      "559:\tlearn: 81220.4332289\ttotal: 4.5s\tremaining: 3.53s\n",
      "560:\tlearn: 81187.1279529\ttotal: 4.5s\tremaining: 3.52s\n",
      "561:\tlearn: 81154.6651044\ttotal: 4.51s\tremaining: 3.51s\n",
      "562:\tlearn: 81125.1352267\ttotal: 4.51s\tremaining: 3.5s\n",
      "563:\tlearn: 81101.3713563\ttotal: 4.52s\tremaining: 3.49s\n",
      "564:\tlearn: 81063.6192755\ttotal: 4.52s\tremaining: 3.48s\n",
      "565:\tlearn: 81024.9572639\ttotal: 4.53s\tremaining: 3.47s\n",
      "566:\tlearn: 80999.9166475\ttotal: 4.54s\tremaining: 3.46s\n",
      "567:\tlearn: 80975.7509502\ttotal: 4.54s\tremaining: 3.45s\n",
      "568:\tlearn: 80938.1405305\ttotal: 4.55s\tremaining: 3.44s\n",
      "569:\tlearn: 80919.2106855\ttotal: 4.55s\tremaining: 3.44s\n",
      "570:\tlearn: 80870.1642004\ttotal: 4.56s\tremaining: 3.43s\n",
      "571:\tlearn: 80846.9718210\ttotal: 4.57s\tremaining: 3.42s\n",
      "572:\tlearn: 80831.3146404\ttotal: 4.58s\tremaining: 3.41s\n",
      "573:\tlearn: 80787.2913953\ttotal: 4.58s\tremaining: 3.4s\n",
      "574:\tlearn: 80726.7510911\ttotal: 4.59s\tremaining: 3.4s\n",
      "575:\tlearn: 80698.2439971\ttotal: 4.6s\tremaining: 3.39s\n",
      "576:\tlearn: 80682.6793290\ttotal: 4.61s\tremaining: 3.38s\n",
      "577:\tlearn: 80654.5038066\ttotal: 4.62s\tremaining: 3.37s\n",
      "578:\tlearn: 80637.0704033\ttotal: 4.63s\tremaining: 3.36s\n",
      "579:\tlearn: 80614.7760321\ttotal: 4.63s\tremaining: 3.35s\n",
      "580:\tlearn: 80576.0056252\ttotal: 4.64s\tremaining: 3.35s\n",
      "581:\tlearn: 80545.9636049\ttotal: 4.65s\tremaining: 3.34s\n",
      "582:\tlearn: 80489.6211551\ttotal: 4.65s\tremaining: 3.33s\n",
      "583:\tlearn: 80462.7330856\ttotal: 4.67s\tremaining: 3.33s\n",
      "584:\tlearn: 80425.9742816\ttotal: 4.67s\tremaining: 3.32s\n",
      "585:\tlearn: 80406.5615617\ttotal: 4.68s\tremaining: 3.31s\n",
      "586:\tlearn: 80395.0509675\ttotal: 4.69s\tremaining: 3.3s\n",
      "587:\tlearn: 80352.9844857\ttotal: 4.69s\tremaining: 3.29s\n",
      "588:\tlearn: 80310.6810437\ttotal: 4.7s\tremaining: 3.28s\n",
      "589:\tlearn: 80281.1898688\ttotal: 4.71s\tremaining: 3.27s\n",
      "590:\tlearn: 80262.4155301\ttotal: 4.71s\tremaining: 3.26s\n",
      "591:\tlearn: 80203.0155207\ttotal: 4.72s\tremaining: 3.25s\n",
      "592:\tlearn: 80164.2384948\ttotal: 4.73s\tremaining: 3.25s\n",
      "593:\tlearn: 80129.3347037\ttotal: 4.74s\tremaining: 3.24s\n",
      "594:\tlearn: 80121.5294749\ttotal: 4.74s\tremaining: 3.23s\n",
      "595:\tlearn: 80080.0887442\ttotal: 4.75s\tremaining: 3.22s\n",
      "596:\tlearn: 80036.5929040\ttotal: 4.76s\tremaining: 3.21s\n",
      "597:\tlearn: 80008.9152223\ttotal: 4.76s\tremaining: 3.2s\n",
      "598:\tlearn: 79964.2142507\ttotal: 4.77s\tremaining: 3.19s\n",
      "599:\tlearn: 79917.2862767\ttotal: 4.78s\tremaining: 3.19s\n",
      "600:\tlearn: 79878.2938282\ttotal: 4.79s\tremaining: 3.18s\n",
      "601:\tlearn: 79856.6400191\ttotal: 4.79s\tremaining: 3.17s\n",
      "602:\tlearn: 79821.7035744\ttotal: 4.8s\tremaining: 3.16s\n",
      "603:\tlearn: 79765.3726412\ttotal: 4.81s\tremaining: 3.15s\n",
      "604:\tlearn: 79740.7485710\ttotal: 4.82s\tremaining: 3.14s\n",
      "605:\tlearn: 79705.9579884\ttotal: 4.82s\tremaining: 3.13s\n",
      "606:\tlearn: 79669.6370802\ttotal: 4.83s\tremaining: 3.13s\n",
      "607:\tlearn: 79635.4052845\ttotal: 4.83s\tremaining: 3.12s\n",
      "608:\tlearn: 79594.4561870\ttotal: 4.84s\tremaining: 3.11s\n",
      "609:\tlearn: 79537.8328552\ttotal: 4.84s\tremaining: 3.1s\n",
      "610:\tlearn: 79505.3402408\ttotal: 4.85s\tremaining: 3.09s\n",
      "611:\tlearn: 79499.0847268\ttotal: 4.86s\tremaining: 3.08s\n",
      "612:\tlearn: 79467.8039296\ttotal: 4.86s\tremaining: 3.07s\n",
      "613:\tlearn: 79425.5693709\ttotal: 4.87s\tremaining: 3.06s\n",
      "614:\tlearn: 79367.7697911\ttotal: 4.87s\tremaining: 3.05s\n",
      "615:\tlearn: 79348.1121708\ttotal: 4.88s\tremaining: 3.04s\n",
      "616:\tlearn: 79307.5188435\ttotal: 4.88s\tremaining: 3.03s\n",
      "617:\tlearn: 79274.7746245\ttotal: 4.89s\tremaining: 3.02s\n",
      "618:\tlearn: 79260.6244301\ttotal: 4.89s\tremaining: 3.01s\n",
      "619:\tlearn: 79228.4628999\ttotal: 4.9s\tremaining: 3s\n",
      "620:\tlearn: 79210.5842065\ttotal: 4.91s\tremaining: 2.99s\n",
      "621:\tlearn: 79167.0413925\ttotal: 4.91s\tremaining: 2.98s\n",
      "622:\tlearn: 79129.2722558\ttotal: 4.92s\tremaining: 2.98s\n"
     ]
    },
    {
     "name": "stdout",
     "output_type": "stream",
     "text": [
      "623:\tlearn: 79111.1326738\ttotal: 4.93s\tremaining: 2.97s\n",
      "624:\tlearn: 79084.2991351\ttotal: 4.94s\tremaining: 2.96s\n",
      "625:\tlearn: 79041.7856158\ttotal: 4.95s\tremaining: 2.96s\n",
      "626:\tlearn: 79013.6199613\ttotal: 4.96s\tremaining: 2.95s\n",
      "627:\tlearn: 78972.6130649\ttotal: 4.97s\tremaining: 2.94s\n",
      "628:\tlearn: 78911.7555620\ttotal: 4.97s\tremaining: 2.93s\n",
      "629:\tlearn: 78868.7317735\ttotal: 4.98s\tremaining: 2.92s\n",
      "630:\tlearn: 78846.7986467\ttotal: 4.99s\tremaining: 2.92s\n",
      "631:\tlearn: 78814.8289357\ttotal: 4.99s\tremaining: 2.91s\n",
      "632:\tlearn: 78773.5714162\ttotal: 5s\tremaining: 2.9s\n",
      "633:\tlearn: 78742.7763146\ttotal: 5s\tremaining: 2.89s\n",
      "634:\tlearn: 78694.6175710\ttotal: 5.01s\tremaining: 2.88s\n",
      "635:\tlearn: 78655.7377212\ttotal: 5.01s\tremaining: 2.87s\n",
      "636:\tlearn: 78636.9428290\ttotal: 5.02s\tremaining: 2.86s\n",
      "637:\tlearn: 78613.0270362\ttotal: 5.03s\tremaining: 2.85s\n",
      "638:\tlearn: 78610.5450859\ttotal: 5.03s\tremaining: 2.84s\n",
      "639:\tlearn: 78588.2603909\ttotal: 5.04s\tremaining: 2.83s\n",
      "640:\tlearn: 78563.3522405\ttotal: 5.04s\tremaining: 2.82s\n",
      "641:\tlearn: 78536.1445842\ttotal: 5.05s\tremaining: 2.81s\n",
      "642:\tlearn: 78503.8310381\ttotal: 5.05s\tremaining: 2.81s\n",
      "643:\tlearn: 78480.7468760\ttotal: 5.06s\tremaining: 2.8s\n",
      "644:\tlearn: 78475.5954829\ttotal: 5.06s\tremaining: 2.79s\n",
      "645:\tlearn: 78426.2399120\ttotal: 5.07s\tremaining: 2.78s\n",
      "646:\tlearn: 78395.4715164\ttotal: 5.08s\tremaining: 2.77s\n",
      "647:\tlearn: 78366.3663188\ttotal: 5.08s\tremaining: 2.76s\n",
      "648:\tlearn: 78342.0250562\ttotal: 5.09s\tremaining: 2.75s\n",
      "649:\tlearn: 78320.5855782\ttotal: 5.09s\tremaining: 2.74s\n",
      "650:\tlearn: 78302.9372829\ttotal: 5.1s\tremaining: 2.73s\n",
      "651:\tlearn: 78257.5579180\ttotal: 5.11s\tremaining: 2.73s\n",
      "652:\tlearn: 78212.7367710\ttotal: 5.12s\tremaining: 2.72s\n",
      "653:\tlearn: 78177.2172756\ttotal: 5.13s\tremaining: 2.71s\n",
      "654:\tlearn: 78152.2592845\ttotal: 5.14s\tremaining: 2.71s\n",
      "655:\tlearn: 78130.6951123\ttotal: 5.15s\tremaining: 2.7s\n",
      "656:\tlearn: 78118.0900607\ttotal: 5.15s\tremaining: 2.69s\n",
      "657:\tlearn: 78083.3058615\ttotal: 5.16s\tremaining: 2.68s\n",
      "658:\tlearn: 78044.9908849\ttotal: 5.16s\tremaining: 2.67s\n",
      "659:\tlearn: 78028.3290990\ttotal: 5.17s\tremaining: 2.66s\n",
      "660:\tlearn: 77993.2887380\ttotal: 5.17s\tremaining: 2.65s\n",
      "661:\tlearn: 77970.0443516\ttotal: 5.18s\tremaining: 2.65s\n",
      "662:\tlearn: 77943.0299474\ttotal: 5.19s\tremaining: 2.64s\n",
      "663:\tlearn: 77916.3483281\ttotal: 5.19s\tremaining: 2.63s\n",
      "664:\tlearn: 77881.1602825\ttotal: 5.2s\tremaining: 2.62s\n",
      "665:\tlearn: 77843.9529064\ttotal: 5.2s\tremaining: 2.61s\n",
      "666:\tlearn: 77810.0475225\ttotal: 5.21s\tremaining: 2.6s\n",
      "667:\tlearn: 77789.9233054\ttotal: 5.21s\tremaining: 2.59s\n",
      "668:\tlearn: 77763.6042590\ttotal: 5.22s\tremaining: 2.58s\n",
      "669:\tlearn: 77739.6987583\ttotal: 5.23s\tremaining: 2.57s\n",
      "670:\tlearn: 77715.8848898\ttotal: 5.23s\tremaining: 2.56s\n",
      "671:\tlearn: 77678.8357936\ttotal: 5.24s\tremaining: 2.56s\n",
      "672:\tlearn: 77655.6255841\ttotal: 5.24s\tremaining: 2.55s\n",
      "673:\tlearn: 77622.1671448\ttotal: 5.25s\tremaining: 2.54s\n",
      "674:\tlearn: 77580.6326245\ttotal: 5.25s\tremaining: 2.53s\n",
      "675:\tlearn: 77539.0299283\ttotal: 5.26s\tremaining: 2.52s\n",
      "676:\tlearn: 77520.9903116\ttotal: 5.27s\tremaining: 2.51s\n",
      "677:\tlearn: 77499.1244044\ttotal: 5.28s\tremaining: 2.51s\n",
      "678:\tlearn: 77478.2240434\ttotal: 5.29s\tremaining: 2.5s\n",
      "679:\tlearn: 77452.6277748\ttotal: 5.3s\tremaining: 2.49s\n",
      "680:\tlearn: 77430.8250307\ttotal: 5.3s\tremaining: 2.48s\n",
      "681:\tlearn: 77405.9264581\ttotal: 5.31s\tremaining: 2.48s\n",
      "682:\tlearn: 77385.4788972\ttotal: 5.32s\tremaining: 2.47s\n",
      "683:\tlearn: 77341.0761973\ttotal: 5.32s\tremaining: 2.46s\n",
      "684:\tlearn: 77293.9727044\ttotal: 5.33s\tremaining: 2.45s\n",
      "685:\tlearn: 77261.2600376\ttotal: 5.33s\tremaining: 2.44s\n",
      "686:\tlearn: 77217.2886686\ttotal: 5.34s\tremaining: 2.43s\n",
      "687:\tlearn: 77182.9763585\ttotal: 5.35s\tremaining: 2.42s\n",
      "688:\tlearn: 77149.4195465\ttotal: 5.35s\tremaining: 2.42s\n",
      "689:\tlearn: 77119.1106411\ttotal: 5.36s\tremaining: 2.41s\n",
      "690:\tlearn: 77078.0094603\ttotal: 5.36s\tremaining: 2.4s\n",
      "691:\tlearn: 77049.6564297\ttotal: 5.37s\tremaining: 2.39s\n",
      "692:\tlearn: 77028.9576520\ttotal: 5.38s\tremaining: 2.38s\n",
      "693:\tlearn: 77007.0502000\ttotal: 5.4s\tremaining: 2.38s\n",
      "694:\tlearn: 76979.9224865\ttotal: 5.4s\tremaining: 2.37s\n",
      "695:\tlearn: 76940.2512603\ttotal: 5.41s\tremaining: 2.36s\n",
      "696:\tlearn: 76919.6929163\ttotal: 5.42s\tremaining: 2.35s\n",
      "697:\tlearn: 76894.1711809\ttotal: 5.42s\tremaining: 2.35s\n",
      "698:\tlearn: 76860.8707323\ttotal: 5.43s\tremaining: 2.34s\n",
      "699:\tlearn: 76814.9342014\ttotal: 5.43s\tremaining: 2.33s\n",
      "700:\tlearn: 76792.9573971\ttotal: 5.44s\tremaining: 2.32s\n",
      "701:\tlearn: 76760.0499526\ttotal: 5.45s\tremaining: 2.31s\n",
      "702:\tlearn: 76742.6595500\ttotal: 5.46s\tremaining: 2.31s\n",
      "703:\tlearn: 76714.1374242\ttotal: 5.47s\tremaining: 2.3s\n",
      "704:\tlearn: 76689.3571895\ttotal: 5.47s\tremaining: 2.29s\n",
      "705:\tlearn: 76673.4428629\ttotal: 5.48s\tremaining: 2.28s\n",
      "706:\tlearn: 76651.8859026\ttotal: 5.49s\tremaining: 2.27s\n",
      "707:\tlearn: 76633.2376015\ttotal: 5.5s\tremaining: 2.27s\n",
      "708:\tlearn: 76576.9569613\ttotal: 5.5s\tremaining: 2.26s\n",
      "709:\tlearn: 76556.4034753\ttotal: 5.51s\tremaining: 2.25s\n",
      "710:\tlearn: 76508.2749372\ttotal: 5.51s\tremaining: 2.24s\n",
      "711:\tlearn: 76485.1307318\ttotal: 5.52s\tremaining: 2.23s\n",
      "712:\tlearn: 76465.3982292\ttotal: 5.52s\tremaining: 2.22s\n",
      "713:\tlearn: 76417.6658778\ttotal: 5.53s\tremaining: 2.21s\n",
      "714:\tlearn: 76381.6217415\ttotal: 5.54s\tremaining: 2.21s\n",
      "715:\tlearn: 76346.6379117\ttotal: 5.54s\tremaining: 2.2s\n",
      "716:\tlearn: 76330.9820068\ttotal: 5.55s\tremaining: 2.19s\n",
      "717:\tlearn: 76298.7452181\ttotal: 5.55s\tremaining: 2.18s\n",
      "718:\tlearn: 76271.0479591\ttotal: 5.56s\tremaining: 2.17s\n",
      "719:\tlearn: 76250.4703110\ttotal: 5.56s\tremaining: 2.16s\n",
      "720:\tlearn: 76212.1541814\ttotal: 5.57s\tremaining: 2.15s\n",
      "721:\tlearn: 76187.3515157\ttotal: 5.58s\tremaining: 2.15s\n",
      "722:\tlearn: 76148.7238695\ttotal: 5.58s\tremaining: 2.14s\n",
      "723:\tlearn: 76129.0576334\ttotal: 5.59s\tremaining: 2.13s\n",
      "724:\tlearn: 76096.3639607\ttotal: 5.59s\tremaining: 2.12s\n",
      "725:\tlearn: 76060.3277637\ttotal: 5.6s\tremaining: 2.12s\n",
      "726:\tlearn: 76030.7161317\ttotal: 5.61s\tremaining: 2.11s\n",
      "727:\tlearn: 76009.6209782\ttotal: 5.62s\tremaining: 2.1s\n",
      "728:\tlearn: 75974.7623683\ttotal: 5.63s\tremaining: 2.09s\n",
      "729:\tlearn: 75949.7842287\ttotal: 5.63s\tremaining: 2.08s\n",
      "730:\tlearn: 75924.1619160\ttotal: 5.64s\tremaining: 2.08s\n",
      "731:\tlearn: 75903.3816616\ttotal: 5.65s\tremaining: 2.07s\n",
      "732:\tlearn: 75884.6862422\ttotal: 5.66s\tremaining: 2.06s\n",
      "733:\tlearn: 75867.2217168\ttotal: 5.66s\tremaining: 2.05s\n",
      "734:\tlearn: 75837.4423370\ttotal: 5.67s\tremaining: 2.04s\n",
      "735:\tlearn: 75822.2015625\ttotal: 5.67s\tremaining: 2.04s\n",
      "736:\tlearn: 75804.4986771\ttotal: 5.68s\tremaining: 2.03s\n",
      "737:\tlearn: 75790.4888822\ttotal: 5.69s\tremaining: 2.02s\n",
      "738:\tlearn: 75743.7717684\ttotal: 5.69s\tremaining: 2.01s\n",
      "739:\tlearn: 75726.1168690\ttotal: 5.7s\tremaining: 2s\n",
      "740:\tlearn: 75692.1414406\ttotal: 5.7s\tremaining: 1.99s\n",
      "741:\tlearn: 75658.7864796\ttotal: 5.71s\tremaining: 1.99s\n",
      "742:\tlearn: 75624.9021988\ttotal: 5.72s\tremaining: 1.98s\n",
      "743:\tlearn: 75600.0383518\ttotal: 5.72s\tremaining: 1.97s\n",
      "744:\tlearn: 75571.8750436\ttotal: 5.73s\tremaining: 1.96s\n",
      "745:\tlearn: 75540.5832921\ttotal: 5.73s\tremaining: 1.95s\n",
      "746:\tlearn: 75503.4670268\ttotal: 5.74s\tremaining: 1.94s\n",
      "747:\tlearn: 75478.3973861\ttotal: 5.74s\tremaining: 1.94s\n",
      "748:\tlearn: 75461.4746949\ttotal: 5.75s\tremaining: 1.93s\n",
      "749:\tlearn: 75436.2352814\ttotal: 5.75s\tremaining: 1.92s\n",
      "750:\tlearn: 75413.4970736\ttotal: 5.76s\tremaining: 1.91s\n",
      "751:\tlearn: 75370.5359033\ttotal: 5.77s\tremaining: 1.9s\n",
      "752:\tlearn: 75347.7468085\ttotal: 5.78s\tremaining: 1.89s\n",
      "753:\tlearn: 75305.2236269\ttotal: 5.79s\tremaining: 1.89s\n",
      "754:\tlearn: 75282.7522324\ttotal: 5.79s\tremaining: 1.88s\n",
      "755:\tlearn: 75254.7362145\ttotal: 5.8s\tremaining: 1.87s\n",
      "756:\tlearn: 75233.4370512\ttotal: 5.81s\tremaining: 1.86s\n",
      "757:\tlearn: 75179.6064867\ttotal: 5.82s\tremaining: 1.86s\n",
      "758:\tlearn: 75150.1511015\ttotal: 5.82s\tremaining: 1.85s\n",
      "759:\tlearn: 75117.6040434\ttotal: 5.83s\tremaining: 1.84s\n",
      "760:\tlearn: 75089.0408972\ttotal: 5.83s\tremaining: 1.83s\n",
      "761:\tlearn: 75069.4286699\ttotal: 5.84s\tremaining: 1.82s\n",
      "762:\tlearn: 75042.2359805\ttotal: 5.84s\tremaining: 1.81s\n",
      "763:\tlearn: 75010.8218666\ttotal: 5.85s\tremaining: 1.81s\n",
      "764:\tlearn: 74990.0723369\ttotal: 5.86s\tremaining: 1.8s\n",
      "765:\tlearn: 74972.3688287\ttotal: 5.86s\tremaining: 1.79s\n",
      "766:\tlearn: 74935.4428904\ttotal: 5.87s\tremaining: 1.78s\n",
      "767:\tlearn: 74917.2340105\ttotal: 5.87s\tremaining: 1.77s\n",
      "768:\tlearn: 74885.3381487\ttotal: 5.88s\tremaining: 1.77s\n",
      "769:\tlearn: 74840.8991746\ttotal: 5.88s\tremaining: 1.76s\n",
      "770:\tlearn: 74807.7754528\ttotal: 5.89s\tremaining: 1.75s\n",
      "771:\tlearn: 74787.7073256\ttotal: 5.9s\tremaining: 1.74s\n",
      "772:\tlearn: 74765.7508969\ttotal: 5.9s\tremaining: 1.73s\n",
      "773:\tlearn: 74746.5688228\ttotal: 5.91s\tremaining: 1.73s\n",
      "774:\tlearn: 74723.4115184\ttotal: 5.91s\tremaining: 1.72s\n",
      "775:\tlearn: 74703.1386456\ttotal: 5.92s\tremaining: 1.71s\n",
      "776:\tlearn: 74683.0988363\ttotal: 5.92s\tremaining: 1.7s\n",
      "777:\tlearn: 74641.5867230\ttotal: 5.93s\tremaining: 1.69s\n",
      "778:\tlearn: 74625.7093878\ttotal: 5.94s\tremaining: 1.68s\n"
     ]
    },
    {
     "name": "stdout",
     "output_type": "stream",
     "text": [
      "779:\tlearn: 74587.5018641\ttotal: 5.95s\tremaining: 1.68s\n",
      "780:\tlearn: 74564.4130985\ttotal: 5.96s\tremaining: 1.67s\n",
      "781:\tlearn: 74560.7225859\ttotal: 5.96s\tremaining: 1.66s\n",
      "782:\tlearn: 74518.6315288\ttotal: 5.97s\tremaining: 1.66s\n",
      "783:\tlearn: 74496.7421068\ttotal: 5.98s\tremaining: 1.65s\n",
      "784:\tlearn: 74462.6425699\ttotal: 5.99s\tremaining: 1.64s\n",
      "785:\tlearn: 74431.6988714\ttotal: 5.99s\tremaining: 1.63s\n",
      "786:\tlearn: 74389.5628522\ttotal: 6s\tremaining: 1.62s\n",
      "787:\tlearn: 74353.0139652\ttotal: 6.01s\tremaining: 1.61s\n",
      "788:\tlearn: 74325.9570275\ttotal: 6.02s\tremaining: 1.61s\n",
      "789:\tlearn: 74301.7739857\ttotal: 6.02s\tremaining: 1.6s\n",
      "790:\tlearn: 74278.3026969\ttotal: 6.03s\tremaining: 1.59s\n",
      "791:\tlearn: 74239.9286691\ttotal: 6.03s\tremaining: 1.58s\n",
      "792:\tlearn: 74221.1554586\ttotal: 6.04s\tremaining: 1.58s\n",
      "793:\tlearn: 74197.4584807\ttotal: 6.04s\tremaining: 1.57s\n",
      "794:\tlearn: 74172.2533348\ttotal: 6.05s\tremaining: 1.56s\n",
      "795:\tlearn: 74148.5771820\ttotal: 6.06s\tremaining: 1.55s\n",
      "796:\tlearn: 74113.6954405\ttotal: 6.06s\tremaining: 1.54s\n",
      "797:\tlearn: 74098.6983585\ttotal: 6.07s\tremaining: 1.54s\n",
      "798:\tlearn: 74082.5880370\ttotal: 6.07s\tremaining: 1.53s\n",
      "799:\tlearn: 74065.7263220\ttotal: 6.08s\tremaining: 1.52s\n",
      "800:\tlearn: 74036.3376142\ttotal: 6.08s\tremaining: 1.51s\n",
      "801:\tlearn: 74018.3897628\ttotal: 6.09s\tremaining: 1.5s\n",
      "802:\tlearn: 74012.1810850\ttotal: 6.09s\tremaining: 1.5s\n",
      "803:\tlearn: 73978.3848557\ttotal: 6.1s\tremaining: 1.49s\n",
      "804:\tlearn: 73941.2344983\ttotal: 6.11s\tremaining: 1.48s\n",
      "805:\tlearn: 73925.0187297\ttotal: 6.11s\tremaining: 1.47s\n",
      "806:\tlearn: 73891.8284679\ttotal: 6.12s\tremaining: 1.46s\n",
      "807:\tlearn: 73867.8994767\ttotal: 6.13s\tremaining: 1.46s\n",
      "808:\tlearn: 73853.0641217\ttotal: 6.14s\tremaining: 1.45s\n",
      "809:\tlearn: 73820.1459422\ttotal: 6.15s\tremaining: 1.44s\n",
      "810:\tlearn: 73784.3498692\ttotal: 6.16s\tremaining: 1.43s\n",
      "811:\tlearn: 73753.2116085\ttotal: 6.16s\tremaining: 1.43s\n",
      "812:\tlearn: 73720.5912769\ttotal: 6.17s\tremaining: 1.42s\n",
      "813:\tlearn: 73704.9934987\ttotal: 6.17s\tremaining: 1.41s\n",
      "814:\tlearn: 73691.8545086\ttotal: 6.18s\tremaining: 1.4s\n",
      "815:\tlearn: 73662.0384229\ttotal: 6.18s\tremaining: 1.39s\n",
      "816:\tlearn: 73622.8508950\ttotal: 6.19s\tremaining: 1.39s\n",
      "817:\tlearn: 73579.2014305\ttotal: 6.2s\tremaining: 1.38s\n",
      "818:\tlearn: 73555.8791167\ttotal: 6.2s\tremaining: 1.37s\n",
      "819:\tlearn: 73552.5097574\ttotal: 6.21s\tremaining: 1.36s\n",
      "820:\tlearn: 73522.1209599\ttotal: 6.21s\tremaining: 1.35s\n",
      "821:\tlearn: 73510.0160115\ttotal: 6.22s\tremaining: 1.35s\n",
      "822:\tlearn: 73489.6031032\ttotal: 6.23s\tremaining: 1.34s\n",
      "823:\tlearn: 73467.8619289\ttotal: 6.23s\tremaining: 1.33s\n",
      "824:\tlearn: 73444.3857202\ttotal: 6.24s\tremaining: 1.32s\n",
      "825:\tlearn: 73429.4844478\ttotal: 6.24s\tremaining: 1.31s\n",
      "826:\tlearn: 73409.0343553\ttotal: 6.25s\tremaining: 1.31s\n",
      "827:\tlearn: 73383.6919386\ttotal: 6.25s\tremaining: 1.3s\n",
      "828:\tlearn: 73337.6986787\ttotal: 6.26s\tremaining: 1.29s\n",
      "829:\tlearn: 73313.5911820\ttotal: 6.27s\tremaining: 1.28s\n",
      "830:\tlearn: 73268.4946626\ttotal: 6.28s\tremaining: 1.28s\n",
      "831:\tlearn: 73250.4774581\ttotal: 6.29s\tremaining: 1.27s\n",
      "832:\tlearn: 73240.2552694\ttotal: 6.29s\tremaining: 1.26s\n",
      "833:\tlearn: 73215.5324536\ttotal: 6.3s\tremaining: 1.25s\n",
      "834:\tlearn: 73195.6015432\ttotal: 6.31s\tremaining: 1.25s\n",
      "835:\tlearn: 73179.7959983\ttotal: 6.32s\tremaining: 1.24s\n",
      "836:\tlearn: 73137.2842407\ttotal: 6.32s\tremaining: 1.23s\n",
      "837:\tlearn: 73109.5364762\ttotal: 6.33s\tremaining: 1.22s\n",
      "838:\tlearn: 73095.1158351\ttotal: 6.33s\tremaining: 1.22s\n",
      "839:\tlearn: 73075.4457026\ttotal: 6.34s\tremaining: 1.21s\n",
      "840:\tlearn: 73055.8620735\ttotal: 6.34s\tremaining: 1.2s\n",
      "841:\tlearn: 73026.7263631\ttotal: 6.35s\tremaining: 1.19s\n",
      "842:\tlearn: 72993.1693108\ttotal: 6.36s\tremaining: 1.18s\n",
      "843:\tlearn: 72978.7029210\ttotal: 6.36s\tremaining: 1.18s\n",
      "844:\tlearn: 72963.5890762\ttotal: 6.37s\tremaining: 1.17s\n",
      "845:\tlearn: 72956.6715651\ttotal: 6.37s\tremaining: 1.16s\n",
      "846:\tlearn: 72938.4165564\ttotal: 6.38s\tremaining: 1.15s\n",
      "847:\tlearn: 72915.4921490\ttotal: 6.38s\tremaining: 1.14s\n",
      "848:\tlearn: 72901.7851708\ttotal: 6.4s\tremaining: 1.14s\n",
      "849:\tlearn: 72884.8459160\ttotal: 6.4s\tremaining: 1.13s\n",
      "850:\tlearn: 72858.8388831\ttotal: 6.41s\tremaining: 1.12s\n",
      "851:\tlearn: 72837.0170334\ttotal: 6.41s\tremaining: 1.11s\n",
      "852:\tlearn: 72816.3237293\ttotal: 6.42s\tremaining: 1.11s\n",
      "853:\tlearn: 72798.6207767\ttotal: 6.42s\tremaining: 1.1s\n",
      "854:\tlearn: 72773.7008964\ttotal: 6.43s\tremaining: 1.09s\n",
      "855:\tlearn: 72755.0351236\ttotal: 6.44s\tremaining: 1.08s\n",
      "856:\tlearn: 72731.2690129\ttotal: 6.44s\tremaining: 1.07s\n",
      "857:\tlearn: 72716.1559283\ttotal: 6.45s\tremaining: 1.07s\n",
      "858:\tlearn: 72676.0973007\ttotal: 6.46s\tremaining: 1.06s\n",
      "859:\tlearn: 72653.9599313\ttotal: 6.46s\tremaining: 1.05s\n",
      "860:\tlearn: 72625.9384939\ttotal: 6.47s\tremaining: 1.04s\n",
      "861:\tlearn: 72596.8748303\ttotal: 6.48s\tremaining: 1.04s\n",
      "862:\tlearn: 72584.4805884\ttotal: 6.49s\tremaining: 1.03s\n",
      "863:\tlearn: 72571.7290509\ttotal: 6.49s\tremaining: 1.02s\n",
      "864:\tlearn: 72563.6043024\ttotal: 6.5s\tremaining: 1.01s\n",
      "865:\tlearn: 72524.5092392\ttotal: 6.51s\tremaining: 1.01s\n",
      "866:\tlearn: 72510.3769574\ttotal: 6.52s\tremaining: 1000ms\n",
      "867:\tlearn: 72488.3653239\ttotal: 6.52s\tremaining: 992ms\n",
      "868:\tlearn: 72479.6472292\ttotal: 6.53s\tremaining: 984ms\n",
      "869:\tlearn: 72465.2288819\ttotal: 6.53s\tremaining: 976ms\n",
      "870:\tlearn: 72439.9440437\ttotal: 6.54s\tremaining: 968ms\n",
      "871:\tlearn: 72417.2645733\ttotal: 6.54s\tremaining: 961ms\n",
      "872:\tlearn: 72386.2223248\ttotal: 6.55s\tremaining: 953ms\n",
      "873:\tlearn: 72343.0118262\ttotal: 6.55s\tremaining: 945ms\n",
      "874:\tlearn: 72324.9886434\ttotal: 6.56s\tremaining: 937ms\n",
      "875:\tlearn: 72306.4293192\ttotal: 6.57s\tremaining: 930ms\n",
      "876:\tlearn: 72286.1658643\ttotal: 6.57s\tremaining: 922ms\n",
      "877:\tlearn: 72263.1230219\ttotal: 6.58s\tremaining: 914ms\n",
      "878:\tlearn: 72247.1644735\ttotal: 6.58s\tremaining: 906ms\n",
      "879:\tlearn: 72202.4241210\ttotal: 6.59s\tremaining: 899ms\n",
      "880:\tlearn: 72178.0596984\ttotal: 6.59s\tremaining: 891ms\n",
      "881:\tlearn: 72139.2103407\ttotal: 6.6s\tremaining: 883ms\n",
      "882:\tlearn: 72103.3783983\ttotal: 6.61s\tremaining: 875ms\n",
      "883:\tlearn: 72052.4154757\ttotal: 6.61s\tremaining: 868ms\n",
      "884:\tlearn: 72042.7462395\ttotal: 6.62s\tremaining: 860ms\n",
      "885:\tlearn: 72030.5574677\ttotal: 6.62s\tremaining: 852ms\n",
      "886:\tlearn: 72019.0599695\ttotal: 6.63s\tremaining: 845ms\n",
      "887:\tlearn: 72012.7054287\ttotal: 6.64s\tremaining: 837ms\n",
      "888:\tlearn: 71988.9210443\ttotal: 6.65s\tremaining: 830ms\n",
      "889:\tlearn: 71980.7429155\ttotal: 6.66s\tremaining: 823ms\n",
      "890:\tlearn: 71942.8230755\ttotal: 6.67s\tremaining: 815ms\n",
      "891:\tlearn: 71918.5481221\ttotal: 6.67s\tremaining: 808ms\n",
      "892:\tlearn: 71914.6742093\ttotal: 6.68s\tremaining: 800ms\n",
      "893:\tlearn: 71904.1239863\ttotal: 6.68s\tremaining: 793ms\n",
      "894:\tlearn: 71886.8087217\ttotal: 6.69s\tremaining: 785ms\n",
      "895:\tlearn: 71874.1091456\ttotal: 6.7s\tremaining: 777ms\n",
      "896:\tlearn: 71830.5564730\ttotal: 6.7s\tremaining: 770ms\n",
      "897:\tlearn: 71813.3784957\ttotal: 6.71s\tremaining: 762ms\n",
      "898:\tlearn: 71792.3696720\ttotal: 6.71s\tremaining: 754ms\n",
      "899:\tlearn: 71765.6427335\ttotal: 6.72s\tremaining: 747ms\n",
      "900:\tlearn: 71746.1439867\ttotal: 6.72s\tremaining: 739ms\n",
      "901:\tlearn: 71730.7410211\ttotal: 6.73s\tremaining: 731ms\n",
      "902:\tlearn: 71707.9295218\ttotal: 6.74s\tremaining: 724ms\n",
      "903:\tlearn: 71694.2341680\ttotal: 6.74s\tremaining: 716ms\n",
      "904:\tlearn: 71657.5490686\ttotal: 6.75s\tremaining: 708ms\n",
      "905:\tlearn: 71642.5997835\ttotal: 6.75s\tremaining: 701ms\n",
      "906:\tlearn: 71623.4829285\ttotal: 6.76s\tremaining: 693ms\n",
      "907:\tlearn: 71597.9184515\ttotal: 6.76s\tremaining: 685ms\n",
      "908:\tlearn: 71575.4532031\ttotal: 6.77s\tremaining: 678ms\n",
      "909:\tlearn: 71559.7413011\ttotal: 6.78s\tremaining: 670ms\n",
      "910:\tlearn: 71550.3148912\ttotal: 6.78s\tremaining: 663ms\n",
      "911:\tlearn: 71527.1656733\ttotal: 6.79s\tremaining: 655ms\n",
      "912:\tlearn: 71503.5489183\ttotal: 6.79s\tremaining: 648ms\n",
      "913:\tlearn: 71474.8743135\ttotal: 6.8s\tremaining: 640ms\n",
      "914:\tlearn: 71455.2689079\ttotal: 6.81s\tremaining: 633ms\n",
      "915:\tlearn: 71436.0524676\ttotal: 6.82s\tremaining: 626ms\n",
      "916:\tlearn: 71409.6505970\ttotal: 6.83s\tremaining: 618ms\n",
      "917:\tlearn: 71389.6039106\ttotal: 6.83s\tremaining: 611ms\n",
      "918:\tlearn: 71359.9559598\ttotal: 6.84s\tremaining: 603ms\n",
      "919:\tlearn: 71301.4912772\ttotal: 6.85s\tremaining: 596ms\n",
      "920:\tlearn: 71280.2361373\ttotal: 6.85s\tremaining: 588ms\n",
      "921:\tlearn: 71258.5372902\ttotal: 6.86s\tremaining: 580ms\n",
      "922:\tlearn: 71228.3844931\ttotal: 6.87s\tremaining: 573ms\n",
      "923:\tlearn: 71200.4873001\ttotal: 6.87s\tremaining: 565ms\n",
      "924:\tlearn: 71200.0952136\ttotal: 6.88s\tremaining: 558ms\n",
      "925:\tlearn: 71176.8656296\ttotal: 6.88s\tremaining: 550ms\n",
      "926:\tlearn: 71135.2468996\ttotal: 6.89s\tremaining: 542ms\n",
      "927:\tlearn: 71114.4242448\ttotal: 6.89s\tremaining: 535ms\n",
      "928:\tlearn: 71102.9520658\ttotal: 6.9s\tremaining: 527ms\n",
      "929:\tlearn: 71082.1702789\ttotal: 6.91s\tremaining: 520ms\n",
      "930:\tlearn: 71056.1096321\ttotal: 6.91s\tremaining: 512ms\n",
      "931:\tlearn: 71005.1398235\ttotal: 6.92s\tremaining: 505ms\n",
      "932:\tlearn: 70985.2296854\ttotal: 6.92s\tremaining: 497ms\n",
      "933:\tlearn: 70959.3382036\ttotal: 6.93s\tremaining: 490ms\n",
      "934:\tlearn: 70944.4333595\ttotal: 6.93s\tremaining: 482ms\n",
      "935:\tlearn: 70927.0934905\ttotal: 6.94s\tremaining: 474ms\n",
      "936:\tlearn: 70912.9654594\ttotal: 6.95s\tremaining: 467ms\n",
      "937:\tlearn: 70897.1535952\ttotal: 6.95s\tremaining: 459ms\n"
     ]
    },
    {
     "name": "stdout",
     "output_type": "stream",
     "text": [
      "938:\tlearn: 70877.8229609\ttotal: 6.96s\tremaining: 452ms\n",
      "939:\tlearn: 70846.5455908\ttotal: 6.96s\tremaining: 445ms\n",
      "940:\tlearn: 70819.8592401\ttotal: 6.97s\tremaining: 437ms\n",
      "941:\tlearn: 70794.8984956\ttotal: 6.98s\tremaining: 430ms\n",
      "942:\tlearn: 70761.4694551\ttotal: 6.99s\tremaining: 422ms\n",
      "943:\tlearn: 70745.8100875\ttotal: 7s\tremaining: 415ms\n",
      "944:\tlearn: 70719.7437352\ttotal: 7.01s\tremaining: 408ms\n",
      "945:\tlearn: 70698.7712688\ttotal: 7.01s\tremaining: 400ms\n",
      "946:\tlearn: 70673.3497335\ttotal: 7.02s\tremaining: 393ms\n",
      "947:\tlearn: 70652.6000140\ttotal: 7.03s\tremaining: 385ms\n",
      "948:\tlearn: 70628.7425332\ttotal: 7.03s\tremaining: 378ms\n",
      "949:\tlearn: 70597.6231253\ttotal: 7.04s\tremaining: 370ms\n",
      "950:\tlearn: 70582.9315383\ttotal: 7.04s\tremaining: 363ms\n",
      "951:\tlearn: 70575.2936560\ttotal: 7.05s\tremaining: 355ms\n",
      "952:\tlearn: 70552.2005796\ttotal: 7.05s\tremaining: 348ms\n",
      "953:\tlearn: 70530.9216193\ttotal: 7.06s\tremaining: 340ms\n",
      "954:\tlearn: 70525.7720967\ttotal: 7.07s\tremaining: 333ms\n",
      "955:\tlearn: 70518.1315840\ttotal: 7.07s\tremaining: 325ms\n",
      "956:\tlearn: 70502.3835883\ttotal: 7.08s\tremaining: 318ms\n",
      "957:\tlearn: 70460.2780135\ttotal: 7.08s\tremaining: 310ms\n",
      "958:\tlearn: 70439.4428812\ttotal: 7.09s\tremaining: 303ms\n",
      "959:\tlearn: 70426.5423981\ttotal: 7.09s\tremaining: 296ms\n",
      "960:\tlearn: 70380.8246867\ttotal: 7.1s\tremaining: 288ms\n",
      "961:\tlearn: 70350.2733011\ttotal: 7.11s\tremaining: 281ms\n",
      "962:\tlearn: 70329.4041072\ttotal: 7.11s\tremaining: 273ms\n",
      "963:\tlearn: 70317.8279080\ttotal: 7.12s\tremaining: 266ms\n",
      "964:\tlearn: 70298.8913844\ttotal: 7.12s\tremaining: 258ms\n",
      "965:\tlearn: 70282.7600185\ttotal: 7.13s\tremaining: 251ms\n",
      "966:\tlearn: 70263.3467542\ttotal: 7.14s\tremaining: 244ms\n",
      "967:\tlearn: 70227.5586189\ttotal: 7.15s\tremaining: 236ms\n",
      "968:\tlearn: 70208.3267879\ttotal: 7.16s\tremaining: 229ms\n",
      "969:\tlearn: 70183.7168202\ttotal: 7.16s\tremaining: 221ms\n",
      "970:\tlearn: 70159.4475147\ttotal: 7.17s\tremaining: 214ms\n",
      "971:\tlearn: 70124.9873859\ttotal: 7.18s\tremaining: 207ms\n",
      "972:\tlearn: 70109.6420071\ttotal: 7.18s\tremaining: 199ms\n",
      "973:\tlearn: 70094.5428207\ttotal: 7.19s\tremaining: 192ms\n",
      "974:\tlearn: 70080.9122851\ttotal: 7.2s\tremaining: 185ms\n",
      "975:\tlearn: 70072.4265991\ttotal: 7.2s\tremaining: 177ms\n",
      "976:\tlearn: 70054.1367839\ttotal: 7.21s\tremaining: 170ms\n",
      "977:\tlearn: 70041.6259272\ttotal: 7.21s\tremaining: 162ms\n",
      "978:\tlearn: 70014.2103844\ttotal: 7.22s\tremaining: 155ms\n",
      "979:\tlearn: 69991.9749122\ttotal: 7.22s\tremaining: 147ms\n",
      "980:\tlearn: 69968.1775072\ttotal: 7.23s\tremaining: 140ms\n",
      "981:\tlearn: 69953.1624370\ttotal: 7.24s\tremaining: 133ms\n",
      "982:\tlearn: 69938.9845967\ttotal: 7.24s\tremaining: 125ms\n",
      "983:\tlearn: 69921.0199206\ttotal: 7.25s\tremaining: 118ms\n",
      "984:\tlearn: 69889.2687321\ttotal: 7.25s\tremaining: 110ms\n",
      "985:\tlearn: 69868.6371075\ttotal: 7.26s\tremaining: 103ms\n",
      "986:\tlearn: 69856.1626540\ttotal: 7.26s\tremaining: 95.7ms\n",
      "987:\tlearn: 69844.1842874\ttotal: 7.27s\tremaining: 88.3ms\n",
      "988:\tlearn: 69822.8643393\ttotal: 7.28s\tremaining: 80.9ms\n",
      "989:\tlearn: 69811.8615771\ttotal: 7.28s\tremaining: 73.6ms\n",
      "990:\tlearn: 69790.7180562\ttotal: 7.29s\tremaining: 66.2ms\n",
      "991:\tlearn: 69774.7209222\ttotal: 7.3s\tremaining: 58.9ms\n",
      "992:\tlearn: 69751.0568316\ttotal: 7.31s\tremaining: 51.5ms\n",
      "993:\tlearn: 69737.1943741\ttotal: 7.32s\tremaining: 44.2ms\n",
      "994:\tlearn: 69710.9370657\ttotal: 7.33s\tremaining: 36.8ms\n",
      "995:\tlearn: 69681.3625955\ttotal: 7.33s\tremaining: 29.5ms\n",
      "996:\tlearn: 69662.3873200\ttotal: 7.34s\tremaining: 22.1ms\n",
      "997:\tlearn: 69645.4410948\ttotal: 7.35s\tremaining: 14.7ms\n",
      "998:\tlearn: 69627.3511174\ttotal: 7.36s\tremaining: 7.37ms\n",
      "999:\tlearn: 69608.9948924\ttotal: 7.37s\tremaining: 0us\n"
     ]
    },
    {
     "data": {
      "text/plain": [
       "<catboost.core.CatBoostRegressor at 0x2880b65e988>"
      ]
     },
     "execution_count": 83,
     "metadata": {},
     "output_type": "execute_result"
    }
   ],
   "source": [
    "from catboost import CatBoostRegressor\n",
    "cat_model = CatBoostRegressor()\n",
    "cat_model.fit(X_train,y_train)"
   ]
  },
  {
   "cell_type": "code",
   "execution_count": 84,
   "metadata": {},
   "outputs": [
    {
     "data": {
      "text/plain": [
       "0.9637582629701992"
      ]
     },
     "execution_count": 84,
     "metadata": {},
     "output_type": "execute_result"
    }
   ],
   "source": [
    "cat_model.score(X_train,y_train)"
   ]
  },
  {
   "cell_type": "code",
   "execution_count": 85,
   "metadata": {},
   "outputs": [],
   "source": [
    "y_pred = cat_model.predict(X_test)"
   ]
  },
  {
   "cell_type": "code",
   "execution_count": 86,
   "metadata": {},
   "outputs": [
    {
     "data": {
      "text/plain": [
       "<matplotlib.axes._subplots.AxesSubplot at 0x2883a5b5208>"
      ]
     },
     "execution_count": 86,
     "metadata": {},
     "output_type": "execute_result"
    },
    {
     "data": {
      "image/png": "[encoded data removed]",
      "text/plain": [
       "<Figure size 432x288 with 1 Axes>"
      ]
     },
     "metadata": {
      "needs_background": "light"
     },
     "output_type": "display_data"
    }
   ],
   "source": [
    "sns.distplot(y_test-y_pred)"
   ]
  },
  {
   "cell_type": "code",
   "execution_count": 87,
   "metadata": {},
   "outputs": [
    {
     "data": {
      "text/plain": [
       "<matplotlib.axes._subplots.AxesSubplot at 0x2884251e648>"
      ]
     },
     "execution_count": 87,
     "metadata": {},
     "output_type": "execute_result"
    },
    {
     "data": {
      "image/png": "[encoded data removed]",
      "text/plain": [
       "<Figure size 432x288 with 1 Axes>"
      ]
     },
     "metadata": {
      "needs_background": "light"
     },
     "output_type": "display_data"
    }
   ],
   "source": [
    "sns.scatterplot(y_test,y_pred)"
   ]
  },
  {
   "cell_type": "code",
   "execution_count": 88,
   "metadata": {},
   "outputs": [
    {
     "data": {
      "text/plain": [
       "{'learn': {'RMSE': 69608.9948923592}}"
      ]
     },
     "execution_count": 88,
     "metadata": {},
     "output_type": "execute_result"
    }
   ],
   "source": [
    "cat_model.best_score_"
   ]
  },
  {
   "cell_type": "code",
   "execution_count": 89,
   "metadata": {},
   "outputs": [],
   "source": [
    "y_pred_train = cat_model.predict(X_train)"
   ]
  },
  {
   "cell_type": "code",
   "execution_count": 90,
   "metadata": {},
   "outputs": [],
   "source": [
    "from sklearn import metrics"
   ]
  },
  {
   "cell_type": "code",
   "execution_count": 91,
   "metadata": {},
   "outputs": [
    {
     "data": {
      "text/plain": [
       "0.8835447392201679"
      ]
     },
     "execution_count": 91,
     "metadata": {},
     "output_type": "execute_result"
    }
   ],
   "source": [
    "metrics.r2_score(y_pred,y_test)"
   ]
  },
  {
   "cell_type": "code",
   "execution_count": 92,
   "metadata": {},
   "outputs": [
    {
     "data": {
      "text/plain": [
       "0.9612898933139641"
      ]
     },
     "execution_count": 92,
     "metadata": {},
     "output_type": "execute_result"
    }
   ],
   "source": [
    "metrics.r2_score(y_pred_train,y_train)"
   ]
  },
  {
   "cell_type": "code",
   "execution_count": 93,
   "metadata": {},
   "outputs": [
    {
     "name": "stdout",
     "output_type": "stream",
     "text": [
      "MAE : 63078.49047174459\n",
      "MSE: 13680985998.95911\n",
      "RMSE: 116965.74711837269\n"
     ]
    }
   ],
   "source": [
    "print('MAE :', metrics.mean_absolute_error(y_test,y_pred))\n",
    "print('MSE:', metrics.mean_squared_error(y_test,y_pred))\n",
    "print('RMSE:', np.sqrt(metrics.mean_squared_error(y_test,y_pred)))"
   ]
  },
  {
   "cell_type": "code",
   "execution_count": 48,
   "metadata": {},
   "outputs": [
    {
     "data": {
      "text/plain": [
       "RandomForestRegressor()"
      ]
     },
     "execution_count": 48,
     "metadata": {},
     "output_type": "execute_result"
    }
   ],
   "source": [
    "from sklearn.ensemble import RandomForestRegressor\n",
    "rf = RandomForestRegressor()\n",
    "rf.fit(X_train,y_train)"
   ]
  },
  {
   "cell_type": "code",
   "execution_count": 49,
   "metadata": {},
   "outputs": [],
   "source": [
    "y_rf_pred = rf.predict(X_test)"
   ]
  },
  {
   "cell_type": "code",
   "execution_count": 50,
   "metadata": {},
   "outputs": [
    {
     "data": {
      "text/plain": [
       "0.856053654052846"
      ]
     },
     "execution_count": 50,
     "metadata": {},
     "output_type": "execute_result"
    }
   ],
   "source": [
    "metrics.r2_score(y_rf_pred,y_test)"
   ]
  },
  {
   "cell_type": "code",
   "execution_count": 51,
   "metadata": {},
   "outputs": [
    {
     "data": {
      "text/plain": [
       "<matplotlib.axes._subplots.AxesSubplot at 0x288256a00c8>"
      ]
     },
     "execution_count": 51,
     "metadata": {},
     "output_type": "execute_result"
    },
    {
     "data": {
      "image/png": "[encoded data removed]",
      "text/plain": [
       "<Figure size 432x288 with 1 Axes>"
      ]
     },
     "metadata": {
      "needs_background": "light"
     },
     "output_type": "display_data"
    }
   ],
   "source": [
    "sns.distplot(y_test-y_pred)"
   ]
  },
  {
   "cell_type": "code",
   "execution_count": 52,
   "metadata": {},
   "outputs": [
    {
     "data": {
      "text/plain": [
       "<matplotlib.axes._subplots.AxesSubplot at 0x2882563ec08>"
      ]
     },
     "execution_count": 52,
     "metadata": {},
     "output_type": "execute_result"
    },
    {
     "data": {
      "image/png": "[encoded data removed]",
      "text/plain": [
       "<Figure size 432x288 with 1 Axes>"
      ]
     },
     "metadata": {
      "needs_background": "light"
     },
     "output_type": "display_data"
    }
   ],
   "source": [
    "sns.scatterplot(y_test,y_pred)"
   ]
  },
  {
   "cell_type": "code",
   "execution_count": 53,
   "metadata": {},
   "outputs": [
    {
     "name": "stdout",
     "output_type": "stream",
     "text": [
      "MAE : 67210.49614893927\n",
      "MSE: 15527389109.167933\n",
      "RMSE: 124608.94473980562\n"
     ]
    }
   ],
   "source": [
    "print('MAE :', metrics.mean_absolute_error(y_test,y_rf_pred))\n",
    "print('MSE:', metrics.mean_squared_error(y_test,y_rf_pred))\n",
    "print('RMSE:', np.sqrt(metrics.mean_squared_error(y_test,y_rf_pred)))"
   ]
  },
  {
   "cell_type": "code",
   "execution_count": 43,
   "metadata": {},
   "outputs": [],
   "source": [
    "from sklearn.model_selection import RandomizedSearchCV"
   ]
  },
  {
   "cell_type": "code",
   "execution_count": 45,
   "metadata": {},
   "outputs": [
    {
     "data": {
      "text/plain": [
       "{'n_estimators': [100,\n",
       "  200,\n",
       "  300,\n",
       "  400,\n",
       "  500,\n",
       "  600,\n",
       "  700,\n",
       "  800,\n",
       "  900,\n",
       "  1000,\n",
       "  1100,\n",
       "  1200],\n",
       " 'max_features': ['auto', 'sqrt'],\n",
       " 'max_depth': [5, 10, 15, 20, 25, 30],\n",
       " 'min_samples_split': [2, 5, 10, 15, 100],\n",
       " 'min_samples_leaf': [1, 2, 5, 10]}"
      ]
     },
     "execution_count": 45,
     "metadata": {},
     "output_type": "execute_result"
    }
   ],
   "source": [
    "random_grid = {'n_estimators': n_estimators,\n",
    "               'max_features': max_features,\n",
    "               'max_depth': max_depth,\n",
    "               'min_samples_split': min_samples_split,\n",
    "               'min_samples_leaf': min_samples_leaf}\n",
    "random_grid"
   ]
  },
  {
   "cell_type": "code",
   "execution_count": null,
   "metadata": {},
   "outputs": [],
   "source": [
    "random_rf = RandomizedSearchCV(estimator=rf,param_distributions=random_grid,verbose=2,cv=5,n_iter=100,n_jobs=1,scoring='neg_mean_squared_error')\n",
    "random_rf.fit(X_train,y_train)"
   ]
  },
  {
   "cell_type": "code",
   "execution_count": 104,
   "metadata": {},
   "outputs": [],
   "source": [
    "import pickle\n",
    "file = open('cbr.pkl','wb')\n",
    "pickle.dump(cat_model,file)"
   ]
  },
  {
   "cell_type": "code",
   "execution_count": 105,
   "metadata": {},
   "outputs": [],
   "source": [
    "model = pickle.load(open('cbr.pkl','rb'))"
   ]
  },
  {
   "cell_type": "code",
   "execution_count": 106,
   "metadata": {},
   "outputs": [
    {
     "data": {
      "text/plain": [
       "<catboost.core.CatBoostRegressor at 0x28842833c48>"
      ]
     },
     "execution_count": 106,
     "metadata": {},
     "output_type": "execute_result"
    }
   ],
   "source": [
    "model"
   ]
  },
  {
   "cell_type": "code",
   "execution_count": null,
   "metadata": {},
   "outputs": [],
   "source": []
  }
 ],
 "metadata": {
  "kernelspec": {
   "display_name": "Python 3",
   "language": "python",
   "name": "python3"
  },
  "language_info": {
   "codemirror_mode": {
    "name": "ipython",
    "version": 3
   },
   "file_extension": ".py",
   "mimetype": "text/x-python",
   "name": "python",
   "nbconvert_exporter": "python",
   "pygments_lexer": "ipython3",
   "version": "3.7.4"
  }
 },
 "nbformat": 4,
 "nbformat_minor": 2
}
