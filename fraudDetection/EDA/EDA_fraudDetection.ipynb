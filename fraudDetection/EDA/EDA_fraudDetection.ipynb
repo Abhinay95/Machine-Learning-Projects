{
 "cells": [
  {
   "cell_type": "code",
   "execution_count": 1,
   "metadata": {},
   "outputs": [],
   "source": [
    "import numpy as np\n",
    "import pandas as pd"
   ]
  },
  {
   "cell_type": "code",
   "execution_count": 2,
   "metadata": {},
   "outputs": [
    {
     "data": {
      "text/html": [
       "<div>\n",
       "<style scoped>\n",
       "    .dataframe tbody tr th:only-of-type {\n",
       "        vertical-align: middle;\n",
       "    }\n",
       "\n",
       "    .dataframe tbody tr th {\n",
       "        vertical-align: top;\n",
       "    }\n",
       "\n",
       "    .dataframe thead th {\n",
       "        text-align: right;\n",
       "    }\n",
       "</style>\n",
       "<table border=\"1\" class=\"dataframe\">\n",
       "  <thead>\n",
       "    <tr style=\"text-align: right;\">\n",
       "      <th></th>\n",
       "      <th>months_as_customer</th>\n",
       "      <th>age</th>\n",
       "      <th>policy_number</th>\n",
       "      <th>policy_bind_date</th>\n",
       "      <th>policy_state</th>\n",
       "      <th>policy_csl</th>\n",
       "      <th>policy_deductable</th>\n",
       "      <th>policy_annual_premium</th>\n",
       "      <th>umbrella_limit</th>\n",
       "      <th>insured_zip</th>\n",
       "      <th>...</th>\n",
       "      <th>witnesses</th>\n",
       "      <th>police_report_available</th>\n",
       "      <th>total_claim_amount</th>\n",
       "      <th>injury_claim</th>\n",
       "      <th>property_claim</th>\n",
       "      <th>vehicle_claim</th>\n",
       "      <th>auto_make</th>\n",
       "      <th>auto_model</th>\n",
       "      <th>auto_year</th>\n",
       "      <th>fraud_reported</th>\n",
       "    </tr>\n",
       "  </thead>\n",
       "  <tbody>\n",
       "    <tr>\n",
       "      <th>0</th>\n",
       "      <td>328</td>\n",
       "      <td>48</td>\n",
       "      <td>521585</td>\n",
       "      <td>10/17/2014</td>\n",
       "      <td>OH</td>\n",
       "      <td>250/500</td>\n",
       "      <td>1000</td>\n",
       "      <td>1406.91</td>\n",
       "      <td>0</td>\n",
       "      <td>466132</td>\n",
       "      <td>...</td>\n",
       "      <td>2</td>\n",
       "      <td>YES</td>\n",
       "      <td>71610</td>\n",
       "      <td>6510</td>\n",
       "      <td>13020</td>\n",
       "      <td>52080</td>\n",
       "      <td>Saab</td>\n",
       "      <td>92x</td>\n",
       "      <td>2004</td>\n",
       "      <td>Y</td>\n",
       "    </tr>\n",
       "    <tr>\n",
       "      <th>1</th>\n",
       "      <td>228</td>\n",
       "      <td>42</td>\n",
       "      <td>342868</td>\n",
       "      <td>6/27/2006</td>\n",
       "      <td>IN</td>\n",
       "      <td>250/500</td>\n",
       "      <td>2000</td>\n",
       "      <td>1197.22</td>\n",
       "      <td>5000000</td>\n",
       "      <td>468176</td>\n",
       "      <td>...</td>\n",
       "      <td>0</td>\n",
       "      <td>?</td>\n",
       "      <td>5070</td>\n",
       "      <td>780</td>\n",
       "      <td>780</td>\n",
       "      <td>3510</td>\n",
       "      <td>Mercedes</td>\n",
       "      <td>E400</td>\n",
       "      <td>2007</td>\n",
       "      <td>Y</td>\n",
       "    </tr>\n",
       "    <tr>\n",
       "      <th>2</th>\n",
       "      <td>134</td>\n",
       "      <td>29</td>\n",
       "      <td>687698</td>\n",
       "      <td>09-06-2000</td>\n",
       "      <td>OH</td>\n",
       "      <td>100/300</td>\n",
       "      <td>2000</td>\n",
       "      <td>1413.14</td>\n",
       "      <td>5000000</td>\n",
       "      <td>430632</td>\n",
       "      <td>...</td>\n",
       "      <td>3</td>\n",
       "      <td>NO</td>\n",
       "      <td>34650</td>\n",
       "      <td>7700</td>\n",
       "      <td>3850</td>\n",
       "      <td>23100</td>\n",
       "      <td>Dodge</td>\n",
       "      <td>RAM</td>\n",
       "      <td>2007</td>\n",
       "      <td>N</td>\n",
       "    </tr>\n",
       "    <tr>\n",
       "      <th>3</th>\n",
       "      <td>256</td>\n",
       "      <td>41</td>\n",
       "      <td>227811</td>\n",
       "      <td>5/25/1990</td>\n",
       "      <td>IL</td>\n",
       "      <td>250/500</td>\n",
       "      <td>2000</td>\n",
       "      <td>1415.74</td>\n",
       "      <td>6000000</td>\n",
       "      <td>608117</td>\n",
       "      <td>...</td>\n",
       "      <td>2</td>\n",
       "      <td>NO</td>\n",
       "      <td>63400</td>\n",
       "      <td>6340</td>\n",
       "      <td>6340</td>\n",
       "      <td>50720</td>\n",
       "      <td>Chevrolet</td>\n",
       "      <td>Tahoe</td>\n",
       "      <td>2014</td>\n",
       "      <td>Y</td>\n",
       "    </tr>\n",
       "    <tr>\n",
       "      <th>4</th>\n",
       "      <td>228</td>\n",
       "      <td>44</td>\n",
       "      <td>367455</td>\n",
       "      <td>06-06-2014</td>\n",
       "      <td>IL</td>\n",
       "      <td>500/1000</td>\n",
       "      <td>1000</td>\n",
       "      <td>1583.91</td>\n",
       "      <td>6000000</td>\n",
       "      <td>610706</td>\n",
       "      <td>...</td>\n",
       "      <td>1</td>\n",
       "      <td>NO</td>\n",
       "      <td>6500</td>\n",
       "      <td>1300</td>\n",
       "      <td>650</td>\n",
       "      <td>4550</td>\n",
       "      <td>Accura</td>\n",
       "      <td>RSX</td>\n",
       "      <td>2009</td>\n",
       "      <td>N</td>\n",
       "    </tr>\n",
       "  </tbody>\n",
       "</table>\n",
       "<p>5 rows × 39 columns</p>\n",
       "</div>"
      ],
      "text/plain": [
       "   months_as_customer  age  policy_number policy_bind_date policy_state  \\\n",
       "0                 328   48         521585       10/17/2014           OH   \n",
       "1                 228   42         342868        6/27/2006           IN   \n",
       "2                 134   29         687698       09-06-2000           OH   \n",
       "3                 256   41         227811        5/25/1990           IL   \n",
       "4                 228   44         367455       06-06-2014           IL   \n",
       "\n",
       "  policy_csl  policy_deductable  policy_annual_premium  umbrella_limit  \\\n",
       "0    250/500               1000                1406.91               0   \n",
       "1    250/500               2000                1197.22         5000000   \n",
       "2    100/300               2000                1413.14         5000000   \n",
       "3    250/500               2000                1415.74         6000000   \n",
       "4   500/1000               1000                1583.91         6000000   \n",
       "\n",
       "   insured_zip  ... witnesses police_report_available total_claim_amount  \\\n",
       "0       466132  ...         2                     YES              71610   \n",
       "1       468176  ...         0                       ?               5070   \n",
       "2       430632  ...         3                      NO              34650   \n",
       "3       608117  ...         2                      NO              63400   \n",
       "4       610706  ...         1                      NO               6500   \n",
       "\n",
       "  injury_claim property_claim  vehicle_claim  auto_make auto_model auto_year  \\\n",
       "0         6510          13020          52080       Saab        92x      2004   \n",
       "1          780            780           3510   Mercedes       E400      2007   \n",
       "2         7700           3850          23100      Dodge        RAM      2007   \n",
       "3         6340           6340          50720  Chevrolet      Tahoe      2014   \n",
       "4         1300            650           4550     Accura        RSX      2009   \n",
       "\n",
       "  fraud_reported  \n",
       "0              Y  \n",
       "1              Y  \n",
       "2              N  \n",
       "3              Y  \n",
       "4              N  \n",
       "\n",
       "[5 rows x 39 columns]"
      ]
     },
     "execution_count": 2,
     "metadata": {},
     "output_type": "execute_result"
    }
   ],
   "source": [
    "df = pd.read_csv('C:\\\\Users\\\\Abhinay.Verma\\\\PycharmProjects\\\\FD\\\\Training_FileFromDB\\\\InputFile.csv')\n",
    "df.head()"
   ]
  },
  {
   "cell_type": "code",
   "execution_count": 3,
   "metadata": {},
   "outputs": [],
   "source": [
    "df.replace('?',np.nan,inplace=True)"
   ]
  },
  {
   "cell_type": "code",
   "execution_count": 4,
   "metadata": {},
   "outputs": [
    {
     "data": {
      "text/html": [
       "<div>\n",
       "<style scoped>\n",
       "    .dataframe tbody tr th:only-of-type {\n",
       "        vertical-align: middle;\n",
       "    }\n",
       "\n",
       "    .dataframe tbody tr th {\n",
       "        vertical-align: top;\n",
       "    }\n",
       "\n",
       "    .dataframe thead th {\n",
       "        text-align: right;\n",
       "    }\n",
       "</style>\n",
       "<table border=\"1\" class=\"dataframe\">\n",
       "  <thead>\n",
       "    <tr style=\"text-align: right;\">\n",
       "      <th></th>\n",
       "      <th>months_as_customer</th>\n",
       "      <th>age</th>\n",
       "      <th>policy_number</th>\n",
       "      <th>policy_bind_date</th>\n",
       "      <th>policy_state</th>\n",
       "      <th>policy_csl</th>\n",
       "      <th>policy_deductable</th>\n",
       "      <th>policy_annual_premium</th>\n",
       "      <th>umbrella_limit</th>\n",
       "      <th>insured_zip</th>\n",
       "      <th>...</th>\n",
       "      <th>witnesses</th>\n",
       "      <th>police_report_available</th>\n",
       "      <th>total_claim_amount</th>\n",
       "      <th>injury_claim</th>\n",
       "      <th>property_claim</th>\n",
       "      <th>vehicle_claim</th>\n",
       "      <th>auto_make</th>\n",
       "      <th>auto_model</th>\n",
       "      <th>auto_year</th>\n",
       "      <th>fraud_reported</th>\n",
       "    </tr>\n",
       "  </thead>\n",
       "  <tbody>\n",
       "    <tr>\n",
       "      <th>0</th>\n",
       "      <td>328</td>\n",
       "      <td>48</td>\n",
       "      <td>521585</td>\n",
       "      <td>10/17/2014</td>\n",
       "      <td>OH</td>\n",
       "      <td>250/500</td>\n",
       "      <td>1000</td>\n",
       "      <td>1406.91</td>\n",
       "      <td>0</td>\n",
       "      <td>466132</td>\n",
       "      <td>...</td>\n",
       "      <td>2</td>\n",
       "      <td>YES</td>\n",
       "      <td>71610</td>\n",
       "      <td>6510</td>\n",
       "      <td>13020</td>\n",
       "      <td>52080</td>\n",
       "      <td>Saab</td>\n",
       "      <td>92x</td>\n",
       "      <td>2004</td>\n",
       "      <td>Y</td>\n",
       "    </tr>\n",
       "    <tr>\n",
       "      <th>1</th>\n",
       "      <td>228</td>\n",
       "      <td>42</td>\n",
       "      <td>342868</td>\n",
       "      <td>6/27/2006</td>\n",
       "      <td>IN</td>\n",
       "      <td>250/500</td>\n",
       "      <td>2000</td>\n",
       "      <td>1197.22</td>\n",
       "      <td>5000000</td>\n",
       "      <td>468176</td>\n",
       "      <td>...</td>\n",
       "      <td>0</td>\n",
       "      <td>NaN</td>\n",
       "      <td>5070</td>\n",
       "      <td>780</td>\n",
       "      <td>780</td>\n",
       "      <td>3510</td>\n",
       "      <td>Mercedes</td>\n",
       "      <td>E400</td>\n",
       "      <td>2007</td>\n",
       "      <td>Y</td>\n",
       "    </tr>\n",
       "    <tr>\n",
       "      <th>2</th>\n",
       "      <td>134</td>\n",
       "      <td>29</td>\n",
       "      <td>687698</td>\n",
       "      <td>09-06-2000</td>\n",
       "      <td>OH</td>\n",
       "      <td>100/300</td>\n",
       "      <td>2000</td>\n",
       "      <td>1413.14</td>\n",
       "      <td>5000000</td>\n",
       "      <td>430632</td>\n",
       "      <td>...</td>\n",
       "      <td>3</td>\n",
       "      <td>NO</td>\n",
       "      <td>34650</td>\n",
       "      <td>7700</td>\n",
       "      <td>3850</td>\n",
       "      <td>23100</td>\n",
       "      <td>Dodge</td>\n",
       "      <td>RAM</td>\n",
       "      <td>2007</td>\n",
       "      <td>N</td>\n",
       "    </tr>\n",
       "    <tr>\n",
       "      <th>3</th>\n",
       "      <td>256</td>\n",
       "      <td>41</td>\n",
       "      <td>227811</td>\n",
       "      <td>5/25/1990</td>\n",
       "      <td>IL</td>\n",
       "      <td>250/500</td>\n",
       "      <td>2000</td>\n",
       "      <td>1415.74</td>\n",
       "      <td>6000000</td>\n",
       "      <td>608117</td>\n",
       "      <td>...</td>\n",
       "      <td>2</td>\n",
       "      <td>NO</td>\n",
       "      <td>63400</td>\n",
       "      <td>6340</td>\n",
       "      <td>6340</td>\n",
       "      <td>50720</td>\n",
       "      <td>Chevrolet</td>\n",
       "      <td>Tahoe</td>\n",
       "      <td>2014</td>\n",
       "      <td>Y</td>\n",
       "    </tr>\n",
       "    <tr>\n",
       "      <th>4</th>\n",
       "      <td>228</td>\n",
       "      <td>44</td>\n",
       "      <td>367455</td>\n",
       "      <td>06-06-2014</td>\n",
       "      <td>IL</td>\n",
       "      <td>500/1000</td>\n",
       "      <td>1000</td>\n",
       "      <td>1583.91</td>\n",
       "      <td>6000000</td>\n",
       "      <td>610706</td>\n",
       "      <td>...</td>\n",
       "      <td>1</td>\n",
       "      <td>NO</td>\n",
       "      <td>6500</td>\n",
       "      <td>1300</td>\n",
       "      <td>650</td>\n",
       "      <td>4550</td>\n",
       "      <td>Accura</td>\n",
       "      <td>RSX</td>\n",
       "      <td>2009</td>\n",
       "      <td>N</td>\n",
       "    </tr>\n",
       "  </tbody>\n",
       "</table>\n",
       "<p>5 rows × 39 columns</p>\n",
       "</div>"
      ],
      "text/plain": [
       "   months_as_customer  age  policy_number policy_bind_date policy_state  \\\n",
       "0                 328   48         521585       10/17/2014           OH   \n",
       "1                 228   42         342868        6/27/2006           IN   \n",
       "2                 134   29         687698       09-06-2000           OH   \n",
       "3                 256   41         227811        5/25/1990           IL   \n",
       "4                 228   44         367455       06-06-2014           IL   \n",
       "\n",
       "  policy_csl  policy_deductable  policy_annual_premium  umbrella_limit  \\\n",
       "0    250/500               1000                1406.91               0   \n",
       "1    250/500               2000                1197.22         5000000   \n",
       "2    100/300               2000                1413.14         5000000   \n",
       "3    250/500               2000                1415.74         6000000   \n",
       "4   500/1000               1000                1583.91         6000000   \n",
       "\n",
       "   insured_zip  ... witnesses police_report_available total_claim_amount  \\\n",
       "0       466132  ...         2                     YES              71610   \n",
       "1       468176  ...         0                     NaN               5070   \n",
       "2       430632  ...         3                      NO              34650   \n",
       "3       608117  ...         2                      NO              63400   \n",
       "4       610706  ...         1                      NO               6500   \n",
       "\n",
       "  injury_claim property_claim  vehicle_claim  auto_make auto_model auto_year  \\\n",
       "0         6510          13020          52080       Saab        92x      2004   \n",
       "1          780            780           3510   Mercedes       E400      2007   \n",
       "2         7700           3850          23100      Dodge        RAM      2007   \n",
       "3         6340           6340          50720  Chevrolet      Tahoe      2014   \n",
       "4         1300            650           4550     Accura        RSX      2009   \n",
       "\n",
       "  fraud_reported  \n",
       "0              Y  \n",
       "1              Y  \n",
       "2              N  \n",
       "3              Y  \n",
       "4              N  \n",
       "\n",
       "[5 rows x 39 columns]"
      ]
     },
     "execution_count": 4,
     "metadata": {},
     "output_type": "execute_result"
    }
   ],
   "source": [
    "df.head()"
   ]
  },
  {
   "cell_type": "code",
   "execution_count": 5,
   "metadata": {},
   "outputs": [
    {
     "data": {
      "text/plain": [
       "months_as_customer               0\n",
       "age                              0\n",
       "policy_number                    0\n",
       "policy_bind_date                 0\n",
       "policy_state                     0\n",
       "policy_csl                       0\n",
       "policy_deductable                0\n",
       "policy_annual_premium            0\n",
       "umbrella_limit                   0\n",
       "insured_zip                      0\n",
       "insured_sex                      0\n",
       "insured_education_level          0\n",
       "insured_occupation               0\n",
       "insured_hobbies                  0\n",
       "insured_relationship             0\n",
       "capital-gains                    0\n",
       "capital-loss                     0\n",
       "incident_date                    0\n",
       "incident_type                    0\n",
       "collision_type                 178\n",
       "incident_severity                0\n",
       "authorities_contacted            0\n",
       "incident_state                   0\n",
       "incident_city                    0\n",
       "incident_location                0\n",
       "incident_hour_of_the_day         0\n",
       "number_of_vehicles_involved      0\n",
       "property_damage                360\n",
       "bodily_injuries                  0\n",
       "witnesses                        0\n",
       "police_report_available        343\n",
       "total_claim_amount               0\n",
       "injury_claim                     0\n",
       "property_claim                   0\n",
       "vehicle_claim                    0\n",
       "auto_make                        0\n",
       "auto_model                       0\n",
       "auto_year                        0\n",
       "fraud_reported                   0\n",
       "dtype: int64"
      ]
     },
     "execution_count": 5,
     "metadata": {},
     "output_type": "execute_result"
    }
   ],
   "source": [
    "df.isna().sum()"
   ]
  },
  {
   "cell_type": "code",
   "execution_count": 6,
   "metadata": {},
   "outputs": [],
   "source": [
    "cols_to_drop=['policy_number','policy_bind_date','policy_state','insured_zip','incident_location','incident_date','incident_state','incident_city','insured_hobbies','auto_make','auto_model','auto_year']"
   ]
  },
  {
   "cell_type": "code",
   "execution_count": 7,
   "metadata": {},
   "outputs": [],
   "source": [
    "df.drop(columns=cols_to_drop,inplace=True)"
   ]
  },
  {
   "cell_type": "code",
   "execution_count": 8,
   "metadata": {},
   "outputs": [
    {
     "data": {
      "text/html": [
       "<div>\n",
       "<style scoped>\n",
       "    .dataframe tbody tr th:only-of-type {\n",
       "        vertical-align: middle;\n",
       "    }\n",
       "\n",
       "    .dataframe tbody tr th {\n",
       "        vertical-align: top;\n",
       "    }\n",
       "\n",
       "    .dataframe thead th {\n",
       "        text-align: right;\n",
       "    }\n",
       "</style>\n",
       "<table border=\"1\" class=\"dataframe\">\n",
       "  <thead>\n",
       "    <tr style=\"text-align: right;\">\n",
       "      <th></th>\n",
       "      <th>months_as_customer</th>\n",
       "      <th>age</th>\n",
       "      <th>policy_csl</th>\n",
       "      <th>policy_deductable</th>\n",
       "      <th>policy_annual_premium</th>\n",
       "      <th>umbrella_limit</th>\n",
       "      <th>insured_sex</th>\n",
       "      <th>insured_education_level</th>\n",
       "      <th>insured_occupation</th>\n",
       "      <th>insured_relationship</th>\n",
       "      <th>...</th>\n",
       "      <th>number_of_vehicles_involved</th>\n",
       "      <th>property_damage</th>\n",
       "      <th>bodily_injuries</th>\n",
       "      <th>witnesses</th>\n",
       "      <th>police_report_available</th>\n",
       "      <th>total_claim_amount</th>\n",
       "      <th>injury_claim</th>\n",
       "      <th>property_claim</th>\n",
       "      <th>vehicle_claim</th>\n",
       "      <th>fraud_reported</th>\n",
       "    </tr>\n",
       "  </thead>\n",
       "  <tbody>\n",
       "    <tr>\n",
       "      <th>0</th>\n",
       "      <td>328</td>\n",
       "      <td>48</td>\n",
       "      <td>250/500</td>\n",
       "      <td>1000</td>\n",
       "      <td>1406.91</td>\n",
       "      <td>0</td>\n",
       "      <td>MALE</td>\n",
       "      <td>MD</td>\n",
       "      <td>craft-repair</td>\n",
       "      <td>husband</td>\n",
       "      <td>...</td>\n",
       "      <td>1</td>\n",
       "      <td>YES</td>\n",
       "      <td>1</td>\n",
       "      <td>2</td>\n",
       "      <td>YES</td>\n",
       "      <td>71610</td>\n",
       "      <td>6510</td>\n",
       "      <td>13020</td>\n",
       "      <td>52080</td>\n",
       "      <td>Y</td>\n",
       "    </tr>\n",
       "    <tr>\n",
       "      <th>1</th>\n",
       "      <td>228</td>\n",
       "      <td>42</td>\n",
       "      <td>250/500</td>\n",
       "      <td>2000</td>\n",
       "      <td>1197.22</td>\n",
       "      <td>5000000</td>\n",
       "      <td>MALE</td>\n",
       "      <td>MD</td>\n",
       "      <td>machine-op-inspct</td>\n",
       "      <td>other-relative</td>\n",
       "      <td>...</td>\n",
       "      <td>1</td>\n",
       "      <td>NaN</td>\n",
       "      <td>0</td>\n",
       "      <td>0</td>\n",
       "      <td>NaN</td>\n",
       "      <td>5070</td>\n",
       "      <td>780</td>\n",
       "      <td>780</td>\n",
       "      <td>3510</td>\n",
       "      <td>Y</td>\n",
       "    </tr>\n",
       "    <tr>\n",
       "      <th>2</th>\n",
       "      <td>134</td>\n",
       "      <td>29</td>\n",
       "      <td>100/300</td>\n",
       "      <td>2000</td>\n",
       "      <td>1413.14</td>\n",
       "      <td>5000000</td>\n",
       "      <td>FEMALE</td>\n",
       "      <td>PhD</td>\n",
       "      <td>sales</td>\n",
       "      <td>own-child</td>\n",
       "      <td>...</td>\n",
       "      <td>3</td>\n",
       "      <td>NO</td>\n",
       "      <td>2</td>\n",
       "      <td>3</td>\n",
       "      <td>NO</td>\n",
       "      <td>34650</td>\n",
       "      <td>7700</td>\n",
       "      <td>3850</td>\n",
       "      <td>23100</td>\n",
       "      <td>N</td>\n",
       "    </tr>\n",
       "    <tr>\n",
       "      <th>3</th>\n",
       "      <td>256</td>\n",
       "      <td>41</td>\n",
       "      <td>250/500</td>\n",
       "      <td>2000</td>\n",
       "      <td>1415.74</td>\n",
       "      <td>6000000</td>\n",
       "      <td>FEMALE</td>\n",
       "      <td>PhD</td>\n",
       "      <td>armed-forces</td>\n",
       "      <td>unmarried</td>\n",
       "      <td>...</td>\n",
       "      <td>1</td>\n",
       "      <td>NaN</td>\n",
       "      <td>1</td>\n",
       "      <td>2</td>\n",
       "      <td>NO</td>\n",
       "      <td>63400</td>\n",
       "      <td>6340</td>\n",
       "      <td>6340</td>\n",
       "      <td>50720</td>\n",
       "      <td>Y</td>\n",
       "    </tr>\n",
       "    <tr>\n",
       "      <th>4</th>\n",
       "      <td>228</td>\n",
       "      <td>44</td>\n",
       "      <td>500/1000</td>\n",
       "      <td>1000</td>\n",
       "      <td>1583.91</td>\n",
       "      <td>6000000</td>\n",
       "      <td>MALE</td>\n",
       "      <td>Associate</td>\n",
       "      <td>sales</td>\n",
       "      <td>unmarried</td>\n",
       "      <td>...</td>\n",
       "      <td>1</td>\n",
       "      <td>NO</td>\n",
       "      <td>0</td>\n",
       "      <td>1</td>\n",
       "      <td>NO</td>\n",
       "      <td>6500</td>\n",
       "      <td>1300</td>\n",
       "      <td>650</td>\n",
       "      <td>4550</td>\n",
       "      <td>N</td>\n",
       "    </tr>\n",
       "  </tbody>\n",
       "</table>\n",
       "<p>5 rows × 27 columns</p>\n",
       "</div>"
      ],
      "text/plain": [
       "   months_as_customer  age policy_csl  policy_deductable  \\\n",
       "0                 328   48    250/500               1000   \n",
       "1                 228   42    250/500               2000   \n",
       "2                 134   29    100/300               2000   \n",
       "3                 256   41    250/500               2000   \n",
       "4                 228   44   500/1000               1000   \n",
       "\n",
       "   policy_annual_premium  umbrella_limit insured_sex insured_education_level  \\\n",
       "0                1406.91               0        MALE                      MD   \n",
       "1                1197.22         5000000        MALE                      MD   \n",
       "2                1413.14         5000000      FEMALE                     PhD   \n",
       "3                1415.74         6000000      FEMALE                     PhD   \n",
       "4                1583.91         6000000        MALE               Associate   \n",
       "\n",
       "  insured_occupation insured_relationship  ...  number_of_vehicles_involved  \\\n",
       "0       craft-repair              husband  ...                            1   \n",
       "1  machine-op-inspct       other-relative  ...                            1   \n",
       "2              sales            own-child  ...                            3   \n",
       "3       armed-forces            unmarried  ...                            1   \n",
       "4              sales            unmarried  ...                            1   \n",
       "\n",
       "   property_damage bodily_injuries witnesses police_report_available  \\\n",
       "0              YES               1         2                     YES   \n",
       "1              NaN               0         0                     NaN   \n",
       "2               NO               2         3                      NO   \n",
       "3              NaN               1         2                      NO   \n",
       "4               NO               0         1                      NO   \n",
       "\n",
       "  total_claim_amount  injury_claim  property_claim vehicle_claim  \\\n",
       "0              71610          6510           13020         52080   \n",
       "1               5070           780             780          3510   \n",
       "2              34650          7700            3850         23100   \n",
       "3              63400          6340            6340         50720   \n",
       "4               6500          1300             650          4550   \n",
       "\n",
       "   fraud_reported  \n",
       "0               Y  \n",
       "1               Y  \n",
       "2               N  \n",
       "3               Y  \n",
       "4               N  \n",
       "\n",
       "[5 rows x 27 columns]"
      ]
     },
     "execution_count": 8,
     "metadata": {},
     "output_type": "execute_result"
    }
   ],
   "source": [
    "df.head()"
   ]
  },
  {
   "cell_type": "code",
   "execution_count": 9,
   "metadata": {},
   "outputs": [
    {
     "name": "stdout",
     "output_type": "stream",
     "text": [
      "<class 'pandas.core.frame.DataFrame'>\n",
      "RangeIndex: 1000 entries, 0 to 999\n",
      "Data columns (total 27 columns):\n",
      " #   Column                       Non-Null Count  Dtype  \n",
      "---  ------                       --------------  -----  \n",
      " 0   months_as_customer           1000 non-null   int64  \n",
      " 1   age                          1000 non-null   int64  \n",
      " 2   policy_csl                   1000 non-null   object \n",
      " 3   policy_deductable            1000 non-null   int64  \n",
      " 4   policy_annual_premium        1000 non-null   float64\n",
      " 5   umbrella_limit               1000 non-null   int64  \n",
      " 6   insured_sex                  1000 non-null   object \n",
      " 7   insured_education_level      1000 non-null   object \n",
      " 8   insured_occupation           1000 non-null   object \n",
      " 9   insured_relationship         1000 non-null   object \n",
      " 10  capital-gains                1000 non-null   int64  \n",
      " 11  capital-loss                 1000 non-null   int64  \n",
      " 12  incident_type                1000 non-null   object \n",
      " 13  collision_type               822 non-null    object \n",
      " 14  incident_severity            1000 non-null   object \n",
      " 15  authorities_contacted        1000 non-null   object \n",
      " 16  incident_hour_of_the_day     1000 non-null   int64  \n",
      " 17  number_of_vehicles_involved  1000 non-null   int64  \n",
      " 18  property_damage              640 non-null    object \n",
      " 19  bodily_injuries              1000 non-null   int64  \n",
      " 20  witnesses                    1000 non-null   int64  \n",
      " 21  police_report_available      657 non-null    object \n",
      " 22  total_claim_amount           1000 non-null   int64  \n",
      " 23  injury_claim                 1000 non-null   int64  \n",
      " 24  property_claim               1000 non-null   int64  \n",
      " 25  vehicle_claim                1000 non-null   int64  \n",
      " 26  fraud_reported               1000 non-null   object \n",
      "dtypes: float64(1), int64(14), object(12)\n",
      "memory usage: 211.1+ KB\n"
     ]
    }
   ],
   "source": [
    "df.info()"
   ]
  },
  {
   "cell_type": "code",
   "execution_count": 25,
   "metadata": {},
   "outputs": [],
   "source": [
    "cat_df = df.select_dtypes(include=['object']).copy()"
   ]
  },
  {
   "cell_type": "code",
   "execution_count": 26,
   "metadata": {},
   "outputs": [
    {
     "data": {
      "text/html": [
       "<div>\n",
       "<style scoped>\n",
       "    .dataframe tbody tr th:only-of-type {\n",
       "        vertical-align: middle;\n",
       "    }\n",
       "\n",
       "    .dataframe tbody tr th {\n",
       "        vertical-align: top;\n",
       "    }\n",
       "\n",
       "    .dataframe thead th {\n",
       "        text-align: right;\n",
       "    }\n",
       "</style>\n",
       "<table border=\"1\" class=\"dataframe\">\n",
       "  <thead>\n",
       "    <tr style=\"text-align: right;\">\n",
       "      <th></th>\n",
       "      <th>policy_csl</th>\n",
       "      <th>insured_sex</th>\n",
       "      <th>insured_education_level</th>\n",
       "      <th>insured_occupation</th>\n",
       "      <th>insured_relationship</th>\n",
       "      <th>incident_type</th>\n",
       "      <th>collision_type</th>\n",
       "      <th>incident_severity</th>\n",
       "      <th>authorities_contacted</th>\n",
       "      <th>property_damage</th>\n",
       "      <th>police_report_available</th>\n",
       "      <th>fraud_reported</th>\n",
       "    </tr>\n",
       "  </thead>\n",
       "  <tbody>\n",
       "    <tr>\n",
       "      <th>0</th>\n",
       "      <td>250/500</td>\n",
       "      <td>MALE</td>\n",
       "      <td>MD</td>\n",
       "      <td>craft-repair</td>\n",
       "      <td>husband</td>\n",
       "      <td>Single Vehicle Collision</td>\n",
       "      <td>Side Collision</td>\n",
       "      <td>Major Damage</td>\n",
       "      <td>Police</td>\n",
       "      <td>YES</td>\n",
       "      <td>YES</td>\n",
       "      <td>Y</td>\n",
       "    </tr>\n",
       "    <tr>\n",
       "      <th>1</th>\n",
       "      <td>250/500</td>\n",
       "      <td>MALE</td>\n",
       "      <td>MD</td>\n",
       "      <td>machine-op-inspct</td>\n",
       "      <td>other-relative</td>\n",
       "      <td>Vehicle Theft</td>\n",
       "      <td>Rear Collision</td>\n",
       "      <td>Minor Damage</td>\n",
       "      <td>Police</td>\n",
       "      <td>NO</td>\n",
       "      <td>NO</td>\n",
       "      <td>Y</td>\n",
       "    </tr>\n",
       "    <tr>\n",
       "      <th>2</th>\n",
       "      <td>100/300</td>\n",
       "      <td>FEMALE</td>\n",
       "      <td>PhD</td>\n",
       "      <td>sales</td>\n",
       "      <td>own-child</td>\n",
       "      <td>Multi-vehicle Collision</td>\n",
       "      <td>Rear Collision</td>\n",
       "      <td>Minor Damage</td>\n",
       "      <td>Police</td>\n",
       "      <td>NO</td>\n",
       "      <td>NO</td>\n",
       "      <td>N</td>\n",
       "    </tr>\n",
       "    <tr>\n",
       "      <th>3</th>\n",
       "      <td>250/500</td>\n",
       "      <td>FEMALE</td>\n",
       "      <td>PhD</td>\n",
       "      <td>armed-forces</td>\n",
       "      <td>unmarried</td>\n",
       "      <td>Single Vehicle Collision</td>\n",
       "      <td>Front Collision</td>\n",
       "      <td>Major Damage</td>\n",
       "      <td>Police</td>\n",
       "      <td>NO</td>\n",
       "      <td>NO</td>\n",
       "      <td>Y</td>\n",
       "    </tr>\n",
       "    <tr>\n",
       "      <th>4</th>\n",
       "      <td>500/1000</td>\n",
       "      <td>MALE</td>\n",
       "      <td>Associate</td>\n",
       "      <td>sales</td>\n",
       "      <td>unmarried</td>\n",
       "      <td>Vehicle Theft</td>\n",
       "      <td>Rear Collision</td>\n",
       "      <td>Minor Damage</td>\n",
       "      <td>None</td>\n",
       "      <td>NO</td>\n",
       "      <td>NO</td>\n",
       "      <td>N</td>\n",
       "    </tr>\n",
       "    <tr>\n",
       "      <th>...</th>\n",
       "      <td>...</td>\n",
       "      <td>...</td>\n",
       "      <td>...</td>\n",
       "      <td>...</td>\n",
       "      <td>...</td>\n",
       "      <td>...</td>\n",
       "      <td>...</td>\n",
       "      <td>...</td>\n",
       "      <td>...</td>\n",
       "      <td>...</td>\n",
       "      <td>...</td>\n",
       "      <td>...</td>\n",
       "    </tr>\n",
       "    <tr>\n",
       "      <th>995</th>\n",
       "      <td>500/1000</td>\n",
       "      <td>FEMALE</td>\n",
       "      <td>Masters</td>\n",
       "      <td>craft-repair</td>\n",
       "      <td>unmarried</td>\n",
       "      <td>Single Vehicle Collision</td>\n",
       "      <td>Front Collision</td>\n",
       "      <td>Minor Damage</td>\n",
       "      <td>Fire</td>\n",
       "      <td>YES</td>\n",
       "      <td>NO</td>\n",
       "      <td>N</td>\n",
       "    </tr>\n",
       "    <tr>\n",
       "      <th>996</th>\n",
       "      <td>100/300</td>\n",
       "      <td>FEMALE</td>\n",
       "      <td>PhD</td>\n",
       "      <td>prof-specialty</td>\n",
       "      <td>wife</td>\n",
       "      <td>Single Vehicle Collision</td>\n",
       "      <td>Rear Collision</td>\n",
       "      <td>Major Damage</td>\n",
       "      <td>Fire</td>\n",
       "      <td>YES</td>\n",
       "      <td>NO</td>\n",
       "      <td>N</td>\n",
       "    </tr>\n",
       "    <tr>\n",
       "      <th>997</th>\n",
       "      <td>250/500</td>\n",
       "      <td>FEMALE</td>\n",
       "      <td>Masters</td>\n",
       "      <td>armed-forces</td>\n",
       "      <td>other-relative</td>\n",
       "      <td>Multi-vehicle Collision</td>\n",
       "      <td>Side Collision</td>\n",
       "      <td>Minor Damage</td>\n",
       "      <td>Police</td>\n",
       "      <td>NO</td>\n",
       "      <td>YES</td>\n",
       "      <td>N</td>\n",
       "    </tr>\n",
       "    <tr>\n",
       "      <th>998</th>\n",
       "      <td>500/1000</td>\n",
       "      <td>MALE</td>\n",
       "      <td>Associate</td>\n",
       "      <td>handlers-cleaners</td>\n",
       "      <td>wife</td>\n",
       "      <td>Single Vehicle Collision</td>\n",
       "      <td>Rear Collision</td>\n",
       "      <td>Major Damage</td>\n",
       "      <td>Other</td>\n",
       "      <td>NO</td>\n",
       "      <td>YES</td>\n",
       "      <td>N</td>\n",
       "    </tr>\n",
       "    <tr>\n",
       "      <th>999</th>\n",
       "      <td>250/500</td>\n",
       "      <td>FEMALE</td>\n",
       "      <td>Associate</td>\n",
       "      <td>sales</td>\n",
       "      <td>husband</td>\n",
       "      <td>Parked Car</td>\n",
       "      <td>Rear Collision</td>\n",
       "      <td>Minor Damage</td>\n",
       "      <td>Police</td>\n",
       "      <td>NO</td>\n",
       "      <td>NO</td>\n",
       "      <td>N</td>\n",
       "    </tr>\n",
       "  </tbody>\n",
       "</table>\n",
       "<p>1000 rows × 12 columns</p>\n",
       "</div>"
      ],
      "text/plain": [
       "    policy_csl insured_sex insured_education_level insured_occupation  \\\n",
       "0      250/500        MALE                      MD       craft-repair   \n",
       "1      250/500        MALE                      MD  machine-op-inspct   \n",
       "2      100/300      FEMALE                     PhD              sales   \n",
       "3      250/500      FEMALE                     PhD       armed-forces   \n",
       "4     500/1000        MALE               Associate              sales   \n",
       "..         ...         ...                     ...                ...   \n",
       "995   500/1000      FEMALE                 Masters       craft-repair   \n",
       "996    100/300      FEMALE                     PhD     prof-specialty   \n",
       "997    250/500      FEMALE                 Masters       armed-forces   \n",
       "998   500/1000        MALE               Associate  handlers-cleaners   \n",
       "999    250/500      FEMALE               Associate              sales   \n",
       "\n",
       "    insured_relationship             incident_type   collision_type  \\\n",
       "0                husband  Single Vehicle Collision   Side Collision   \n",
       "1         other-relative             Vehicle Theft   Rear Collision   \n",
       "2              own-child   Multi-vehicle Collision   Rear Collision   \n",
       "3              unmarried  Single Vehicle Collision  Front Collision   \n",
       "4              unmarried             Vehicle Theft   Rear Collision   \n",
       "..                   ...                       ...              ...   \n",
       "995            unmarried  Single Vehicle Collision  Front Collision   \n",
       "996                 wife  Single Vehicle Collision   Rear Collision   \n",
       "997       other-relative   Multi-vehicle Collision   Side Collision   \n",
       "998                 wife  Single Vehicle Collision   Rear Collision   \n",
       "999              husband                Parked Car   Rear Collision   \n",
       "\n",
       "    incident_severity authorities_contacted property_damage  \\\n",
       "0        Major Damage                Police             YES   \n",
       "1        Minor Damage                Police              NO   \n",
       "2        Minor Damage                Police              NO   \n",
       "3        Major Damage                Police              NO   \n",
       "4        Minor Damage                  None              NO   \n",
       "..                ...                   ...             ...   \n",
       "995      Minor Damage                  Fire             YES   \n",
       "996      Major Damage                  Fire             YES   \n",
       "997      Minor Damage                Police              NO   \n",
       "998      Major Damage                 Other              NO   \n",
       "999      Minor Damage                Police              NO   \n",
       "\n",
       "    police_report_available fraud_reported  \n",
       "0                       YES              Y  \n",
       "1                        NO              Y  \n",
       "2                        NO              N  \n",
       "3                        NO              Y  \n",
       "4                        NO              N  \n",
       "..                      ...            ...  \n",
       "995                      NO              N  \n",
       "996                      NO              N  \n",
       "997                     YES              N  \n",
       "998                     YES              N  \n",
       "999                      NO              N  \n",
       "\n",
       "[1000 rows x 12 columns]"
      ]
     },
     "execution_count": 26,
     "metadata": {},
     "output_type": "execute_result"
    }
   ],
   "source": [
    "cat_df"
   ]
  },
  {
   "cell_type": "code",
   "execution_count": 12,
   "metadata": {},
   "outputs": [],
   "source": [
    "from sklearn_pandas import CategoricalImputer\n",
    "imputer = CategoricalImputer()"
   ]
  },
  {
   "cell_type": "code",
   "execution_count": 13,
   "metadata": {},
   "outputs": [],
   "source": [
    "df['collision_type'] = imputer.fit_transform(df['collision_type'])\n",
    "df['property_damage'] = imputer.fit_transform(df['property_damage'])\n",
    "df['police_report_available'] = imputer.fit_transform(df['police_report_available'])"
   ]
  },
  {
   "cell_type": "code",
   "execution_count": 14,
   "metadata": {},
   "outputs": [
    {
     "data": {
      "text/plain": [
       "months_as_customer             0\n",
       "age                            0\n",
       "policy_csl                     0\n",
       "policy_deductable              0\n",
       "policy_annual_premium          0\n",
       "umbrella_limit                 0\n",
       "insured_sex                    0\n",
       "insured_education_level        0\n",
       "insured_occupation             0\n",
       "insured_relationship           0\n",
       "capital-gains                  0\n",
       "capital-loss                   0\n",
       "incident_type                  0\n",
       "collision_type                 0\n",
       "incident_severity              0\n",
       "authorities_contacted          0\n",
       "incident_hour_of_the_day       0\n",
       "number_of_vehicles_involved    0\n",
       "property_damage                0\n",
       "bodily_injuries                0\n",
       "witnesses                      0\n",
       "police_report_available        0\n",
       "total_claim_amount             0\n",
       "injury_claim                   0\n",
       "property_claim                 0\n",
       "vehicle_claim                  0\n",
       "fraud_reported                 0\n",
       "dtype: int64"
      ]
     },
     "execution_count": 14,
     "metadata": {},
     "output_type": "execute_result"
    }
   ],
   "source": [
    "df.isna().sum()"
   ]
  },
  {
   "cell_type": "code",
   "execution_count": 15,
   "metadata": {},
   "outputs": [
    {
     "data": {
      "text/plain": [
       "Index(['policy_csl', 'insured_sex', 'insured_education_level',\n",
       "       'insured_occupation', 'insured_relationship', 'incident_type',\n",
       "       'collision_type', 'incident_severity', 'authorities_contacted',\n",
       "       'property_damage', 'police_report_available', 'fraud_reported'],\n",
       "      dtype='object')"
      ]
     },
     "execution_count": 15,
     "metadata": {},
     "output_type": "execute_result"
    }
   ],
   "source": [
    "cat_df.columns"
   ]
  },
  {
   "cell_type": "code",
   "execution_count": 18,
   "metadata": {},
   "outputs": [
    {
     "data": {
      "text/plain": [
       "array(['250/500', '100/300', '500/1000'], dtype=object)"
      ]
     },
     "execution_count": 18,
     "metadata": {},
     "output_type": "execute_result"
    }
   ],
   "source": [
    "cat_df['policy_csl'].unique()"
   ]
  },
  {
   "cell_type": "code",
   "execution_count": 19,
   "metadata": {},
   "outputs": [
    {
     "data": {
      "text/plain": [
       "array(['MALE', 'FEMALE'], dtype=object)"
      ]
     },
     "execution_count": 19,
     "metadata": {},
     "output_type": "execute_result"
    }
   ],
   "source": [
    "cat_df['insured_sex'].unique()"
   ]
  },
  {
   "cell_type": "code",
   "execution_count": 20,
   "metadata": {},
   "outputs": [
    {
     "data": {
      "text/plain": [
       "array(['MD', 'PhD', 'Associate', 'Masters', 'High School', 'College',\n",
       "       'JD'], dtype=object)"
      ]
     },
     "execution_count": 20,
     "metadata": {},
     "output_type": "execute_result"
    }
   ],
   "source": [
    "cat_df['insured_education_level'].unique()"
   ]
  },
  {
   "cell_type": "code",
   "execution_count": 21,
   "metadata": {},
   "outputs": [
    {
     "data": {
      "text/plain": [
       "array(['craft-repair', 'machine-op-inspct', 'sales', 'armed-forces',\n",
       "       'tech-support', 'prof-specialty', 'other-service',\n",
       "       'priv-house-serv', 'exec-managerial', 'protective-serv',\n",
       "       'transport-moving', 'handlers-cleaners', 'adm-clerical',\n",
       "       'farming-fishing'], dtype=object)"
      ]
     },
     "execution_count": 21,
     "metadata": {},
     "output_type": "execute_result"
    }
   ],
   "source": [
    "cat_df['insured_occupation'].unique()"
   ]
  },
  {
   "cell_type": "code",
   "execution_count": 22,
   "metadata": {},
   "outputs": [
    {
     "data": {
      "text/plain": [
       "array(['husband', 'other-relative', 'own-child', 'unmarried', 'wife',\n",
       "       'not-in-family'], dtype=object)"
      ]
     },
     "execution_count": 22,
     "metadata": {},
     "output_type": "execute_result"
    }
   ],
   "source": [
    "cat_df['insured_relationship'].unique()"
   ]
  },
  {
   "cell_type": "code",
   "execution_count": 23,
   "metadata": {},
   "outputs": [
    {
     "data": {
      "text/plain": [
       "array(['Single Vehicle Collision', 'Vehicle Theft',\n",
       "       'Multi-vehicle Collision', 'Parked Car'], dtype=object)"
      ]
     },
     "execution_count": 23,
     "metadata": {},
     "output_type": "execute_result"
    }
   ],
   "source": [
    "cat_df['incident_type'].unique()"
   ]
  },
  {
   "cell_type": "code",
   "execution_count": 27,
   "metadata": {},
   "outputs": [
    {
     "data": {
      "text/plain": [
       "array(['Side Collision', 'Rear Collision', 'Front Collision'],\n",
       "      dtype=object)"
      ]
     },
     "execution_count": 27,
     "metadata": {},
     "output_type": "execute_result"
    }
   ],
   "source": [
    "cat_df['collision_type'].unique()"
   ]
  },
  {
   "cell_type": "code",
   "execution_count": 28,
   "metadata": {},
   "outputs": [
    {
     "data": {
      "text/plain": [
       "array(['Major Damage', 'Minor Damage', 'Total Loss', 'Trivial Damage'],\n",
       "      dtype=object)"
      ]
     },
     "execution_count": 28,
     "metadata": {},
     "output_type": "execute_result"
    }
   ],
   "source": [
    "cat_df['incident_severity'].unique()"
   ]
  },
  {
   "cell_type": "code",
   "execution_count": 29,
   "metadata": {},
   "outputs": [
    {
     "data": {
      "text/plain": [
       "array(['Police', 'None', 'Fire', 'Other', 'Ambulance'], dtype=object)"
      ]
     },
     "execution_count": 29,
     "metadata": {},
     "output_type": "execute_result"
    }
   ],
   "source": [
    "cat_df['authorities_contacted'].unique()"
   ]
  },
  {
   "cell_type": "code",
   "execution_count": 30,
   "metadata": {},
   "outputs": [
    {
     "data": {
      "text/plain": [
       "array(['YES', 'NO'], dtype=object)"
      ]
     },
     "execution_count": 30,
     "metadata": {},
     "output_type": "execute_result"
    }
   ],
   "source": [
    "cat_df['property_damage'].unique()"
   ]
  },
  {
   "cell_type": "code",
   "execution_count": 31,
   "metadata": {},
   "outputs": [
    {
     "data": {
      "text/plain": [
       "array(['YES', 'NO'], dtype=object)"
      ]
     },
     "execution_count": 31,
     "metadata": {},
     "output_type": "execute_result"
    }
   ],
   "source": [
    "cat_df['police_report_available'].unique()"
   ]
  },
  {
   "cell_type": "code",
   "execution_count": 32,
   "metadata": {},
   "outputs": [
    {
     "data": {
      "text/plain": [
       "array(['Y', 'N'], dtype=object)"
      ]
     },
     "execution_count": 32,
     "metadata": {},
     "output_type": "execute_result"
    }
   ],
   "source": [
    "cat_df['fraud_reported'].unique()"
   ]
  },
  {
   "cell_type": "code",
   "execution_count": 35,
   "metadata": {},
   "outputs": [],
   "source": [
    "cat_df['policy_csl']=cat_df['policy_csl'].map({'100/300':1, '250/500':2.5, '500/1000':5})\n",
    "cat_df['insured_sex']=cat_df['insured_sex'].map({'FEMALE':0, 'MALE':1})\n",
    "cat_df['insured_education_level']=cat_df['insured_education_level'].map({'JD' : 1, 'High School' : 2,'College':3,'Masters':4,'Associate':5,'MD':6,'PhD':7})\n",
    "cat_df['incident_severity']=cat_df['incident_severity'].map({'Minor Damage':2,'Major Damage':3,'Trivial Damage':1,'Total Loss':4})\n",
    "cat_df['property_damage']=cat_df['property_damage'].map({'NO':0,'YES':1})\n",
    "cat_df['police_report_available']=cat_df['police_report_available'].map({'NO':0,'YES':1})\n",
    "cat_df['fraud_reported']=cat_df['fraud_reported'].map({'N':0,'Y':1})"
   ]
  },
  {
   "cell_type": "code",
   "execution_count": 36,
   "metadata": {},
   "outputs": [
    {
     "data": {
      "text/html": [
       "<div>\n",
       "<style scoped>\n",
       "    .dataframe tbody tr th:only-of-type {\n",
       "        vertical-align: middle;\n",
       "    }\n",
       "\n",
       "    .dataframe tbody tr th {\n",
       "        vertical-align: top;\n",
       "    }\n",
       "\n",
       "    .dataframe thead th {\n",
       "        text-align: right;\n",
       "    }\n",
       "</style>\n",
       "<table border=\"1\" class=\"dataframe\">\n",
       "  <thead>\n",
       "    <tr style=\"text-align: right;\">\n",
       "      <th></th>\n",
       "      <th>policy_csl</th>\n",
       "      <th>insured_sex</th>\n",
       "      <th>insured_education_level</th>\n",
       "      <th>insured_occupation</th>\n",
       "      <th>insured_relationship</th>\n",
       "      <th>incident_type</th>\n",
       "      <th>collision_type</th>\n",
       "      <th>incident_severity</th>\n",
       "      <th>authorities_contacted</th>\n",
       "      <th>property_damage</th>\n",
       "      <th>police_report_available</th>\n",
       "      <th>fraud_reported</th>\n",
       "    </tr>\n",
       "  </thead>\n",
       "  <tbody>\n",
       "    <tr>\n",
       "      <th>0</th>\n",
       "      <td>2.5</td>\n",
       "      <td>1</td>\n",
       "      <td>6</td>\n",
       "      <td>craft-repair</td>\n",
       "      <td>husband</td>\n",
       "      <td>Single Vehicle Collision</td>\n",
       "      <td>Side Collision</td>\n",
       "      <td>3</td>\n",
       "      <td>Police</td>\n",
       "      <td>1</td>\n",
       "      <td>1</td>\n",
       "      <td>1</td>\n",
       "    </tr>\n",
       "    <tr>\n",
       "      <th>1</th>\n",
       "      <td>2.5</td>\n",
       "      <td>1</td>\n",
       "      <td>6</td>\n",
       "      <td>machine-op-inspct</td>\n",
       "      <td>other-relative</td>\n",
       "      <td>Vehicle Theft</td>\n",
       "      <td>Rear Collision</td>\n",
       "      <td>2</td>\n",
       "      <td>Police</td>\n",
       "      <td>0</td>\n",
       "      <td>0</td>\n",
       "      <td>1</td>\n",
       "    </tr>\n",
       "    <tr>\n",
       "      <th>2</th>\n",
       "      <td>1.0</td>\n",
       "      <td>0</td>\n",
       "      <td>7</td>\n",
       "      <td>sales</td>\n",
       "      <td>own-child</td>\n",
       "      <td>Multi-vehicle Collision</td>\n",
       "      <td>Rear Collision</td>\n",
       "      <td>2</td>\n",
       "      <td>Police</td>\n",
       "      <td>0</td>\n",
       "      <td>0</td>\n",
       "      <td>0</td>\n",
       "    </tr>\n",
       "    <tr>\n",
       "      <th>3</th>\n",
       "      <td>2.5</td>\n",
       "      <td>0</td>\n",
       "      <td>7</td>\n",
       "      <td>armed-forces</td>\n",
       "      <td>unmarried</td>\n",
       "      <td>Single Vehicle Collision</td>\n",
       "      <td>Front Collision</td>\n",
       "      <td>3</td>\n",
       "      <td>Police</td>\n",
       "      <td>0</td>\n",
       "      <td>0</td>\n",
       "      <td>1</td>\n",
       "    </tr>\n",
       "    <tr>\n",
       "      <th>4</th>\n",
       "      <td>5.0</td>\n",
       "      <td>1</td>\n",
       "      <td>5</td>\n",
       "      <td>sales</td>\n",
       "      <td>unmarried</td>\n",
       "      <td>Vehicle Theft</td>\n",
       "      <td>Rear Collision</td>\n",
       "      <td>2</td>\n",
       "      <td>None</td>\n",
       "      <td>0</td>\n",
       "      <td>0</td>\n",
       "      <td>0</td>\n",
       "    </tr>\n",
       "    <tr>\n",
       "      <th>...</th>\n",
       "      <td>...</td>\n",
       "      <td>...</td>\n",
       "      <td>...</td>\n",
       "      <td>...</td>\n",
       "      <td>...</td>\n",
       "      <td>...</td>\n",
       "      <td>...</td>\n",
       "      <td>...</td>\n",
       "      <td>...</td>\n",
       "      <td>...</td>\n",
       "      <td>...</td>\n",
       "      <td>...</td>\n",
       "    </tr>\n",
       "    <tr>\n",
       "      <th>995</th>\n",
       "      <td>5.0</td>\n",
       "      <td>0</td>\n",
       "      <td>4</td>\n",
       "      <td>craft-repair</td>\n",
       "      <td>unmarried</td>\n",
       "      <td>Single Vehicle Collision</td>\n",
       "      <td>Front Collision</td>\n",
       "      <td>2</td>\n",
       "      <td>Fire</td>\n",
       "      <td>1</td>\n",
       "      <td>0</td>\n",
       "      <td>0</td>\n",
       "    </tr>\n",
       "    <tr>\n",
       "      <th>996</th>\n",
       "      <td>1.0</td>\n",
       "      <td>0</td>\n",
       "      <td>7</td>\n",
       "      <td>prof-specialty</td>\n",
       "      <td>wife</td>\n",
       "      <td>Single Vehicle Collision</td>\n",
       "      <td>Rear Collision</td>\n",
       "      <td>3</td>\n",
       "      <td>Fire</td>\n",
       "      <td>1</td>\n",
       "      <td>0</td>\n",
       "      <td>0</td>\n",
       "    </tr>\n",
       "    <tr>\n",
       "      <th>997</th>\n",
       "      <td>2.5</td>\n",
       "      <td>0</td>\n",
       "      <td>4</td>\n",
       "      <td>armed-forces</td>\n",
       "      <td>other-relative</td>\n",
       "      <td>Multi-vehicle Collision</td>\n",
       "      <td>Side Collision</td>\n",
       "      <td>2</td>\n",
       "      <td>Police</td>\n",
       "      <td>0</td>\n",
       "      <td>1</td>\n",
       "      <td>0</td>\n",
       "    </tr>\n",
       "    <tr>\n",
       "      <th>998</th>\n",
       "      <td>5.0</td>\n",
       "      <td>1</td>\n",
       "      <td>5</td>\n",
       "      <td>handlers-cleaners</td>\n",
       "      <td>wife</td>\n",
       "      <td>Single Vehicle Collision</td>\n",
       "      <td>Rear Collision</td>\n",
       "      <td>3</td>\n",
       "      <td>Other</td>\n",
       "      <td>0</td>\n",
       "      <td>1</td>\n",
       "      <td>0</td>\n",
       "    </tr>\n",
       "    <tr>\n",
       "      <th>999</th>\n",
       "      <td>2.5</td>\n",
       "      <td>0</td>\n",
       "      <td>5</td>\n",
       "      <td>sales</td>\n",
       "      <td>husband</td>\n",
       "      <td>Parked Car</td>\n",
       "      <td>Rear Collision</td>\n",
       "      <td>2</td>\n",
       "      <td>Police</td>\n",
       "      <td>0</td>\n",
       "      <td>0</td>\n",
       "      <td>0</td>\n",
       "    </tr>\n",
       "  </tbody>\n",
       "</table>\n",
       "<p>1000 rows × 12 columns</p>\n",
       "</div>"
      ],
      "text/plain": [
       "     policy_csl  insured_sex  insured_education_level insured_occupation  \\\n",
       "0           2.5            1                        6       craft-repair   \n",
       "1           2.5            1                        6  machine-op-inspct   \n",
       "2           1.0            0                        7              sales   \n",
       "3           2.5            0                        7       armed-forces   \n",
       "4           5.0            1                        5              sales   \n",
       "..          ...          ...                      ...                ...   \n",
       "995         5.0            0                        4       craft-repair   \n",
       "996         1.0            0                        7     prof-specialty   \n",
       "997         2.5            0                        4       armed-forces   \n",
       "998         5.0            1                        5  handlers-cleaners   \n",
       "999         2.5            0                        5              sales   \n",
       "\n",
       "    insured_relationship             incident_type   collision_type  \\\n",
       "0                husband  Single Vehicle Collision   Side Collision   \n",
       "1         other-relative             Vehicle Theft   Rear Collision   \n",
       "2              own-child   Multi-vehicle Collision   Rear Collision   \n",
       "3              unmarried  Single Vehicle Collision  Front Collision   \n",
       "4              unmarried             Vehicle Theft   Rear Collision   \n",
       "..                   ...                       ...              ...   \n",
       "995            unmarried  Single Vehicle Collision  Front Collision   \n",
       "996                 wife  Single Vehicle Collision   Rear Collision   \n",
       "997       other-relative   Multi-vehicle Collision   Side Collision   \n",
       "998                 wife  Single Vehicle Collision   Rear Collision   \n",
       "999              husband                Parked Car   Rear Collision   \n",
       "\n",
       "     incident_severity authorities_contacted  property_damage  \\\n",
       "0                    3                Police                1   \n",
       "1                    2                Police                0   \n",
       "2                    2                Police                0   \n",
       "3                    3                Police                0   \n",
       "4                    2                  None                0   \n",
       "..                 ...                   ...              ...   \n",
       "995                  2                  Fire                1   \n",
       "996                  3                  Fire                1   \n",
       "997                  2                Police                0   \n",
       "998                  3                 Other                0   \n",
       "999                  2                Police                0   \n",
       "\n",
       "     police_report_available  fraud_reported  \n",
       "0                          1               1  \n",
       "1                          0               1  \n",
       "2                          0               0  \n",
       "3                          0               1  \n",
       "4                          0               0  \n",
       "..                       ...             ...  \n",
       "995                        0               0  \n",
       "996                        0               0  \n",
       "997                        1               0  \n",
       "998                        1               0  \n",
       "999                        0               0  \n",
       "\n",
       "[1000 rows x 12 columns]"
      ]
     },
     "execution_count": 36,
     "metadata": {},
     "output_type": "execute_result"
    }
   ],
   "source": [
    "cat_df"
   ]
  },
  {
   "cell_type": "code",
   "execution_count": 37,
   "metadata": {},
   "outputs": [],
   "source": [
    "for col in cat_df.drop(columns=['policy_csl','insured_education_level','incident_severity','insured_sex','property_damage','police_report_available','fraud_reported']).columns:\n",
    "    cat_df = pd.get_dummies(cat_df, columns=[col],prefix=[col],drop_first=True)"
   ]
  },
  {
   "cell_type": "code",
   "execution_count": 38,
   "metadata": {},
   "outputs": [
    {
     "data": {
      "text/html": [
       "<div>\n",
       "<style scoped>\n",
       "    .dataframe tbody tr th:only-of-type {\n",
       "        vertical-align: middle;\n",
       "    }\n",
       "\n",
       "    .dataframe tbody tr th {\n",
       "        vertical-align: top;\n",
       "    }\n",
       "\n",
       "    .dataframe thead th {\n",
       "        text-align: right;\n",
       "    }\n",
       "</style>\n",
       "<table border=\"1\" class=\"dataframe\">\n",
       "  <thead>\n",
       "    <tr style=\"text-align: right;\">\n",
       "      <th></th>\n",
       "      <th>policy_csl</th>\n",
       "      <th>insured_sex</th>\n",
       "      <th>insured_education_level</th>\n",
       "      <th>incident_severity</th>\n",
       "      <th>property_damage</th>\n",
       "      <th>police_report_available</th>\n",
       "      <th>fraud_reported</th>\n",
       "      <th>insured_occupation_armed-forces</th>\n",
       "      <th>insured_occupation_craft-repair</th>\n",
       "      <th>insured_occupation_exec-managerial</th>\n",
       "      <th>...</th>\n",
       "      <th>insured_relationship_wife</th>\n",
       "      <th>incident_type_Parked Car</th>\n",
       "      <th>incident_type_Single Vehicle Collision</th>\n",
       "      <th>incident_type_Vehicle Theft</th>\n",
       "      <th>collision_type_Rear Collision</th>\n",
       "      <th>collision_type_Side Collision</th>\n",
       "      <th>authorities_contacted_Fire</th>\n",
       "      <th>authorities_contacted_None</th>\n",
       "      <th>authorities_contacted_Other</th>\n",
       "      <th>authorities_contacted_Police</th>\n",
       "    </tr>\n",
       "  </thead>\n",
       "  <tbody>\n",
       "    <tr>\n",
       "      <th>0</th>\n",
       "      <td>2.5</td>\n",
       "      <td>1</td>\n",
       "      <td>6</td>\n",
       "      <td>3</td>\n",
       "      <td>1</td>\n",
       "      <td>1</td>\n",
       "      <td>1</td>\n",
       "      <td>0</td>\n",
       "      <td>1</td>\n",
       "      <td>0</td>\n",
       "      <td>...</td>\n",
       "      <td>0</td>\n",
       "      <td>0</td>\n",
       "      <td>1</td>\n",
       "      <td>0</td>\n",
       "      <td>0</td>\n",
       "      <td>1</td>\n",
       "      <td>0</td>\n",
       "      <td>0</td>\n",
       "      <td>0</td>\n",
       "      <td>1</td>\n",
       "    </tr>\n",
       "    <tr>\n",
       "      <th>1</th>\n",
       "      <td>2.5</td>\n",
       "      <td>1</td>\n",
       "      <td>6</td>\n",
       "      <td>2</td>\n",
       "      <td>0</td>\n",
       "      <td>0</td>\n",
       "      <td>1</td>\n",
       "      <td>0</td>\n",
       "      <td>0</td>\n",
       "      <td>0</td>\n",
       "      <td>...</td>\n",
       "      <td>0</td>\n",
       "      <td>0</td>\n",
       "      <td>0</td>\n",
       "      <td>1</td>\n",
       "      <td>1</td>\n",
       "      <td>0</td>\n",
       "      <td>0</td>\n",
       "      <td>0</td>\n",
       "      <td>0</td>\n",
       "      <td>1</td>\n",
       "    </tr>\n",
       "    <tr>\n",
       "      <th>2</th>\n",
       "      <td>1.0</td>\n",
       "      <td>0</td>\n",
       "      <td>7</td>\n",
       "      <td>2</td>\n",
       "      <td>0</td>\n",
       "      <td>0</td>\n",
       "      <td>0</td>\n",
       "      <td>0</td>\n",
       "      <td>0</td>\n",
       "      <td>0</td>\n",
       "      <td>...</td>\n",
       "      <td>0</td>\n",
       "      <td>0</td>\n",
       "      <td>0</td>\n",
       "      <td>0</td>\n",
       "      <td>1</td>\n",
       "      <td>0</td>\n",
       "      <td>0</td>\n",
       "      <td>0</td>\n",
       "      <td>0</td>\n",
       "      <td>1</td>\n",
       "    </tr>\n",
       "    <tr>\n",
       "      <th>3</th>\n",
       "      <td>2.5</td>\n",
       "      <td>0</td>\n",
       "      <td>7</td>\n",
       "      <td>3</td>\n",
       "      <td>0</td>\n",
       "      <td>0</td>\n",
       "      <td>1</td>\n",
       "      <td>1</td>\n",
       "      <td>0</td>\n",
       "      <td>0</td>\n",
       "      <td>...</td>\n",
       "      <td>0</td>\n",
       "      <td>0</td>\n",
       "      <td>1</td>\n",
       "      <td>0</td>\n",
       "      <td>0</td>\n",
       "      <td>0</td>\n",
       "      <td>0</td>\n",
       "      <td>0</td>\n",
       "      <td>0</td>\n",
       "      <td>1</td>\n",
       "    </tr>\n",
       "    <tr>\n",
       "      <th>4</th>\n",
       "      <td>5.0</td>\n",
       "      <td>1</td>\n",
       "      <td>5</td>\n",
       "      <td>2</td>\n",
       "      <td>0</td>\n",
       "      <td>0</td>\n",
       "      <td>0</td>\n",
       "      <td>0</td>\n",
       "      <td>0</td>\n",
       "      <td>0</td>\n",
       "      <td>...</td>\n",
       "      <td>0</td>\n",
       "      <td>0</td>\n",
       "      <td>0</td>\n",
       "      <td>1</td>\n",
       "      <td>1</td>\n",
       "      <td>0</td>\n",
       "      <td>0</td>\n",
       "      <td>1</td>\n",
       "      <td>0</td>\n",
       "      <td>0</td>\n",
       "    </tr>\n",
       "    <tr>\n",
       "      <th>...</th>\n",
       "      <td>...</td>\n",
       "      <td>...</td>\n",
       "      <td>...</td>\n",
       "      <td>...</td>\n",
       "      <td>...</td>\n",
       "      <td>...</td>\n",
       "      <td>...</td>\n",
       "      <td>...</td>\n",
       "      <td>...</td>\n",
       "      <td>...</td>\n",
       "      <td>...</td>\n",
       "      <td>...</td>\n",
       "      <td>...</td>\n",
       "      <td>...</td>\n",
       "      <td>...</td>\n",
       "      <td>...</td>\n",
       "      <td>...</td>\n",
       "      <td>...</td>\n",
       "      <td>...</td>\n",
       "      <td>...</td>\n",
       "      <td>...</td>\n",
       "    </tr>\n",
       "    <tr>\n",
       "      <th>995</th>\n",
       "      <td>5.0</td>\n",
       "      <td>0</td>\n",
       "      <td>4</td>\n",
       "      <td>2</td>\n",
       "      <td>1</td>\n",
       "      <td>0</td>\n",
       "      <td>0</td>\n",
       "      <td>0</td>\n",
       "      <td>1</td>\n",
       "      <td>0</td>\n",
       "      <td>...</td>\n",
       "      <td>0</td>\n",
       "      <td>0</td>\n",
       "      <td>1</td>\n",
       "      <td>0</td>\n",
       "      <td>0</td>\n",
       "      <td>0</td>\n",
       "      <td>1</td>\n",
       "      <td>0</td>\n",
       "      <td>0</td>\n",
       "      <td>0</td>\n",
       "    </tr>\n",
       "    <tr>\n",
       "      <th>996</th>\n",
       "      <td>1.0</td>\n",
       "      <td>0</td>\n",
       "      <td>7</td>\n",
       "      <td>3</td>\n",
       "      <td>1</td>\n",
       "      <td>0</td>\n",
       "      <td>0</td>\n",
       "      <td>0</td>\n",
       "      <td>0</td>\n",
       "      <td>0</td>\n",
       "      <td>...</td>\n",
       "      <td>1</td>\n",
       "      <td>0</td>\n",
       "      <td>1</td>\n",
       "      <td>0</td>\n",
       "      <td>1</td>\n",
       "      <td>0</td>\n",
       "      <td>1</td>\n",
       "      <td>0</td>\n",
       "      <td>0</td>\n",
       "      <td>0</td>\n",
       "    </tr>\n",
       "    <tr>\n",
       "      <th>997</th>\n",
       "      <td>2.5</td>\n",
       "      <td>0</td>\n",
       "      <td>4</td>\n",
       "      <td>2</td>\n",
       "      <td>0</td>\n",
       "      <td>1</td>\n",
       "      <td>0</td>\n",
       "      <td>1</td>\n",
       "      <td>0</td>\n",
       "      <td>0</td>\n",
       "      <td>...</td>\n",
       "      <td>0</td>\n",
       "      <td>0</td>\n",
       "      <td>0</td>\n",
       "      <td>0</td>\n",
       "      <td>0</td>\n",
       "      <td>1</td>\n",
       "      <td>0</td>\n",
       "      <td>0</td>\n",
       "      <td>0</td>\n",
       "      <td>1</td>\n",
       "    </tr>\n",
       "    <tr>\n",
       "      <th>998</th>\n",
       "      <td>5.0</td>\n",
       "      <td>1</td>\n",
       "      <td>5</td>\n",
       "      <td>3</td>\n",
       "      <td>0</td>\n",
       "      <td>1</td>\n",
       "      <td>0</td>\n",
       "      <td>0</td>\n",
       "      <td>0</td>\n",
       "      <td>0</td>\n",
       "      <td>...</td>\n",
       "      <td>1</td>\n",
       "      <td>0</td>\n",
       "      <td>1</td>\n",
       "      <td>0</td>\n",
       "      <td>1</td>\n",
       "      <td>0</td>\n",
       "      <td>0</td>\n",
       "      <td>0</td>\n",
       "      <td>1</td>\n",
       "      <td>0</td>\n",
       "    </tr>\n",
       "    <tr>\n",
       "      <th>999</th>\n",
       "      <td>2.5</td>\n",
       "      <td>0</td>\n",
       "      <td>5</td>\n",
       "      <td>2</td>\n",
       "      <td>0</td>\n",
       "      <td>0</td>\n",
       "      <td>0</td>\n",
       "      <td>0</td>\n",
       "      <td>0</td>\n",
       "      <td>0</td>\n",
       "      <td>...</td>\n",
       "      <td>0</td>\n",
       "      <td>1</td>\n",
       "      <td>0</td>\n",
       "      <td>0</td>\n",
       "      <td>1</td>\n",
       "      <td>0</td>\n",
       "      <td>0</td>\n",
       "      <td>0</td>\n",
       "      <td>0</td>\n",
       "      <td>1</td>\n",
       "    </tr>\n",
       "  </tbody>\n",
       "</table>\n",
       "<p>1000 rows × 34 columns</p>\n",
       "</div>"
      ],
      "text/plain": [
       "     policy_csl  insured_sex  insured_education_level  incident_severity  \\\n",
       "0           2.5            1                        6                  3   \n",
       "1           2.5            1                        6                  2   \n",
       "2           1.0            0                        7                  2   \n",
       "3           2.5            0                        7                  3   \n",
       "4           5.0            1                        5                  2   \n",
       "..          ...          ...                      ...                ...   \n",
       "995         5.0            0                        4                  2   \n",
       "996         1.0            0                        7                  3   \n",
       "997         2.5            0                        4                  2   \n",
       "998         5.0            1                        5                  3   \n",
       "999         2.5            0                        5                  2   \n",
       "\n",
       "     property_damage  police_report_available  fraud_reported  \\\n",
       "0                  1                        1               1   \n",
       "1                  0                        0               1   \n",
       "2                  0                        0               0   \n",
       "3                  0                        0               1   \n",
       "4                  0                        0               0   \n",
       "..               ...                      ...             ...   \n",
       "995                1                        0               0   \n",
       "996                1                        0               0   \n",
       "997                0                        1               0   \n",
       "998                0                        1               0   \n",
       "999                0                        0               0   \n",
       "\n",
       "     insured_occupation_armed-forces  insured_occupation_craft-repair  \\\n",
       "0                                  0                                1   \n",
       "1                                  0                                0   \n",
       "2                                  0                                0   \n",
       "3                                  1                                0   \n",
       "4                                  0                                0   \n",
       "..                               ...                              ...   \n",
       "995                                0                                1   \n",
       "996                                0                                0   \n",
       "997                                1                                0   \n",
       "998                                0                                0   \n",
       "999                                0                                0   \n",
       "\n",
       "     insured_occupation_exec-managerial  ...  insured_relationship_wife  \\\n",
       "0                                     0  ...                          0   \n",
       "1                                     0  ...                          0   \n",
       "2                                     0  ...                          0   \n",
       "3                                     0  ...                          0   \n",
       "4                                     0  ...                          0   \n",
       "..                                  ...  ...                        ...   \n",
       "995                                   0  ...                          0   \n",
       "996                                   0  ...                          1   \n",
       "997                                   0  ...                          0   \n",
       "998                                   0  ...                          1   \n",
       "999                                   0  ...                          0   \n",
       "\n",
       "     incident_type_Parked Car  incident_type_Single Vehicle Collision  \\\n",
       "0                           0                                       1   \n",
       "1                           0                                       0   \n",
       "2                           0                                       0   \n",
       "3                           0                                       1   \n",
       "4                           0                                       0   \n",
       "..                        ...                                     ...   \n",
       "995                         0                                       1   \n",
       "996                         0                                       1   \n",
       "997                         0                                       0   \n",
       "998                         0                                       1   \n",
       "999                         1                                       0   \n",
       "\n",
       "     incident_type_Vehicle Theft  collision_type_Rear Collision  \\\n",
       "0                              0                              0   \n",
       "1                              1                              1   \n",
       "2                              0                              1   \n",
       "3                              0                              0   \n",
       "4                              1                              1   \n",
       "..                           ...                            ...   \n",
       "995                            0                              0   \n",
       "996                            0                              1   \n",
       "997                            0                              0   \n",
       "998                            0                              1   \n",
       "999                            0                              1   \n",
       "\n",
       "     collision_type_Side Collision  authorities_contacted_Fire  \\\n",
       "0                                1                           0   \n",
       "1                                0                           0   \n",
       "2                                0                           0   \n",
       "3                                0                           0   \n",
       "4                                0                           0   \n",
       "..                             ...                         ...   \n",
       "995                              0                           1   \n",
       "996                              0                           1   \n",
       "997                              1                           0   \n",
       "998                              0                           0   \n",
       "999                              0                           0   \n",
       "\n",
       "     authorities_contacted_None  authorities_contacted_Other  \\\n",
       "0                             0                            0   \n",
       "1                             0                            0   \n",
       "2                             0                            0   \n",
       "3                             0                            0   \n",
       "4                             1                            0   \n",
       "..                          ...                          ...   \n",
       "995                           0                            0   \n",
       "996                           0                            0   \n",
       "997                           0                            0   \n",
       "998                           0                            1   \n",
       "999                           0                            0   \n",
       "\n",
       "     authorities_contacted_Police  \n",
       "0                               1  \n",
       "1                               1  \n",
       "2                               1  \n",
       "3                               1  \n",
       "4                               0  \n",
       "..                            ...  \n",
       "995                             0  \n",
       "996                             0  \n",
       "997                             1  \n",
       "998                             0  \n",
       "999                             1  \n",
       "\n",
       "[1000 rows x 34 columns]"
      ]
     },
     "execution_count": 38,
     "metadata": {},
     "output_type": "execute_result"
    }
   ],
   "source": [
    "cat_df"
   ]
  },
  {
   "cell_type": "code",
   "execution_count": 39,
   "metadata": {},
   "outputs": [],
   "source": [
    "num_df = df.select_dtypes(include=['int64']).copy()"
   ]
  },
  {
   "cell_type": "code",
   "execution_count": 73,
   "metadata": {},
   "outputs": [
    {
     "data": {
      "text/plain": [
       "Index(['months_as_customer', 'age', 'policy_deductable', 'umbrella_limit',\n",
       "       'capital-gains', 'capital-loss', 'incident_hour_of_the_day',\n",
       "       'number_of_vehicles_involved', 'bodily_injuries', 'witnesses',\n",
       "       'total_claim_amount', 'injury_claim', 'property_claim',\n",
       "       'vehicle_claim'],\n",
       "      dtype='object')"
      ]
     },
     "execution_count": 73,
     "metadata": {},
     "output_type": "execute_result"
    }
   ],
   "source": [
    "num_df.columns"
   ]
  },
  {
   "cell_type": "code",
   "execution_count": 45,
   "metadata": {},
   "outputs": [],
   "source": [
    "final_df1 = pd.concat([num_df,cat_df],axis=1)"
   ]
  },
  {
   "cell_type": "code",
   "execution_count": 54,
   "metadata": {},
   "outputs": [
    {
     "data": {
      "text/plain": [
       "0      1\n",
       "1      1\n",
       "2      0\n",
       "3      1\n",
       "4      0\n",
       "      ..\n",
       "995    0\n",
       "996    0\n",
       "997    0\n",
       "998    0\n",
       "999    0\n",
       "Name: fraud_reported, Length: 1000, dtype: int64"
      ]
     },
     "execution_count": 54,
     "metadata": {},
     "output_type": "execute_result"
    }
   ],
   "source": [
    "final_df1['fraud_reported']"
   ]
  },
  {
   "cell_type": "code",
   "execution_count": 50,
   "metadata": {},
   "outputs": [],
   "source": [
    "import matplotlib.pyplot as plt"
   ]
  },
  {
   "cell_type": "code",
   "execution_count": 55,
   "metadata": {},
   "outputs": [],
   "source": [
    "x = final_df1.drop('fraud_reported', axis=1)\n",
    "y = final_df1['fraud_reported']"
   ]
  },
  {
   "cell_type": "code",
   "execution_count": 56,
   "metadata": {},
   "outputs": [
    {
     "data": {
      "text/plain": [
       "0      1\n",
       "1      1\n",
       "2      0\n",
       "3      1\n",
       "4      0\n",
       "      ..\n",
       "995    0\n",
       "996    0\n",
       "997    0\n",
       "998    0\n",
       "999    0\n",
       "Name: fraud_reported, Length: 1000, dtype: int64"
      ]
     },
     "execution_count": 56,
     "metadata": {},
     "output_type": "execute_result"
    }
   ],
   "source": [
    "y"
   ]
  },
  {
   "cell_type": "code",
   "execution_count": 58,
   "metadata": {},
   "outputs": [
    {
     "data": {
      "text/plain": [
       "(array([349.,   0.,   0., 351.,   0.,   0.,   0.,   0.,   0., 300.]),\n",
       " array([1. , 1.4, 1.8, 2.2, 2.6, 3. , 3.4, 3.8, 4.2, 4.6, 5. ]),\n",
       " <a list of 10 Patch objects>)"
      ]
     },
     "execution_count": 58,
     "metadata": {},
     "output_type": "execute_result"
    },
    {
     "data": {
      "image/png": "[encoded data removed]",
      "text/plain": [
       "<Figure size 432x288 with 1 Axes>"
      ]
     },
     "metadata": {
      "needs_background": "light"
     },
     "output_type": "display_data"
    }
   ],
   "source": [
    "plt.hist(final_df1['policy_csl'])"
   ]
  },
  {
   "cell_type": "code",
   "execution_count": 59,
   "metadata": {},
   "outputs": [
    {
     "name": "stderr",
     "output_type": "stream",
     "text": [
      "C:\\Users\\Abhinay.Verma\\AppData\\Local\\Continuum\\anaconda3\\lib\\site-packages\\statsmodels\\tools\\_testing.py:19: FutureWarning: pandas.util.testing is deprecated. Use the functions in the public API at pandas.testing instead.\n",
      "  import pandas.util.testing as tm\n"
     ]
    }
   ],
   "source": [
    "import seaborn as sns"
   ]
  },
  {
   "cell_type": "code",
   "execution_count": 60,
   "metadata": {},
   "outputs": [
    {
     "data": {
      "text/plain": [
       "<matplotlib.axes._subplots.AxesSubplot at 0x1f85d2a12c8>"
      ]
     },
     "execution_count": 60,
     "metadata": {},
     "output_type": "execute_result"
    },
    {
     "data": {
      "image/png": "[encoded data removed]",
      "text/plain": [
       "<Figure size 432x288 with 1 Axes>"
      ]
     },
     "metadata": {
      "needs_background": "light"
     },
     "output_type": "display_data"
    }
   ],
   "source": [
    "sns.distplot(final_df1['insured_sex'])"
   ]
  },
  {
   "cell_type": "code",
   "execution_count": 61,
   "metadata": {},
   "outputs": [
    {
     "data": {
      "text/plain": [
       "<matplotlib.axes._subplots.AxesSubplot at 0x1f85aea3988>"
      ]
     },
     "execution_count": 61,
     "metadata": {},
     "output_type": "execute_result"
    },
    {
     "data": {
      "image/png": "[encoded data removed]",
      "text/plain": [
       "<Figure size 432x288 with 1 Axes>"
      ]
     },
     "metadata": {
      "needs_background": "light"
     },
     "output_type": "display_data"
    }
   ],
   "source": [
    "sns.distplot(final_df1['insured_education_level'])"
   ]
  },
  {
   "cell_type": "code",
   "execution_count": 64,
   "metadata": {},
   "outputs": [
    {
     "data": {
      "text/plain": [
       "<matplotlib.axes._subplots.AxesSubplot at 0x1f85ef9c448>"
      ]
     },
     "execution_count": 64,
     "metadata": {},
     "output_type": "execute_result"
    },
    {
     "data": {
      "image/png": "[encoded data removed]",
      "text/plain": [
       "<Figure size 432x288 with 1 Axes>"
      ]
     },
     "metadata": {
      "needs_background": "light"
     },
     "output_type": "display_data"
    }
   ],
   "source": [
    "sns.distplot(final_df1['incident_severity'])"
   ]
  },
  {
   "cell_type": "code",
   "execution_count": 66,
   "metadata": {},
   "outputs": [
    {
     "data": {
      "text/plain": [
       "<matplotlib.axes._subplots.AxesSubplot at 0x1f85a938c48>"
      ]
     },
     "execution_count": 66,
     "metadata": {},
     "output_type": "execute_result"
    },
    {
     "data": {
      "image/png": "[encoded data removed]",
      "text/plain": [
       "<Figure size 432x288 with 1 Axes>"
      ]
     },
     "metadata": {
      "needs_background": "light"
     },
     "output_type": "display_data"
    }
   ],
   "source": [
    "sns.scatterplot(final_df1['months_as_customer'],final_df1['age'], hue=final_df1['fraud_reported'])"
   ]
  },
  {
   "cell_type": "code",
   "execution_count": 67,
   "metadata": {},
   "outputs": [
    {
     "data": {
      "text/plain": [
       "<matplotlib.axes._subplots.AxesSubplot at 0x1f85dbae9c8>"
      ]
     },
     "execution_count": 67,
     "metadata": {},
     "output_type": "execute_result"
    },
    {
     "data": {
      "image/png": "[encoded data removed]",
      "text/plain": [
       "<Figure size 936x576 with 2 Axes>"
      ]
     },
     "metadata": {
      "needs_background": "light"
     },
     "output_type": "display_data"
    }
   ],
   "source": [
    "plt.figure(figsize=(13,8))\n",
    "sns.heatmap(num_df.corr(), annot=True )"
   ]
  },
  {
   "cell_type": "code",
   "execution_count": 68,
   "metadata": {},
   "outputs": [
    {
     "data": {
      "text/plain": [
       "Index(['months_as_customer', 'age', 'policy_deductable', 'umbrella_limit',\n",
       "       'capital-gains', 'capital-loss', 'incident_hour_of_the_day',\n",
       "       'number_of_vehicles_involved', 'bodily_injuries', 'witnesses',\n",
       "       'total_claim_amount', 'injury_claim', 'property_claim', 'vehicle_claim',\n",
       "       'policy_csl', 'insured_sex', 'insured_education_level',\n",
       "       'incident_severity', 'property_damage', 'police_report_available',\n",
       "       'insured_occupation_armed-forces', 'insured_occupation_craft-repair',\n",
       "       'insured_occupation_exec-managerial',\n",
       "       'insured_occupation_farming-fishing',\n",
       "       'insured_occupation_handlers-cleaners',\n",
       "       'insured_occupation_machine-op-inspct',\n",
       "       'insured_occupation_other-service',\n",
       "       'insured_occupation_priv-house-serv',\n",
       "       'insured_occupation_prof-specialty',\n",
       "       'insured_occupation_protective-serv', 'insured_occupation_sales',\n",
       "       'insured_occupation_tech-support',\n",
       "       'insured_occupation_transport-moving',\n",
       "       'insured_relationship_not-in-family',\n",
       "       'insured_relationship_other-relative', 'insured_relationship_own-child',\n",
       "       'insured_relationship_unmarried', 'insured_relationship_wife',\n",
       "       'incident_type_Parked Car', 'incident_type_Single Vehicle Collision',\n",
       "       'incident_type_Vehicle Theft', 'collision_type_Rear Collision',\n",
       "       'collision_type_Side Collision', 'authorities_contacted_Fire',\n",
       "       'authorities_contacted_None', 'authorities_contacted_Other',\n",
       "       'authorities_contacted_Police'],\n",
       "      dtype='object')"
      ]
     },
     "execution_count": 68,
     "metadata": {},
     "output_type": "execute_result"
    }
   ],
   "source": [
    "x.columns"
   ]
  },
  {
   "cell_type": "code",
   "execution_count": 69,
   "metadata": {},
   "outputs": [],
   "source": [
    "x.drop(columns=['age', 'total_claim_amount'], inplace=True)"
   ]
  },
  {
   "cell_type": "code",
   "execution_count": 71,
   "metadata": {},
   "outputs": [],
   "source": [
    "from sklearn.model_selection import train_test_split\n",
    "x_train, x_test, y_train, y_test = train_test_split(x,y,test_size=0.2, random_state=355)"
   ]
  },
  {
   "cell_type": "code",
   "execution_count": 72,
   "metadata": {},
   "outputs": [
    {
     "data": {
      "text/html": [
       "<div>\n",
       "<style scoped>\n",
       "    .dataframe tbody tr th:only-of-type {\n",
       "        vertical-align: middle;\n",
       "    }\n",
       "\n",
       "    .dataframe tbody tr th {\n",
       "        vertical-align: top;\n",
       "    }\n",
       "\n",
       "    .dataframe thead th {\n",
       "        text-align: right;\n",
       "    }\n",
       "</style>\n",
       "<table border=\"1\" class=\"dataframe\">\n",
       "  <thead>\n",
       "    <tr style=\"text-align: right;\">\n",
       "      <th></th>\n",
       "      <th>months_as_customer</th>\n",
       "      <th>policy_deductable</th>\n",
       "      <th>umbrella_limit</th>\n",
       "      <th>capital-gains</th>\n",
       "      <th>capital-loss</th>\n",
       "      <th>incident_hour_of_the_day</th>\n",
       "      <th>number_of_vehicles_involved</th>\n",
       "      <th>bodily_injuries</th>\n",
       "      <th>witnesses</th>\n",
       "      <th>injury_claim</th>\n",
       "      <th>...</th>\n",
       "      <th>insured_relationship_wife</th>\n",
       "      <th>incident_type_Parked Car</th>\n",
       "      <th>incident_type_Single Vehicle Collision</th>\n",
       "      <th>incident_type_Vehicle Theft</th>\n",
       "      <th>collision_type_Rear Collision</th>\n",
       "      <th>collision_type_Side Collision</th>\n",
       "      <th>authorities_contacted_Fire</th>\n",
       "      <th>authorities_contacted_None</th>\n",
       "      <th>authorities_contacted_Other</th>\n",
       "      <th>authorities_contacted_Police</th>\n",
       "    </tr>\n",
       "  </thead>\n",
       "  <tbody>\n",
       "    <tr>\n",
       "      <th>644</th>\n",
       "      <td>254</td>\n",
       "      <td>500</td>\n",
       "      <td>5000000</td>\n",
       "      <td>0</td>\n",
       "      <td>-74400</td>\n",
       "      <td>23</td>\n",
       "      <td>1</td>\n",
       "      <td>2</td>\n",
       "      <td>2</td>\n",
       "      <td>9720</td>\n",
       "      <td>...</td>\n",
       "      <td>1</td>\n",
       "      <td>0</td>\n",
       "      <td>1</td>\n",
       "      <td>0</td>\n",
       "      <td>0</td>\n",
       "      <td>0</td>\n",
       "      <td>0</td>\n",
       "      <td>0</td>\n",
       "      <td>1</td>\n",
       "      <td>0</td>\n",
       "    </tr>\n",
       "    <tr>\n",
       "      <th>969</th>\n",
       "      <td>398</td>\n",
       "      <td>500</td>\n",
       "      <td>0</td>\n",
       "      <td>69400</td>\n",
       "      <td>0</td>\n",
       "      <td>7</td>\n",
       "      <td>1</td>\n",
       "      <td>2</td>\n",
       "      <td>3</td>\n",
       "      <td>600</td>\n",
       "      <td>...</td>\n",
       "      <td>0</td>\n",
       "      <td>0</td>\n",
       "      <td>0</td>\n",
       "      <td>1</td>\n",
       "      <td>1</td>\n",
       "      <td>0</td>\n",
       "      <td>0</td>\n",
       "      <td>0</td>\n",
       "      <td>0</td>\n",
       "      <td>1</td>\n",
       "    </tr>\n",
       "    <tr>\n",
       "      <th>104</th>\n",
       "      <td>350</td>\n",
       "      <td>500</td>\n",
       "      <td>0</td>\n",
       "      <td>50500</td>\n",
       "      <td>0</td>\n",
       "      <td>15</td>\n",
       "      <td>3</td>\n",
       "      <td>0</td>\n",
       "      <td>0</td>\n",
       "      <td>15580</td>\n",
       "      <td>...</td>\n",
       "      <td>1</td>\n",
       "      <td>0</td>\n",
       "      <td>0</td>\n",
       "      <td>0</td>\n",
       "      <td>0</td>\n",
       "      <td>1</td>\n",
       "      <td>0</td>\n",
       "      <td>0</td>\n",
       "      <td>0</td>\n",
       "      <td>1</td>\n",
       "    </tr>\n",
       "    <tr>\n",
       "      <th>717</th>\n",
       "      <td>38</td>\n",
       "      <td>500</td>\n",
       "      <td>4000000</td>\n",
       "      <td>78000</td>\n",
       "      <td>0</td>\n",
       "      <td>4</td>\n",
       "      <td>3</td>\n",
       "      <td>0</td>\n",
       "      <td>3</td>\n",
       "      <td>12480</td>\n",
       "      <td>...</td>\n",
       "      <td>0</td>\n",
       "      <td>0</td>\n",
       "      <td>0</td>\n",
       "      <td>0</td>\n",
       "      <td>0</td>\n",
       "      <td>1</td>\n",
       "      <td>0</td>\n",
       "      <td>0</td>\n",
       "      <td>0</td>\n",
       "      <td>0</td>\n",
       "    </tr>\n",
       "    <tr>\n",
       "      <th>560</th>\n",
       "      <td>294</td>\n",
       "      <td>500</td>\n",
       "      <td>0</td>\n",
       "      <td>22700</td>\n",
       "      <td>0</td>\n",
       "      <td>23</td>\n",
       "      <td>3</td>\n",
       "      <td>1</td>\n",
       "      <td>1</td>\n",
       "      <td>3900</td>\n",
       "      <td>...</td>\n",
       "      <td>0</td>\n",
       "      <td>0</td>\n",
       "      <td>0</td>\n",
       "      <td>0</td>\n",
       "      <td>0</td>\n",
       "      <td>1</td>\n",
       "      <td>0</td>\n",
       "      <td>0</td>\n",
       "      <td>0</td>\n",
       "      <td>1</td>\n",
       "    </tr>\n",
       "  </tbody>\n",
       "</table>\n",
       "<p>5 rows × 45 columns</p>\n",
       "</div>"
      ],
      "text/plain": [
       "     months_as_customer  policy_deductable  umbrella_limit  capital-gains  \\\n",
       "644                 254                500         5000000              0   \n",
       "969                 398                500               0          69400   \n",
       "104                 350                500               0          50500   \n",
       "717                  38                500         4000000          78000   \n",
       "560                 294                500               0          22700   \n",
       "\n",
       "     capital-loss  incident_hour_of_the_day  number_of_vehicles_involved  \\\n",
       "644        -74400                        23                            1   \n",
       "969             0                         7                            1   \n",
       "104             0                        15                            3   \n",
       "717             0                         4                            3   \n",
       "560             0                        23                            3   \n",
       "\n",
       "     bodily_injuries  witnesses  injury_claim  ...  insured_relationship_wife  \\\n",
       "644                2          2          9720  ...                          1   \n",
       "969                2          3           600  ...                          0   \n",
       "104                0          0         15580  ...                          1   \n",
       "717                0          3         12480  ...                          0   \n",
       "560                1          1          3900  ...                          0   \n",
       "\n",
       "     incident_type_Parked Car  incident_type_Single Vehicle Collision  \\\n",
       "644                         0                                       1   \n",
       "969                         0                                       0   \n",
       "104                         0                                       0   \n",
       "717                         0                                       0   \n",
       "560                         0                                       0   \n",
       "\n",
       "     incident_type_Vehicle Theft  collision_type_Rear Collision  \\\n",
       "644                            0                              0   \n",
       "969                            1                              1   \n",
       "104                            0                              0   \n",
       "717                            0                              0   \n",
       "560                            0                              0   \n",
       "\n",
       "     collision_type_Side Collision  authorities_contacted_Fire  \\\n",
       "644                              0                           0   \n",
       "969                              0                           0   \n",
       "104                              1                           0   \n",
       "717                              1                           0   \n",
       "560                              1                           0   \n",
       "\n",
       "     authorities_contacted_None  authorities_contacted_Other  \\\n",
       "644                           0                            1   \n",
       "969                           0                            0   \n",
       "104                           0                            0   \n",
       "717                           0                            0   \n",
       "560                           0                            0   \n",
       "\n",
       "     authorities_contacted_Police  \n",
       "644                             0  \n",
       "969                             1  \n",
       "104                             1  \n",
       "717                             0  \n",
       "560                             1  \n",
       "\n",
       "[5 rows x 45 columns]"
      ]
     },
     "execution_count": 72,
     "metadata": {},
     "output_type": "execute_result"
    }
   ],
   "source": [
    "x_train.head()"
   ]
  },
  {
   "cell_type": "code",
   "execution_count": 76,
   "metadata": {},
   "outputs": [],
   "source": [
    "num_df = x_train[['months_as_customer', 'policy_deductable', 'umbrella_limit',\n",
    "       'capital-gains', 'capital-loss', 'incident_hour_of_the_day',\n",
    "       'number_of_vehicles_involved', 'bodily_injuries', 'witnesses',\n",
    "        'injury_claim', 'property_claim',\n",
    "       'vehicle_claim']]"
   ]
  },
  {
   "cell_type": "code",
   "execution_count": 77,
   "metadata": {},
   "outputs": [
    {
     "data": {
      "text/plain": [
       "Index(['months_as_customer', 'policy_deductable', 'umbrella_limit',\n",
       "       'capital-gains', 'capital-loss', 'incident_hour_of_the_day',\n",
       "       'number_of_vehicles_involved', 'bodily_injuries', 'witnesses',\n",
       "       'injury_claim', 'property_claim', 'vehicle_claim'],\n",
       "      dtype='object')"
      ]
     },
     "execution_count": 77,
     "metadata": {},
     "output_type": "execute_result"
    }
   ],
   "source": [
    "num_df.columns"
   ]
  },
  {
   "cell_type": "code",
   "execution_count": 79,
   "metadata": {},
   "outputs": [
    {
     "name": "stdout",
     "output_type": "stream",
     "text": [
      "(800, 45)\n",
      "(800, 12)\n"
     ]
    }
   ],
   "source": [
    "print(x_train.shape)\n",
    "print(num_df.shape)"
   ]
  },
  {
   "cell_type": "code",
   "execution_count": 80,
   "metadata": {},
   "outputs": [],
   "source": [
    "from sklearn.preprocessing import StandardScaler\n",
    "scaler = StandardScaler()"
   ]
  },
  {
   "cell_type": "code",
   "execution_count": 81,
   "metadata": {},
   "outputs": [
    {
     "data": {
      "text/plain": [
       "(800, 12)"
      ]
     },
     "execution_count": 81,
     "metadata": {},
     "output_type": "execute_result"
    }
   ],
   "source": [
    "scaled_data = scaler.fit_transform(num_df)\n",
    "scaled_num_df = pd.DataFrame(data=scaled_data, columns=num_df.columns, index=x_train.index)\n",
    "scaled_num_df.shape"
   ]
  },
  {
   "cell_type": "code",
   "execution_count": 83,
   "metadata": {},
   "outputs": [
    {
     "data": {
      "text/plain": [
       "months_as_customer             0\n",
       "policy_deductable              0\n",
       "umbrella_limit                 0\n",
       "capital-gains                  0\n",
       "capital-loss                   0\n",
       "incident_hour_of_the_day       0\n",
       "number_of_vehicles_involved    0\n",
       "bodily_injuries                0\n",
       "witnesses                      0\n",
       "injury_claim                   0\n",
       "property_claim                 0\n",
       "vehicle_claim                  0\n",
       "dtype: int64"
      ]
     },
     "execution_count": 83,
     "metadata": {},
     "output_type": "execute_result"
    }
   ],
   "source": [
    "scaled_num_df.isna().sum()"
   ]
  },
  {
   "cell_type": "code",
   "execution_count": 84,
   "metadata": {},
   "outputs": [
    {
     "name": "stderr",
     "output_type": "stream",
     "text": [
      "C:\\Users\\Abhinay.Verma\\AppData\\Local\\Continuum\\anaconda3\\lib\\site-packages\\pandas\\core\\frame.py:3997: SettingWithCopyWarning: \n",
      "A value is trying to be set on a copy of a slice from a DataFrame\n",
      "\n",
      "See the caveats in the documentation: https://pandas.pydata.org/pandas-docs/stable/user_guide/indexing.html#returning-a-view-versus-a-copy\n",
      "  errors=errors,\n"
     ]
    }
   ],
   "source": [
    "x_train.drop(columns=scaled_num_df.columns, inplace=True)"
   ]
  },
  {
   "cell_type": "code",
   "execution_count": 85,
   "metadata": {},
   "outputs": [
    {
     "data": {
      "text/plain": [
       "(800, 33)"
      ]
     },
     "execution_count": 85,
     "metadata": {},
     "output_type": "execute_result"
    }
   ],
   "source": [
    "x_train.shape"
   ]
  },
  {
   "cell_type": "code",
   "execution_count": 86,
   "metadata": {},
   "outputs": [],
   "source": [
    "x_train = pd.concat([scaled_num_df,x_train],axis=1)"
   ]
  },
  {
   "cell_type": "code",
   "execution_count": 87,
   "metadata": {},
   "outputs": [
    {
     "data": {
      "text/html": [
       "<div>\n",
       "<style scoped>\n",
       "    .dataframe tbody tr th:only-of-type {\n",
       "        vertical-align: middle;\n",
       "    }\n",
       "\n",
       "    .dataframe tbody tr th {\n",
       "        vertical-align: top;\n",
       "    }\n",
       "\n",
       "    .dataframe thead th {\n",
       "        text-align: right;\n",
       "    }\n",
       "</style>\n",
       "<table border=\"1\" class=\"dataframe\">\n",
       "  <thead>\n",
       "    <tr style=\"text-align: right;\">\n",
       "      <th></th>\n",
       "      <th>months_as_customer</th>\n",
       "      <th>policy_deductable</th>\n",
       "      <th>umbrella_limit</th>\n",
       "      <th>capital-gains</th>\n",
       "      <th>capital-loss</th>\n",
       "      <th>incident_hour_of_the_day</th>\n",
       "      <th>number_of_vehicles_involved</th>\n",
       "      <th>bodily_injuries</th>\n",
       "      <th>witnesses</th>\n",
       "      <th>injury_claim</th>\n",
       "      <th>...</th>\n",
       "      <th>insured_relationship_wife</th>\n",
       "      <th>incident_type_Parked Car</th>\n",
       "      <th>incident_type_Single Vehicle Collision</th>\n",
       "      <th>incident_type_Vehicle Theft</th>\n",
       "      <th>collision_type_Rear Collision</th>\n",
       "      <th>collision_type_Side Collision</th>\n",
       "      <th>authorities_contacted_Fire</th>\n",
       "      <th>authorities_contacted_None</th>\n",
       "      <th>authorities_contacted_Other</th>\n",
       "      <th>authorities_contacted_Police</th>\n",
       "    </tr>\n",
       "  </thead>\n",
       "  <tbody>\n",
       "    <tr>\n",
       "      <th>644</th>\n",
       "      <td>0.432849</td>\n",
       "      <td>-1.02788</td>\n",
       "      <td>1.736779</td>\n",
       "      <td>-0.909484</td>\n",
       "      <td>-1.691067</td>\n",
       "      <td>1.613912</td>\n",
       "      <td>-0.805544</td>\n",
       "      <td>1.270317</td>\n",
       "      <td>0.436664</td>\n",
       "      <td>0.457148</td>\n",
       "      <td>...</td>\n",
       "      <td>1</td>\n",
       "      <td>0</td>\n",
       "      <td>1</td>\n",
       "      <td>0</td>\n",
       "      <td>0</td>\n",
       "      <td>0</td>\n",
       "      <td>0</td>\n",
       "      <td>0</td>\n",
       "      <td>1</td>\n",
       "      <td>0</td>\n",
       "    </tr>\n",
       "    <tr>\n",
       "      <th>969</th>\n",
       "      <td>1.676530</td>\n",
       "      <td>-1.02788</td>\n",
       "      <td>-0.467255</td>\n",
       "      <td>1.600946</td>\n",
       "      <td>0.968603</td>\n",
       "      <td>-0.681175</td>\n",
       "      <td>-0.805544</td>\n",
       "      <td>1.270317</td>\n",
       "      <td>1.348757</td>\n",
       "      <td>-1.395773</td>\n",
       "      <td>...</td>\n",
       "      <td>0</td>\n",
       "      <td>0</td>\n",
       "      <td>0</td>\n",
       "      <td>1</td>\n",
       "      <td>1</td>\n",
       "      <td>0</td>\n",
       "      <td>0</td>\n",
       "      <td>0</td>\n",
       "      <td>0</td>\n",
       "      <td>1</td>\n",
       "    </tr>\n",
       "    <tr>\n",
       "      <th>104</th>\n",
       "      <td>1.261969</td>\n",
       "      <td>-1.02788</td>\n",
       "      <td>-0.467255</td>\n",
       "      <td>0.917270</td>\n",
       "      <td>0.968603</td>\n",
       "      <td>0.466369</td>\n",
       "      <td>1.177334</td>\n",
       "      <td>-1.202319</td>\n",
       "      <td>-1.387521</td>\n",
       "      <td>1.647731</td>\n",
       "      <td>...</td>\n",
       "      <td>1</td>\n",
       "      <td>0</td>\n",
       "      <td>0</td>\n",
       "      <td>0</td>\n",
       "      <td>0</td>\n",
       "      <td>1</td>\n",
       "      <td>0</td>\n",
       "      <td>0</td>\n",
       "      <td>0</td>\n",
       "      <td>1</td>\n",
       "    </tr>\n",
       "    <tr>\n",
       "      <th>717</th>\n",
       "      <td>-1.432673</td>\n",
       "      <td>-1.02788</td>\n",
       "      <td>1.295972</td>\n",
       "      <td>1.912037</td>\n",
       "      <td>0.968603</td>\n",
       "      <td>-1.111503</td>\n",
       "      <td>1.177334</td>\n",
       "      <td>-1.202319</td>\n",
       "      <td>1.348757</td>\n",
       "      <td>1.017900</td>\n",
       "      <td>...</td>\n",
       "      <td>0</td>\n",
       "      <td>0</td>\n",
       "      <td>0</td>\n",
       "      <td>0</td>\n",
       "      <td>0</td>\n",
       "      <td>1</td>\n",
       "      <td>0</td>\n",
       "      <td>0</td>\n",
       "      <td>0</td>\n",
       "      <td>0</td>\n",
       "    </tr>\n",
       "    <tr>\n",
       "      <th>560</th>\n",
       "      <td>0.778316</td>\n",
       "      <td>-1.02788</td>\n",
       "      <td>-0.467255</td>\n",
       "      <td>-0.088349</td>\n",
       "      <td>0.968603</td>\n",
       "      <td>1.613912</td>\n",
       "      <td>1.177334</td>\n",
       "      <td>0.033999</td>\n",
       "      <td>-0.475428</td>\n",
       "      <td>-0.725308</td>\n",
       "      <td>...</td>\n",
       "      <td>0</td>\n",
       "      <td>0</td>\n",
       "      <td>0</td>\n",
       "      <td>0</td>\n",
       "      <td>0</td>\n",
       "      <td>1</td>\n",
       "      <td>0</td>\n",
       "      <td>0</td>\n",
       "      <td>0</td>\n",
       "      <td>1</td>\n",
       "    </tr>\n",
       "  </tbody>\n",
       "</table>\n",
       "<p>5 rows × 45 columns</p>\n",
       "</div>"
      ],
      "text/plain": [
       "     months_as_customer  policy_deductable  umbrella_limit  capital-gains  \\\n",
       "644            0.432849           -1.02788        1.736779      -0.909484   \n",
       "969            1.676530           -1.02788       -0.467255       1.600946   \n",
       "104            1.261969           -1.02788       -0.467255       0.917270   \n",
       "717           -1.432673           -1.02788        1.295972       1.912037   \n",
       "560            0.778316           -1.02788       -0.467255      -0.088349   \n",
       "\n",
       "     capital-loss  incident_hour_of_the_day  number_of_vehicles_involved  \\\n",
       "644     -1.691067                  1.613912                    -0.805544   \n",
       "969      0.968603                 -0.681175                    -0.805544   \n",
       "104      0.968603                  0.466369                     1.177334   \n",
       "717      0.968603                 -1.111503                     1.177334   \n",
       "560      0.968603                  1.613912                     1.177334   \n",
       "\n",
       "     bodily_injuries  witnesses  injury_claim  ...  insured_relationship_wife  \\\n",
       "644         1.270317   0.436664      0.457148  ...                          1   \n",
       "969         1.270317   1.348757     -1.395773  ...                          0   \n",
       "104        -1.202319  -1.387521      1.647731  ...                          1   \n",
       "717        -1.202319   1.348757      1.017900  ...                          0   \n",
       "560         0.033999  -0.475428     -0.725308  ...                          0   \n",
       "\n",
       "     incident_type_Parked Car  incident_type_Single Vehicle Collision  \\\n",
       "644                         0                                       1   \n",
       "969                         0                                       0   \n",
       "104                         0                                       0   \n",
       "717                         0                                       0   \n",
       "560                         0                                       0   \n",
       "\n",
       "     incident_type_Vehicle Theft  collision_type_Rear Collision  \\\n",
       "644                            0                              0   \n",
       "969                            1                              1   \n",
       "104                            0                              0   \n",
       "717                            0                              0   \n",
       "560                            0                              0   \n",
       "\n",
       "     collision_type_Side Collision  authorities_contacted_Fire  \\\n",
       "644                              0                           0   \n",
       "969                              0                           0   \n",
       "104                              1                           0   \n",
       "717                              1                           0   \n",
       "560                              1                           0   \n",
       "\n",
       "     authorities_contacted_None  authorities_contacted_Other  \\\n",
       "644                           0                            1   \n",
       "969                           0                            0   \n",
       "104                           0                            0   \n",
       "717                           0                            0   \n",
       "560                           0                            0   \n",
       "\n",
       "     authorities_contacted_Police  \n",
       "644                             0  \n",
       "969                             1  \n",
       "104                             1  \n",
       "717                             0  \n",
       "560                             1  \n",
       "\n",
       "[5 rows x 45 columns]"
      ]
     },
     "execution_count": 87,
     "metadata": {},
     "output_type": "execute_result"
    }
   ],
   "source": [
    "x_train.head()"
   ]
  },
  {
   "cell_type": "code",
   "execution_count": 88,
   "metadata": {},
   "outputs": [],
   "source": [
    "from sklearn.svm import SVC\n",
    "sv_classifier = SVC()"
   ]
  },
  {
   "cell_type": "code",
   "execution_count": 89,
   "metadata": {},
   "outputs": [],
   "source": [
    "y_pred = sv_classifier.fit(x_train,y_train).predict(x_test)"
   ]
  },
  {
   "cell_type": "code",
   "execution_count": 90,
   "metadata": {},
   "outputs": [],
   "source": [
    "from sklearn.metrics import accuracy_score"
   ]
  },
  {
   "cell_type": "code",
   "execution_count": 91,
   "metadata": {},
   "outputs": [
    {
     "data": {
      "text/plain": [
       "0.74"
      ]
     },
     "execution_count": 91,
     "metadata": {},
     "output_type": "execute_result"
    }
   ],
   "source": [
    "sc = accuracy_score(y_test,y_pred)\n",
    "sc"
   ]
  },
  {
   "cell_type": "code",
   "execution_count": 93,
   "metadata": {},
   "outputs": [],
   "source": [
    "from sklearn.model_selection import GridSearchCV"
   ]
  },
  {
   "cell_type": "code",
   "execution_count": 94,
   "metadata": {},
   "outputs": [],
   "source": [
    "param_grid = {\"kernel\":['rbf', 'sigmoid'],\n",
    "             \"C\":[0.1,0.5,1.0],\n",
    "             \"random_state\":[0,100,200,300]}"
   ]
  },
  {
   "cell_type": "code",
   "execution_count": 95,
   "metadata": {},
   "outputs": [],
   "source": [
    "grid = GridSearchCV(estimator=sv_classifier, param_grid=param_grid,cv=5,verbose=3)"
   ]
  },
  {
   "cell_type": "code",
   "execution_count": 96,
   "metadata": {},
   "outputs": [
    {
     "name": "stdout",
     "output_type": "stream",
     "text": [
      "Fitting 5 folds for each of 24 candidates, totalling 120 fits\n",
      "[CV] C=0.1, kernel=rbf, random_state=0 ...............................\n",
      "[CV] ... C=0.1, kernel=rbf, random_state=0, score=0.756, total=   0.1s\n",
      "[CV] C=0.1, kernel=rbf, random_state=0 ...............................\n",
      "[CV] ... C=0.1, kernel=rbf, random_state=0, score=0.756, total=   0.0s\n",
      "[CV] C=0.1, kernel=rbf, random_state=0 ...............................\n",
      "[CV] ... C=0.1, kernel=rbf, random_state=0, score=0.756, total=   0.0s\n",
      "[CV] C=0.1, kernel=rbf, random_state=0 ...............................\n"
     ]
    },
    {
     "name": "stderr",
     "output_type": "stream",
     "text": [
      "[Parallel(n_jobs=1)]: Using backend SequentialBackend with 1 concurrent workers.\n",
      "[Parallel(n_jobs=1)]: Done   1 out of   1 | elapsed:    0.0s remaining:    0.0s\n",
      "[Parallel(n_jobs=1)]: Done   2 out of   2 | elapsed:    0.0s remaining:    0.0s\n"
     ]
    },
    {
     "name": "stdout",
     "output_type": "stream",
     "text": [
      "[CV] ... C=0.1, kernel=rbf, random_state=0, score=0.756, total=   0.1s\n",
      "[CV] C=0.1, kernel=rbf, random_state=0 ...............................\n",
      "[CV] ... C=0.1, kernel=rbf, random_state=0, score=0.756, total=   0.1s\n",
      "[CV] C=0.1, kernel=rbf, random_state=100 .............................\n",
      "[CV] . C=0.1, kernel=rbf, random_state=100, score=0.756, total=   0.1s\n",
      "[CV] C=0.1, kernel=rbf, random_state=100 .............................\n",
      "[CV] . C=0.1, kernel=rbf, random_state=100, score=0.756, total=   0.0s\n",
      "[CV] C=0.1, kernel=rbf, random_state=100 .............................\n",
      "[CV] . C=0.1, kernel=rbf, random_state=100, score=0.756, total=   0.0s\n",
      "[CV] C=0.1, kernel=rbf, random_state=100 .............................\n",
      "[CV] . C=0.1, kernel=rbf, random_state=100, score=0.756, total=   0.0s\n",
      "[CV] C=0.1, kernel=rbf, random_state=100 .............................\n",
      "[CV] . C=0.1, kernel=rbf, random_state=100, score=0.756, total=   0.1s\n",
      "[CV] C=0.1, kernel=rbf, random_state=200 .............................\n",
      "[CV] . C=0.1, kernel=rbf, random_state=200, score=0.756, total=   0.0s\n",
      "[CV] C=0.1, kernel=rbf, random_state=200 .............................\n",
      "[CV] . C=0.1, kernel=rbf, random_state=200, score=0.756, total=   0.0s\n",
      "[CV] C=0.1, kernel=rbf, random_state=200 .............................\n",
      "[CV] . C=0.1, kernel=rbf, random_state=200, score=0.756, total=   0.0s\n",
      "[CV] C=0.1, kernel=rbf, random_state=200 .............................\n",
      "[CV] . C=0.1, kernel=rbf, random_state=200, score=0.756, total=   0.1s\n",
      "[CV] C=0.1, kernel=rbf, random_state=200 .............................\n",
      "[CV] . C=0.1, kernel=rbf, random_state=200, score=0.756, total=   0.0s\n",
      "[CV] C=0.1, kernel=rbf, random_state=300 .............................\n",
      "[CV] . C=0.1, kernel=rbf, random_state=300, score=0.756, total=   0.0s\n",
      "[CV] C=0.1, kernel=rbf, random_state=300 .............................\n",
      "[CV] . C=0.1, kernel=rbf, random_state=300, score=0.756, total=   0.0s\n",
      "[CV] C=0.1, kernel=rbf, random_state=300 .............................\n",
      "[CV] . C=0.1, kernel=rbf, random_state=300, score=0.756, total=   0.0s\n",
      "[CV] C=0.1, kernel=rbf, random_state=300 .............................\n",
      "[CV] . C=0.1, kernel=rbf, random_state=300, score=0.756, total=   0.0s\n",
      "[CV] C=0.1, kernel=rbf, random_state=300 .............................\n",
      "[CV] . C=0.1, kernel=rbf, random_state=300, score=0.756, total=   0.0s\n",
      "[CV] C=0.1, kernel=sigmoid, random_state=0 ...........................\n",
      "[CV]  C=0.1, kernel=sigmoid, random_state=0, score=0.756, total=   0.0s\n",
      "[CV] C=0.1, kernel=sigmoid, random_state=0 ...........................\n",
      "[CV]  C=0.1, kernel=sigmoid, random_state=0, score=0.756, total=   0.0s\n",
      "[CV] C=0.1, kernel=sigmoid, random_state=0 ...........................\n",
      "[CV]  C=0.1, kernel=sigmoid, random_state=0, score=0.756, total=   0.0s\n",
      "[CV] C=0.1, kernel=sigmoid, random_state=0 ...........................\n",
      "[CV]  C=0.1, kernel=sigmoid, random_state=0, score=0.756, total=   0.0s\n",
      "[CV] C=0.1, kernel=sigmoid, random_state=0 ...........................\n",
      "[CV]  C=0.1, kernel=sigmoid, random_state=0, score=0.756, total=   0.0s\n",
      "[CV] C=0.1, kernel=sigmoid, random_state=100 .........................\n",
      "[CV]  C=0.1, kernel=sigmoid, random_state=100, score=0.756, total=   0.0s\n",
      "[CV] C=0.1, kernel=sigmoid, random_state=100 .........................\n",
      "[CV]  C=0.1, kernel=sigmoid, random_state=100, score=0.756, total=   0.0s\n",
      "[CV] C=0.1, kernel=sigmoid, random_state=100 .........................\n",
      "[CV]  C=0.1, kernel=sigmoid, random_state=100, score=0.756, total=   0.0s\n",
      "[CV] C=0.1, kernel=sigmoid, random_state=100 .........................\n",
      "[CV]  C=0.1, kernel=sigmoid, random_state=100, score=0.756, total=   0.0s\n",
      "[CV] C=0.1, kernel=sigmoid, random_state=100 .........................\n",
      "[CV]  C=0.1, kernel=sigmoid, random_state=100, score=0.756, total=   0.0s\n",
      "[CV] C=0.1, kernel=sigmoid, random_state=200 .........................\n",
      "[CV]  C=0.1, kernel=sigmoid, random_state=200, score=0.756, total=   0.0s\n",
      "[CV] C=0.1, kernel=sigmoid, random_state=200 .........................\n",
      "[CV]  C=0.1, kernel=sigmoid, random_state=200, score=0.756, total=   0.0s\n",
      "[CV] C=0.1, kernel=sigmoid, random_state=200 .........................\n",
      "[CV]  C=0.1, kernel=sigmoid, random_state=200, score=0.756, total=   0.0s\n",
      "[CV] C=0.1, kernel=sigmoid, random_state=200 .........................\n",
      "[CV]  C=0.1, kernel=sigmoid, random_state=200, score=0.756, total=   0.0s\n",
      "[CV] C=0.1, kernel=sigmoid, random_state=200 .........................\n",
      "[CV]  C=0.1, kernel=sigmoid, random_state=200, score=0.756, total=   0.0s\n",
      "[CV] C=0.1, kernel=sigmoid, random_state=300 .........................\n",
      "[CV]  C=0.1, kernel=sigmoid, random_state=300, score=0.756, total=   0.0s\n",
      "[CV] C=0.1, kernel=sigmoid, random_state=300 .........................\n",
      "[CV]  C=0.1, kernel=sigmoid, random_state=300, score=0.756, total=   0.0s\n",
      "[CV] C=0.1, kernel=sigmoid, random_state=300 .........................\n",
      "[CV]  C=0.1, kernel=sigmoid, random_state=300, score=0.756, total=   0.0s\n",
      "[CV] C=0.1, kernel=sigmoid, random_state=300 .........................\n",
      "[CV]  C=0.1, kernel=sigmoid, random_state=300, score=0.756, total=   0.0s\n",
      "[CV] C=0.1, kernel=sigmoid, random_state=300 .........................\n",
      "[CV]  C=0.1, kernel=sigmoid, random_state=300, score=0.756, total=   0.0s\n",
      "[CV] C=0.5, kernel=rbf, random_state=0 ...............................\n",
      "[CV] ... C=0.5, kernel=rbf, random_state=0, score=0.756, total=   0.0s\n",
      "[CV] C=0.5, kernel=rbf, random_state=0 ...............................\n",
      "[CV] ... C=0.5, kernel=rbf, random_state=0, score=0.756, total=   0.1s\n",
      "[CV] C=0.5, kernel=rbf, random_state=0 ...............................\n",
      "[CV] ... C=0.5, kernel=rbf, random_state=0, score=0.756, total=   0.0s\n",
      "[CV] C=0.5, kernel=rbf, random_state=0 ...............................\n",
      "[CV] ... C=0.5, kernel=rbf, random_state=0, score=0.756, total=   0.0s\n",
      "[CV] C=0.5, kernel=rbf, random_state=0 ...............................\n",
      "[CV] ... C=0.5, kernel=rbf, random_state=0, score=0.756, total=   0.0s\n",
      "[CV] C=0.5, kernel=rbf, random_state=100 .............................\n",
      "[CV] . C=0.5, kernel=rbf, random_state=100, score=0.756, total=   0.0s\n",
      "[CV] C=0.5, kernel=rbf, random_state=100 .............................\n",
      "[CV] . C=0.5, kernel=rbf, random_state=100, score=0.756, total=   0.0s\n",
      "[CV] C=0.5, kernel=rbf, random_state=100 .............................\n",
      "[CV] . C=0.5, kernel=rbf, random_state=100, score=0.756, total=   0.0s\n",
      "[CV] C=0.5, kernel=rbf, random_state=100 .............................\n",
      "[CV] . C=0.5, kernel=rbf, random_state=100, score=0.756, total=   0.0s\n",
      "[CV] C=0.5, kernel=rbf, random_state=100 .............................\n",
      "[CV] . C=0.5, kernel=rbf, random_state=100, score=0.756, total=   0.0s\n",
      "[CV] C=0.5, kernel=rbf, random_state=200 .............................\n",
      "[CV] . C=0.5, kernel=rbf, random_state=200, score=0.756, total=   0.0s\n",
      "[CV] C=0.5, kernel=rbf, random_state=200 .............................\n",
      "[CV] . C=0.5, kernel=rbf, random_state=200, score=0.756, total=   0.0s\n",
      "[CV] C=0.5, kernel=rbf, random_state=200 .............................\n",
      "[CV] . C=0.5, kernel=rbf, random_state=200, score=0.756, total=   0.0s\n",
      "[CV] C=0.5, kernel=rbf, random_state=200 .............................\n",
      "[CV] . C=0.5, kernel=rbf, random_state=200, score=0.756, total=   0.0s\n",
      "[CV] C=0.5, kernel=rbf, random_state=200 .............................\n",
      "[CV] . C=0.5, kernel=rbf, random_state=200, score=0.756, total=   0.0s\n",
      "[CV] C=0.5, kernel=rbf, random_state=300 .............................\n",
      "[CV] . C=0.5, kernel=rbf, random_state=300, score=0.756, total=   0.0s\n",
      "[CV] C=0.5, kernel=rbf, random_state=300 .............................\n",
      "[CV] . C=0.5, kernel=rbf, random_state=300, score=0.756, total=   0.1s\n",
      "[CV] C=0.5, kernel=rbf, random_state=300 .............................\n",
      "[CV] . C=0.5, kernel=rbf, random_state=300, score=0.756, total=   0.1s\n",
      "[CV] C=0.5, kernel=rbf, random_state=300 .............................\n",
      "[CV] . C=0.5, kernel=rbf, random_state=300, score=0.756, total=   0.1s\n",
      "[CV] C=0.5, kernel=rbf, random_state=300 .............................\n",
      "[CV] . C=0.5, kernel=rbf, random_state=300, score=0.756, total=   0.0s\n",
      "[CV] C=0.5, kernel=sigmoid, random_state=0 ...........................\n",
      "[CV]  C=0.5, kernel=sigmoid, random_state=0, score=0.756, total=   0.0s\n",
      "[CV] C=0.5, kernel=sigmoid, random_state=0 ...........................\n",
      "[CV]  C=0.5, kernel=sigmoid, random_state=0, score=0.756, total=   0.0s\n",
      "[CV] C=0.5, kernel=sigmoid, random_state=0 ...........................\n",
      "[CV]  C=0.5, kernel=sigmoid, random_state=0, score=0.756, total=   0.0s\n",
      "[CV] C=0.5, kernel=sigmoid, random_state=0 ...........................\n",
      "[CV]  C=0.5, kernel=sigmoid, random_state=0, score=0.750, total=   0.0s\n",
      "[CV] C=0.5, kernel=sigmoid, random_state=0 ...........................\n",
      "[CV]  C=0.5, kernel=sigmoid, random_state=0, score=0.756, total=   0.0s\n",
      "[CV] C=0.5, kernel=sigmoid, random_state=100 .........................\n"
     ]
    },
    {
     "name": "stdout",
     "output_type": "stream",
     "text": [
      "[CV]  C=0.5, kernel=sigmoid, random_state=100, score=0.756, total=   0.0s\n",
      "[CV] C=0.5, kernel=sigmoid, random_state=100 .........................\n",
      "[CV]  C=0.5, kernel=sigmoid, random_state=100, score=0.756, total=   0.0s\n",
      "[CV] C=0.5, kernel=sigmoid, random_state=100 .........................\n",
      "[CV]  C=0.5, kernel=sigmoid, random_state=100, score=0.756, total=   0.0s\n",
      "[CV] C=0.5, kernel=sigmoid, random_state=100 .........................\n",
      "[CV]  C=0.5, kernel=sigmoid, random_state=100, score=0.750, total=   0.0s\n",
      "[CV] C=0.5, kernel=sigmoid, random_state=100 .........................\n",
      "[CV]  C=0.5, kernel=sigmoid, random_state=100, score=0.756, total=   0.0s\n",
      "[CV] C=0.5, kernel=sigmoid, random_state=200 .........................\n",
      "[CV]  C=0.5, kernel=sigmoid, random_state=200, score=0.756, total=   0.0s\n",
      "[CV] C=0.5, kernel=sigmoid, random_state=200 .........................\n",
      "[CV]  C=0.5, kernel=sigmoid, random_state=200, score=0.756, total=   0.0s\n",
      "[CV] C=0.5, kernel=sigmoid, random_state=200 .........................\n",
      "[CV]  C=0.5, kernel=sigmoid, random_state=200, score=0.756, total=   0.0s\n",
      "[CV] C=0.5, kernel=sigmoid, random_state=200 .........................\n",
      "[CV]  C=0.5, kernel=sigmoid, random_state=200, score=0.750, total=   0.0s\n",
      "[CV] C=0.5, kernel=sigmoid, random_state=200 .........................\n",
      "[CV]  C=0.5, kernel=sigmoid, random_state=200, score=0.756, total=   0.0s\n",
      "[CV] C=0.5, kernel=sigmoid, random_state=300 .........................\n",
      "[CV]  C=0.5, kernel=sigmoid, random_state=300, score=0.756, total=   0.0s\n",
      "[CV] C=0.5, kernel=sigmoid, random_state=300 .........................\n",
      "[CV]  C=0.5, kernel=sigmoid, random_state=300, score=0.756, total=   0.0s\n",
      "[CV] C=0.5, kernel=sigmoid, random_state=300 .........................\n",
      "[CV]  C=0.5, kernel=sigmoid, random_state=300, score=0.756, total=   0.0s\n",
      "[CV] C=0.5, kernel=sigmoid, random_state=300 .........................\n",
      "[CV]  C=0.5, kernel=sigmoid, random_state=300, score=0.750, total=   0.0s\n",
      "[CV] C=0.5, kernel=sigmoid, random_state=300 .........................\n",
      "[CV]  C=0.5, kernel=sigmoid, random_state=300, score=0.756, total=   0.0s\n",
      "[CV] C=1.0, kernel=rbf, random_state=0 ...............................\n",
      "[CV] ... C=1.0, kernel=rbf, random_state=0, score=0.756, total=   0.0s\n",
      "[CV] C=1.0, kernel=rbf, random_state=0 ...............................\n",
      "[CV] ... C=1.0, kernel=rbf, random_state=0, score=0.756, total=   0.0s\n",
      "[CV] C=1.0, kernel=rbf, random_state=0 ...............................\n",
      "[CV] ... C=1.0, kernel=rbf, random_state=0, score=0.756, total=   0.0s\n",
      "[CV] C=1.0, kernel=rbf, random_state=0 ...............................\n",
      "[CV] ... C=1.0, kernel=rbf, random_state=0, score=0.756, total=   0.1s\n",
      "[CV] C=1.0, kernel=rbf, random_state=0 ...............................\n",
      "[CV] ... C=1.0, kernel=rbf, random_state=0, score=0.756, total=   0.1s\n",
      "[CV] C=1.0, kernel=rbf, random_state=100 .............................\n",
      "[CV] . C=1.0, kernel=rbf, random_state=100, score=0.756, total=   0.0s\n",
      "[CV] C=1.0, kernel=rbf, random_state=100 .............................\n",
      "[CV] . C=1.0, kernel=rbf, random_state=100, score=0.756, total=   0.0s\n",
      "[CV] C=1.0, kernel=rbf, random_state=100 .............................\n",
      "[CV] . C=1.0, kernel=rbf, random_state=100, score=0.756, total=   0.0s\n",
      "[CV] C=1.0, kernel=rbf, random_state=100 .............................\n",
      "[CV] . C=1.0, kernel=rbf, random_state=100, score=0.756, total=   0.0s\n",
      "[CV] C=1.0, kernel=rbf, random_state=100 .............................\n",
      "[CV] . C=1.0, kernel=rbf, random_state=100, score=0.756, total=   0.0s\n",
      "[CV] C=1.0, kernel=rbf, random_state=200 .............................\n",
      "[CV] . C=1.0, kernel=rbf, random_state=200, score=0.756, total=   0.0s\n",
      "[CV] C=1.0, kernel=rbf, random_state=200 .............................\n",
      "[CV] . C=1.0, kernel=rbf, random_state=200, score=0.756, total=   0.1s\n",
      "[CV] C=1.0, kernel=rbf, random_state=200 .............................\n",
      "[CV] . C=1.0, kernel=rbf, random_state=200, score=0.756, total=   0.1s\n",
      "[CV] C=1.0, kernel=rbf, random_state=200 .............................\n",
      "[CV] . C=1.0, kernel=rbf, random_state=200, score=0.756, total=   0.1s\n",
      "[CV] C=1.0, kernel=rbf, random_state=200 .............................\n",
      "[CV] . C=1.0, kernel=rbf, random_state=200, score=0.756, total=   0.1s\n",
      "[CV] C=1.0, kernel=rbf, random_state=300 .............................\n",
      "[CV] . C=1.0, kernel=rbf, random_state=300, score=0.756, total=   0.1s\n",
      "[CV] C=1.0, kernel=rbf, random_state=300 .............................\n",
      "[CV] . C=1.0, kernel=rbf, random_state=300, score=0.756, total=   0.1s\n",
      "[CV] C=1.0, kernel=rbf, random_state=300 .............................\n",
      "[CV] . C=1.0, kernel=rbf, random_state=300, score=0.756, total=   0.1s\n",
      "[CV] C=1.0, kernel=rbf, random_state=300 .............................\n",
      "[CV] . C=1.0, kernel=rbf, random_state=300, score=0.756, total=   0.1s\n",
      "[CV] C=1.0, kernel=rbf, random_state=300 .............................\n",
      "[CV] . C=1.0, kernel=rbf, random_state=300, score=0.756, total=   0.0s\n",
      "[CV] C=1.0, kernel=sigmoid, random_state=0 ...........................\n",
      "[CV]  C=1.0, kernel=sigmoid, random_state=0, score=0.738, total=   0.0s\n",
      "[CV] C=1.0, kernel=sigmoid, random_state=0 ...........................\n",
      "[CV]  C=1.0, kernel=sigmoid, random_state=0, score=0.731, total=   0.1s\n",
      "[CV] C=1.0, kernel=sigmoid, random_state=0 ...........................\n",
      "[CV]  C=1.0, kernel=sigmoid, random_state=0, score=0.731, total=   0.1s\n",
      "[CV] C=1.0, kernel=sigmoid, random_state=0 ...........................\n",
      "[CV]  C=1.0, kernel=sigmoid, random_state=0, score=0.731, total=   0.0s\n",
      "[CV] C=1.0, kernel=sigmoid, random_state=0 ...........................\n",
      "[CV]  C=1.0, kernel=sigmoid, random_state=0, score=0.738, total=   0.1s\n",
      "[CV] C=1.0, kernel=sigmoid, random_state=100 .........................\n",
      "[CV]  C=1.0, kernel=sigmoid, random_state=100, score=0.738, total=   0.1s\n",
      "[CV] C=1.0, kernel=sigmoid, random_state=100 .........................\n",
      "[CV]  C=1.0, kernel=sigmoid, random_state=100, score=0.731, total=   0.1s\n",
      "[CV] C=1.0, kernel=sigmoid, random_state=100 .........................\n",
      "[CV]  C=1.0, kernel=sigmoid, random_state=100, score=0.731, total=   0.0s\n",
      "[CV] C=1.0, kernel=sigmoid, random_state=100 .........................\n",
      "[CV]  C=1.0, kernel=sigmoid, random_state=100, score=0.731, total=   0.0s\n",
      "[CV] C=1.0, kernel=sigmoid, random_state=100 .........................\n",
      "[CV]  C=1.0, kernel=sigmoid, random_state=100, score=0.738, total=   0.0s\n",
      "[CV] C=1.0, kernel=sigmoid, random_state=200 .........................\n",
      "[CV]  C=1.0, kernel=sigmoid, random_state=200, score=0.738, total=   0.0s\n",
      "[CV] C=1.0, kernel=sigmoid, random_state=200 .........................\n",
      "[CV]  C=1.0, kernel=sigmoid, random_state=200, score=0.731, total=   0.0s\n",
      "[CV] C=1.0, kernel=sigmoid, random_state=200 .........................\n",
      "[CV]  C=1.0, kernel=sigmoid, random_state=200, score=0.731, total=   0.0s\n",
      "[CV] C=1.0, kernel=sigmoid, random_state=200 .........................\n",
      "[CV]  C=1.0, kernel=sigmoid, random_state=200, score=0.731, total=   0.0s\n",
      "[CV] C=1.0, kernel=sigmoid, random_state=200 .........................\n",
      "[CV]  C=1.0, kernel=sigmoid, random_state=200, score=0.738, total=   0.0s\n",
      "[CV] C=1.0, kernel=sigmoid, random_state=300 .........................\n",
      "[CV]  C=1.0, kernel=sigmoid, random_state=300, score=0.738, total=   0.0s\n",
      "[CV] C=1.0, kernel=sigmoid, random_state=300 .........................\n",
      "[CV]  C=1.0, kernel=sigmoid, random_state=300, score=0.731, total=   0.0s\n",
      "[CV] C=1.0, kernel=sigmoid, random_state=300 .........................\n",
      "[CV]  C=1.0, kernel=sigmoid, random_state=300, score=0.731, total=   0.0s\n",
      "[CV] C=1.0, kernel=sigmoid, random_state=300 .........................\n",
      "[CV]  C=1.0, kernel=sigmoid, random_state=300, score=0.731, total=   0.0s\n",
      "[CV] C=1.0, kernel=sigmoid, random_state=300 .........................\n",
      "[CV]  C=1.0, kernel=sigmoid, random_state=300, score=0.738, total=   0.0s\n"
     ]
    },
    {
     "name": "stderr",
     "output_type": "stream",
     "text": [
      "[Parallel(n_jobs=1)]: Done 120 out of 120 | elapsed:    5.2s finished\n"
     ]
    },
    {
     "data": {
      "text/plain": [
       "GridSearchCV(cv=5, estimator=SVC(),\n",
       "             param_grid={'C': [0.1, 0.5, 1.0], 'kernel': ['rbf', 'sigmoid'],\n",
       "                         'random_state': [0, 100, 200, 300]},\n",
       "             verbose=3)"
      ]
     },
     "execution_count": 96,
     "metadata": {},
     "output_type": "execute_result"
    }
   ],
   "source": [
    "grid.fit(x_train,y_train)"
   ]
  },
  {
   "cell_type": "code",
   "execution_count": 98,
   "metadata": {},
   "outputs": [
    {
     "data": {
      "text/plain": [
       "SVC(C=0.1, random_state=0)"
      ]
     },
     "execution_count": 98,
     "metadata": {},
     "output_type": "execute_result"
    }
   ],
   "source": [
    "grid.best_estimator_"
   ]
  },
  {
   "cell_type": "code",
   "execution_count": 99,
   "metadata": {},
   "outputs": [
    {
     "data": {
      "text/plain": [
       "{'C': 0.1, 'kernel': 'rbf', 'random_state': 0}"
      ]
     },
     "execution_count": 99,
     "metadata": {},
     "output_type": "execute_result"
    }
   ],
   "source": [
    "grid.best_params_"
   ]
  },
  {
   "cell_type": "code",
   "execution_count": 108,
   "metadata": {},
   "outputs": [],
   "source": [
    "y_predict = grid.predict(x_test)"
   ]
  },
  {
   "cell_type": "code",
   "execution_count": 109,
   "metadata": {},
   "outputs": [
    {
     "data": {
      "text/plain": [
       "0.74"
      ]
     },
     "execution_count": 109,
     "metadata": {},
     "output_type": "execute_result"
    }
   ],
   "source": [
    "accuracy_score(y_test, y_predict)"
   ]
  },
  {
   "cell_type": "code",
   "execution_count": 100,
   "metadata": {},
   "outputs": [],
   "source": [
    "from xgboost import XGBClassifier\n",
    "xgb = XGBClassifier()"
   ]
  },
  {
   "cell_type": "code",
   "execution_count": 102,
   "metadata": {},
   "outputs": [],
   "source": [
    "y_preds = xgb.fit(x_train,y_train).predict(x_test)"
   ]
  },
  {
   "cell_type": "code",
   "execution_count": 103,
   "metadata": {},
   "outputs": [],
   "source": [
    "ac2 = accuracy_score(y_test,y_preds)"
   ]
  },
  {
   "cell_type": "code",
   "execution_count": 104,
   "metadata": {},
   "outputs": [
    {
     "data": {
      "text/plain": [
       "0.76"
      ]
     },
     "execution_count": 104,
     "metadata": {},
     "output_type": "execute_result"
    }
   ],
   "source": [
    "ac2"
   ]
  },
  {
   "cell_type": "code",
   "execution_count": 105,
   "metadata": {},
   "outputs": [],
   "source": [
    "param_grids = {\"n_estimators\":[10,50,100,130], \"criterion\":['gini','entropy'], \"max_depth\":range(2,10,1)}"
   ]
  },
  {
   "cell_type": "code",
   "execution_count": 106,
   "metadata": {},
   "outputs": [],
   "source": [
    "grid_search = GridSearchCV(estimator=xgb, param_grid=param_grids, cv=5, verbose=3,n_jobs=-1)"
   ]
  },
  {
   "cell_type": "code",
   "execution_count": 107,
   "metadata": {},
   "outputs": [
    {
     "name": "stdout",
     "output_type": "stream",
     "text": [
      "Fitting 5 folds for each of 64 candidates, totalling 320 fits\n"
     ]
    },
    {
     "name": "stderr",
     "output_type": "stream",
     "text": [
      "[Parallel(n_jobs=-1)]: Using backend LokyBackend with 4 concurrent workers.\n",
      "[Parallel(n_jobs=-1)]: Done  24 tasks      | elapsed:   16.7s\n",
      "[Parallel(n_jobs=-1)]: Done 120 tasks      | elapsed:   28.1s\n",
      "[Parallel(n_jobs=-1)]: Done 280 tasks      | elapsed:   42.4s\n"
     ]
    },
    {
     "name": "stdout",
     "output_type": "stream",
     "text": [
      "[16:18:02] WARNING: C:\\Users\\Administrator\\workspace\\xgboost-win64_release_1.1.0\\src\\learner.cc:480: \n",
      "Parameters: { criterion } might not be used.\n",
      "\n",
      "  This may not be accurate due to some parameters are only used in language bindings but\n",
      "  passed down to XGBoost core.  Or some parameters are not used but slip through this\n",
      "  verification. Please open an issue if you find above cases.\n",
      "\n",
      "\n"
     ]
    },
    {
     "name": "stderr",
     "output_type": "stream",
     "text": [
      "[Parallel(n_jobs=-1)]: Done 320 out of 320 | elapsed:   47.1s finished\n"
     ]
    },
    {
     "data": {
      "text/plain": [
       "GridSearchCV(cv=5,\n",
       "             estimator=XGBClassifier(base_score=0.5, booster='gbtree',\n",
       "                                     colsample_bylevel=1, colsample_bynode=1,\n",
       "                                     colsample_bytree=1, gamma=0, gpu_id=-1,\n",
       "                                     importance_type='gain',\n",
       "                                     interaction_constraints='',\n",
       "                                     learning_rate=0.300000012,\n",
       "                                     max_delta_step=0, max_depth=6,\n",
       "                                     min_child_weight=1, missing=nan,\n",
       "                                     monotone_constraints='()',\n",
       "                                     n_estimators=100, n_jobs=0,\n",
       "                                     num_parallel_tree=1, random_state=0,\n",
       "                                     reg_alpha=0, reg_lambda=1,\n",
       "                                     scale_pos_weight=1, subsample=1,\n",
       "                                     tree_method='exact', validate_parameters=1,\n",
       "                                     verbosity=None),\n",
       "             n_jobs=-1,\n",
       "             param_grid={'criterion': ['gini', 'entropy'],\n",
       "                         'max_depth': range(2, 10),\n",
       "                         'n_estimators': [10, 50, 100, 130]},\n",
       "             verbose=3)"
      ]
     },
     "execution_count": 107,
     "metadata": {},
     "output_type": "execute_result"
    }
   ],
   "source": [
    "grid_search.fit(x_train,y_train)"
   ]
  },
  {
   "cell_type": "code",
   "execution_count": 110,
   "metadata": {},
   "outputs": [
    {
     "data": {
      "text/plain": [
       "XGBClassifier(base_score=0.5, booster='gbtree', colsample_bylevel=1,\n",
       "              colsample_bynode=1, colsample_bytree=1, criterion='gini', gamma=0,\n",
       "              gpu_id=-1, importance_type='gain', interaction_constraints='',\n",
       "              learning_rate=0.300000012, max_delta_step=0, max_depth=2,\n",
       "              min_child_weight=1, missing=nan, monotone_constraints='()',\n",
       "              n_estimators=10, n_jobs=0, num_parallel_tree=1, random_state=0,\n",
       "              reg_alpha=0, reg_lambda=1, scale_pos_weight=1, subsample=1,\n",
       "              tree_method='exact', validate_parameters=1, verbosity=None)"
      ]
     },
     "execution_count": 110,
     "metadata": {},
     "output_type": "execute_result"
    }
   ],
   "source": [
    "grid_search.best_estimator_"
   ]
  },
  {
   "cell_type": "code",
   "execution_count": 111,
   "metadata": {},
   "outputs": [
    {
     "data": {
      "text/plain": [
       "{'criterion': 'gini', 'max_depth': 2, 'n_estimators': 10}"
      ]
     },
     "execution_count": 111,
     "metadata": {},
     "output_type": "execute_result"
    }
   ],
   "source": [
    "grid_search.best_params_"
   ]
  },
  {
   "cell_type": "code",
   "execution_count": 112,
   "metadata": {},
   "outputs": [],
   "source": [
    "y_predicted = grid_search.predict(x_test)"
   ]
  },
  {
   "cell_type": "code",
   "execution_count": 113,
   "metadata": {},
   "outputs": [
    {
     "data": {
      "text/plain": [
       "0.79"
      ]
     },
     "execution_count": 113,
     "metadata": {},
     "output_type": "execute_result"
    }
   ],
   "source": [
    "accuracy_score(y_test,y_predicted)"
   ]
  },
  {
   "cell_type": "code",
   "execution_count": null,
   "metadata": {},
   "outputs": [],
   "source": []
  }
 ],
 "metadata": {
  "kernelspec": {
   "display_name": "Python 3",
   "language": "python",
   "name": "python3"
  },
  "language_info": {
   "codemirror_mode": {
    "name": "ipython",
    "version": 3
   },
   "file_extension": ".py",
   "mimetype": "text/x-python",
   "name": "python",
   "nbconvert_exporter": "python",
   "pygments_lexer": "ipython3",
   "version": "3.7.4"
  }
 },
 "nbformat": 4,
 "nbformat_minor": 2
}
